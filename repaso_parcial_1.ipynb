{
 "cells": [
  {
   "cell_type": "code",
   "execution_count": 1,
   "metadata": {},
   "outputs": [],
   "source": [
    "import pandas as pd\n",
    "import numpy as np\n",
    "import vartools as vt"
   ]
  },
  {
   "cell_type": "markdown",
   "metadata": {},
   "source": [
    "## Ejercicio 1"
   ]
  },
  {
   "cell_type": "code",
   "execution_count": 2,
   "metadata": {},
   "outputs": [],
   "source": [
    "df = pd.read_excel('Repaso.xlsx')\n",
    "\n",
    "stocks = ['QQQ','VOO','VXX','ITOT']\n",
    "n_stocks = [3967, 1576, 1023, 2032]\n",
    "long = False\n",
    "conf = 99"
   ]
  },
  {
   "cell_type": "code",
   "execution_count": 3,
   "metadata": {},
   "outputs": [
    {
     "data": {
      "text/html": [
       "<div>\n",
       "<style scoped>\n",
       "    .dataframe tbody tr th:only-of-type {\n",
       "        vertical-align: middle;\n",
       "    }\n",
       "\n",
       "    .dataframe tbody tr th {\n",
       "        vertical-align: top;\n",
       "    }\n",
       "\n",
       "    .dataframe thead th {\n",
       "        text-align: right;\n",
       "    }\n",
       "</style>\n",
       "<table border=\"1\" class=\"dataframe\">\n",
       "  <thead>\n",
       "    <tr style=\"text-align: right;\">\n",
       "      <th></th>\n",
       "      <th>Métrica</th>\n",
       "      <th>Porcentaje</th>\n",
       "      <th>cash</th>\n",
       "    </tr>\n",
       "  </thead>\n",
       "  <tbody>\n",
       "    <tr>\n",
       "      <th>0</th>\n",
       "      <td>VaR</td>\n",
       "      <td>0.0239</td>\n",
       "      <td>58,450.6747</td>\n",
       "    </tr>\n",
       "    <tr>\n",
       "      <th>1</th>\n",
       "      <td>cVaR</td>\n",
       "      <td>0.0259</td>\n",
       "      <td>63,322.6158</td>\n",
       "    </tr>\n",
       "  </tbody>\n",
       "</table>\n",
       "</div>"
      ],
      "text/plain": [
       "  Métrica  Porcentaje        cash\n",
       "0     VaR      0.0239 58,450.6747\n",
       "1    cVaR      0.0259 63,322.6158"
      ]
     },
     "execution_count": 3,
     "metadata": {},
     "output_type": "execute_result"
    }
   ],
   "source": [
    "vt.var_stocks(df, n_stocks, 99, long, stocks)"
   ]
  },
  {
   "cell_type": "code",
   "execution_count": 4,
   "metadata": {},
   "outputs": [
    {
     "data": {
      "text/plain": [
       "QQQ    0.6362\n",
       "VOO    0.2725\n",
       "VXX    0.0070\n",
       "ITOT   0.0843\n",
       "Name: 235, dtype: float64"
      ]
     },
     "execution_count": 4,
     "metadata": {},
     "output_type": "execute_result"
    }
   ],
   "source": [
    "df = df[stocks]\n",
    "last_price = df.iloc[-1]\n",
    "pv = np.sum(last_price * n_stocks)\n",
    "\n",
    "(last_price * n_stocks) / pv"
   ]
  },
  {
   "cell_type": "code",
   "execution_count": 5,
   "metadata": {},
   "outputs": [
    {
     "data": {
      "text/html": [
       "<div>\n",
       "<style scoped>\n",
       "    .dataframe tbody tr th:only-of-type {\n",
       "        vertical-align: middle;\n",
       "    }\n",
       "\n",
       "    .dataframe tbody tr th {\n",
       "        vertical-align: top;\n",
       "    }\n",
       "\n",
       "    .dataframe thead th {\n",
       "        text-align: right;\n",
       "    }\n",
       "</style>\n",
       "<table border=\"1\" class=\"dataframe\">\n",
       "  <thead>\n",
       "    <tr style=\"text-align: right;\">\n",
       "      <th></th>\n",
       "      <th>QQQ</th>\n",
       "      <th>VOO</th>\n",
       "      <th>VXX</th>\n",
       "      <th>ITOT</th>\n",
       "    </tr>\n",
       "  </thead>\n",
       "  <tbody>\n",
       "    <tr>\n",
       "      <th>QQQ</th>\n",
       "      <td>1.0000</td>\n",
       "      <td>0.9175</td>\n",
       "      <td>-0.6241</td>\n",
       "      <td>0.9020</td>\n",
       "    </tr>\n",
       "    <tr>\n",
       "      <th>VOO</th>\n",
       "      <td>0.9175</td>\n",
       "      <td>1.0000</td>\n",
       "      <td>-0.7325</td>\n",
       "      <td>0.9945</td>\n",
       "    </tr>\n",
       "    <tr>\n",
       "      <th>VXX</th>\n",
       "      <td>-0.6241</td>\n",
       "      <td>-0.7325</td>\n",
       "      <td>1.0000</td>\n",
       "      <td>-0.7395</td>\n",
       "    </tr>\n",
       "    <tr>\n",
       "      <th>ITOT</th>\n",
       "      <td>0.9020</td>\n",
       "      <td>0.9945</td>\n",
       "      <td>-0.7395</td>\n",
       "      <td>1.0000</td>\n",
       "    </tr>\n",
       "  </tbody>\n",
       "</table>\n",
       "</div>"
      ],
      "text/plain": [
       "         QQQ     VOO     VXX    ITOT\n",
       "QQQ   1.0000  0.9175 -0.6241  0.9020\n",
       "VOO   0.9175  1.0000 -0.7325  0.9945\n",
       "VXX  -0.6241 -0.7325  1.0000 -0.7395\n",
       "ITOT  0.9020  0.9945 -0.7395  1.0000"
      ]
     },
     "execution_count": 5,
     "metadata": {},
     "output_type": "execute_result"
    }
   ],
   "source": [
    "df = df[['QQQ','VOO','VXX','ITOT']]\n",
    "rt = df.pct_change().dropna()\n",
    "rt.corr()"
   ]
  },
  {
   "cell_type": "markdown",
   "metadata": {},
   "source": [
    "## Ejericio 3"
   ]
  },
  {
   "cell_type": "code",
   "execution_count": 6,
   "metadata": {},
   "outputs": [],
   "source": [
    "df = pd.read_excel('Repaso.xlsx', sheet_name=2)\n",
    "long = True\n",
    "currencies = ['CHFMXN=X','JPYMXN=X','USDMXN=X']\n",
    "conf = 95\n",
    "positions = [2300000, 23500000, 2500000]"
   ]
  },
  {
   "cell_type": "code",
   "execution_count": 7,
   "metadata": {},
   "outputs": [
    {
     "data": {
      "text/html": [
       "<div>\n",
       "<style scoped>\n",
       "    .dataframe tbody tr th:only-of-type {\n",
       "        vertical-align: middle;\n",
       "    }\n",
       "\n",
       "    .dataframe tbody tr th {\n",
       "        vertical-align: top;\n",
       "    }\n",
       "\n",
       "    .dataframe thead th {\n",
       "        text-align: right;\n",
       "    }\n",
       "</style>\n",
       "<table border=\"1\" class=\"dataframe\">\n",
       "  <thead>\n",
       "    <tr style=\"text-align: right;\">\n",
       "      <th></th>\n",
       "      <th>Métrica</th>\n",
       "      <th>Porcentual</th>\n",
       "      <th>Cash</th>\n",
       "    </tr>\n",
       "  </thead>\n",
       "  <tbody>\n",
       "    <tr>\n",
       "      <th>0</th>\n",
       "      <td>VaR</td>\n",
       "      <td>0.0108</td>\n",
       "      <td>992,484.2714</td>\n",
       "    </tr>\n",
       "    <tr>\n",
       "      <th>1</th>\n",
       "      <td>cVaR</td>\n",
       "      <td>0.0130</td>\n",
       "      <td>1,192,615.0249</td>\n",
       "    </tr>\n",
       "  </tbody>\n",
       "</table>\n",
       "</div>"
      ],
      "text/plain": [
       "  Métrica  Porcentual           Cash\n",
       "0     VaR      0.0108   992,484.2714\n",
       "1    cVaR      0.0130 1,192,615.0249"
      ]
     },
     "execution_count": 7,
     "metadata": {},
     "output_type": "execute_result"
    }
   ],
   "source": [
    "vt.var_forex(df, positions, conf, long, currencies)"
   ]
  },
  {
   "cell_type": "markdown",
   "metadata": {},
   "source": [
    "## Ejercico 4"
   ]
  },
  {
   "cell_type": "code",
   "execution_count": 8,
   "metadata": {},
   "outputs": [],
   "source": [
    "# Write in order S, K, r, sigma, T, N (money invested in each option)\n",
    "\n",
    "info_call = [[462, 465, 0.0528, 0.17, 1/12, 10],\n",
    "             [462, 470, 0.0528, 0.16, 1/12, 12],\n",
    "             [462, 475, 0.0528, 0.15, 1/12, 17],\n",
    "             [462, 465, 0.0523, 0.21, 3/12, 18],\n",
    "             [462, 470, 0.0523, 0.2, 3/12, 20],\n",
    "             [462, 475, 0.0523, 0.19, 3/12, 12],\n",
    "             [462, 465, 0.0505, 0.22, 6/12, 16],\n",
    "             [462, 470, 0.0505, 0.21, 6/12, 14],\n",
    "             [462, 475, 0.0505, 0.20, 6/12, 11]]\n",
    "\n",
    "info_put = [[462, 450, 0.0528, 0.24, 1/12, 26],\n",
    "             [462, 445, 0.0528, 0.22, 1/12, 18],\n",
    "             [462, 440, 0.0528, 0.20, 1/12, 14],\n",
    "             [462, 450, 0.0523, 0.25, 3/12, 21],\n",
    "             [462, 445, 0.0523, 0.24, 3/12, 26],\n",
    "             [462, 440, 0.0523, 0.23, 3/12, 32],\n",
    "             [462, 450, 0.0505, 0.26, 6/12, 17],\n",
    "             [462, 445, 0.0505, 0.25, 6/12, 35],\n",
    "             [462, 440, 0.0505, 0.24, 6/12, 43]]"
   ]
  },
  {
   "cell_type": "code",
   "execution_count": 9,
   "metadata": {},
   "outputs": [
    {
     "data": {
      "text/plain": [
       "-6.971953653074316"
      ]
     },
     "execution_count": 9,
     "metadata": {},
     "output_type": "execute_result"
    }
   ],
   "source": [
    "vt.BlackScholes().delta_hedge(info_call, info_put)"
   ]
  }
 ],
 "metadata": {
  "kernelspec": {
   "display_name": "base",
   "language": "python",
   "name": "python3"
  },
  "language_info": {
   "codemirror_mode": {
    "name": "ipython",
    "version": 3
   },
   "file_extension": ".py",
   "mimetype": "text/x-python",
   "name": "python",
   "nbconvert_exporter": "python",
   "pygments_lexer": "ipython3",
   "version": "3.12.3"
  }
 },
 "nbformat": 4,
 "nbformat_minor": 2
}
