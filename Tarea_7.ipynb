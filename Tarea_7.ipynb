{
 "cells": [
  {
   "cell_type": "code",
   "execution_count": 1,
   "id": "b90ba386",
   "metadata": {},
   "outputs": [],
   "source": [
    "import numpy as np"
   ]
  },
  {
   "cell_type": "code",
   "execution_count": 2,
   "id": "459d6f11",
   "metadata": {},
   "outputs": [],
   "source": [
    "def TRS(n_bonds: np.array, coupons: np.array, initial_prices: np.array, final_prices: np.array, fixed_rate: float, t: int, pay_total_return: bool):\n",
    "\n",
    "    initial_value = np.dot(n_bonds, initial_prices)\n",
    "    final_value = np.dot(n_bonds, final_prices)\n",
    "    cuopons_pay = np.sum(100 * n_bonds * coupons/t)\n",
    "    total_return = final_value - initial_value + cuopons_pay\n",
    "    fixed_rate_pay = initial_value * fixed_rate / t\n",
    "\n",
    "    return fixed_rate_pay - total_return if pay_total_return else total_return - fixed_rate_pay"
   ]
  },
  {
   "cell_type": "code",
   "execution_count": 3,
   "id": "0e18b8d0",
   "metadata": {},
   "outputs": [],
   "source": [
    "n_bonds = np.array([58_000, 85_000])\n",
    "coupons = np.array([0.032, 0.04])\n",
    "initial_prices = np.array([98.75, 80.30])\n",
    "final_prices = np.array([100.42, 101.81])\n",
    "fixed_rate = 0.0380\n",
    "t = 2\n",
    "pay_total_return = False"
   ]
  },
  {
   "cell_type": "code",
   "execution_count": 4,
   "id": "c9b17f18",
   "metadata": {},
   "outputs": [
    {
     "data": {
      "text/plain": [
       "1949503.0"
      ]
     },
     "execution_count": 4,
     "metadata": {},
     "output_type": "execute_result"
    }
   ],
   "source": [
    "vn_100 = TRS(n_bonds, coupons, initial_prices, final_prices, fixed_rate, t, pay_total_return)\n",
    "vn_100"
   ]
  },
  {
   "cell_type": "code",
   "execution_count": 5,
   "id": "cddab483",
   "metadata": {},
   "outputs": [],
   "source": [
    "def TRS_1000(n_bonds: np.array, coupons: np.array, initial_prices: np.array, final_prices: np.array, fixed_rate: float, t: int, pay_total_return: bool):\n",
    "\n",
    "    initial_value = np.dot(n_bonds, initial_prices)\n",
    "    final_value = np.dot(n_bonds, final_prices)\n",
    "    cuopons_pay = np.sum(1000 * n_bonds * coupons/t)\n",
    "    total_return = final_value - initial_value + cuopons_pay\n",
    "    fixed_rate_pay = initial_value * fixed_rate / t\n",
    "\n",
    "    return fixed_rate_pay - total_return if pay_total_return else total_return - fixed_rate_pay"
   ]
  },
  {
   "cell_type": "code",
   "execution_count": 6,
   "id": "d358480f",
   "metadata": {},
   "outputs": [],
   "source": [
    "n_bonds = np.array([12_000])\n",
    "coupons = np.array([0.035])\n",
    "initial_prices = np.array([1002.45])\n",
    "final_prices = np.array([1003.40])\n",
    "fixed_rate = 0.0380\n",
    "t = 2\n",
    "pay_total_return = False"
   ]
  },
  {
   "cell_type": "code",
   "execution_count": 7,
   "id": "b6f3930e",
   "metadata": {},
   "outputs": [
    {
     "data": {
      "text/plain": [
       "-7158.599999999977"
      ]
     },
     "execution_count": 7,
     "metadata": {},
     "output_type": "execute_result"
    }
   ],
   "source": [
    "vn_1000 = TRS_1000(n_bonds, coupons, initial_prices, final_prices, fixed_rate, t, pay_total_return)\n",
    "vn_1000"
   ]
  },
  {
   "cell_type": "code",
   "execution_count": 8,
   "id": "dc1e3ceb",
   "metadata": {},
   "outputs": [
    {
     "data": {
      "text/plain": [
       "1942344.4"
      ]
     },
     "execution_count": 8,
     "metadata": {},
     "output_type": "execute_result"
    }
   ],
   "source": [
    "vn_100 + vn_1000"
   ]
  }
 ],
 "metadata": {
  "kernelspec": {
   "display_name": "base",
   "language": "python",
   "name": "python3"
  },
  "language_info": {
   "codemirror_mode": {
    "name": "ipython",
    "version": 3
   },
   "file_extension": ".py",
   "mimetype": "text/x-python",
   "name": "python",
   "nbconvert_exporter": "python",
   "pygments_lexer": "ipython3",
   "version": "3.12.3"
  }
 },
 "nbformat": 4,
 "nbformat_minor": 5
}
