{
 "cells": [
  {
   "cell_type": "markdown",
   "metadata": {
    "vscode": {
     "languageId": "plaintext"
    }
   },
   "source": [
    "## Ejercicio 1: Función VaR y ES"
   ]
  },
  {
   "cell_type": "code",
   "execution_count": 1,
   "metadata": {},
   "outputs": [],
   "source": [
    "import numpy as np\n",
    "import pandas as pd\n",
    "import yfinance as yf\n",
    "from IPython.display import display\n",
    "from scipy.optimize import minimize\n",
    "\n",
    "pd.set_option('display.float_format', '{:,.2f}'.format)"
   ]
  },
  {
   "cell_type": "code",
   "execution_count": 2,
   "metadata": {},
   "outputs": [],
   "source": [
    "def var_stocks(data, n_stocks, conf, long):\n",
    "    rt = data.pct_change().dropna()\n",
    "    stock_value = n_stocks * data.iloc[-1]\n",
    "    portfolio_value = stock_value.sum()\n",
    "    w = stock_value / portfolio_value\n",
    "    portfolio_return = np.dot(w, rt.T)\n",
    "\n",
    "    if long == 1:\n",
    "\n",
    "        var_pct = np.percentile(portfolio_return, 100-conf)\n",
    "        cvar_pct = np.abs(portfolio_return[portfolio_return < var_pct].mean())\n",
    "\n",
    "        var_cash = portfolio_value * np.abs(var_pct)\n",
    "        cvar_cash = portfolio_value * cvar_pct\n",
    "\n",
    "    else:\n",
    "        \n",
    "        var_pct = np.percentile(portfolio_return, conf)\n",
    "        cvar_pct = portfolio_return[portfolio_return > var_pct].mean()\n",
    "\n",
    "        var_cash = portfolio_value * var_pct\n",
    "        cvar_cash = portfolio_value * cvar_pct\n",
    "\n",
    "    var_stocks_df = pd.DataFrame({\n",
    "        \"Métrica\": [\"VaR\", \"cVaR\"],\n",
    "        \"Porcentaje\": [np.abs(var_pct), cvar_pct],\n",
    "        \"cash\": [var_cash, cvar_cash]\n",
    "    })\n",
    "\n",
    "    return var_stocks_df"
   ]
  },
  {
   "cell_type": "code",
   "execution_count": 3,
   "metadata": {},
   "outputs": [
    {
     "name": "stderr",
     "output_type": "stream",
     "text": [
      "[*********************100%***********************]  5 of 5 completed\n"
     ]
    }
   ],
   "source": [
    "stocks = [\"AAPL\", \"TSLA\", \"AMD\", \"LMT\", \"JPM\"]\n",
    "data=yf.download(stocks, start=\"2020-01-01\", end=\"2023-01-01\")['Adj Close'][stocks]\n",
    "\n",
    "n_stocks =[2193, 1211, 3221, 761, 1231]\n",
    "conf = 95\n",
    "long = True"
   ]
  },
  {
   "cell_type": "code",
   "execution_count": 4,
   "metadata": {},
   "outputs": [
    {
     "data": {
      "text/html": [
       "<div>\n",
       "<style scoped>\n",
       "    .dataframe tbody tr th:only-of-type {\n",
       "        vertical-align: middle;\n",
       "    }\n",
       "\n",
       "    .dataframe tbody tr th {\n",
       "        vertical-align: top;\n",
       "    }\n",
       "\n",
       "    .dataframe thead th {\n",
       "        text-align: right;\n",
       "    }\n",
       "</style>\n",
       "<table border=\"1\" class=\"dataframe\">\n",
       "  <thead>\n",
       "    <tr style=\"text-align: right;\">\n",
       "      <th></th>\n",
       "      <th>Métrica</th>\n",
       "      <th>Porcentaje</th>\n",
       "      <th>cash</th>\n",
       "    </tr>\n",
       "  </thead>\n",
       "  <tbody>\n",
       "    <tr>\n",
       "      <th>0</th>\n",
       "      <td>VaR</td>\n",
       "      <td>0.03</td>\n",
       "      <td>33,073.78</td>\n",
       "    </tr>\n",
       "    <tr>\n",
       "      <th>1</th>\n",
       "      <td>cVaR</td>\n",
       "      <td>0.05</td>\n",
       "      <td>53,131.45</td>\n",
       "    </tr>\n",
       "  </tbody>\n",
       "</table>\n",
       "</div>"
      ],
      "text/plain": [
       "  Métrica  Porcentaje      cash\n",
       "0     VaR        0.03 33,073.78\n",
       "1    cVaR        0.05 53,131.45"
      ]
     },
     "execution_count": 4,
     "metadata": {},
     "output_type": "execute_result"
    }
   ],
   "source": [
    "var_stocks(data, n_stocks, conf, long)"
   ]
  },
  {
   "cell_type": "markdown",
   "metadata": {},
   "source": [
    "## Ejercicio 2: Rebalanceo de portafolios"
   ]
  },
  {
   "cell_type": "code",
   "execution_count": 5,
   "metadata": {},
   "outputs": [],
   "source": [
    "rt = data.pct_change().dropna()\n",
    "stock_value = n_stocks * data.iloc[-1]\n",
    "portfolio_value = stock_value.sum()\n",
    "w_original = stock_value / portfolio_value\n",
    "target = 30000"
   ]
  },
  {
   "cell_type": "code",
   "execution_count": 6,
   "metadata": {},
   "outputs": [],
   "source": [
    "def opt_target_var(weights):\n",
    "\n",
    "    def get_var(weights):\n",
    "        return np.abs(np.percentile(np.dot(weights, rt.T), 100-conf)) * portfolio_value if long else np.percentile(np.dot(weights, rt.T), conf) * portfolio_value\n",
    "\n",
    "    # Restricciones\n",
    "    constraints = [\n",
    "        {\"type\": \"eq\", \"fun\": lambda w: np.sum(w) - 1},\n",
    "        {\"type\": \"eq\", \"fun\": lambda w: get_var(w) - target}\n",
    "    ]\n",
    "\n",
    "    bounds = tuple((0, 1) for _ in range(len(n_stocks)))\n",
    "    initial_guess = np.ones(len(n_stocks)) / len(n_stocks)\n",
    "\n",
    "    # Optimización\n",
    "    result = minimize(\n",
    "        fun=get_var,\n",
    "        x0=initial_guess,\n",
    "        method=\"SLSQP\",\n",
    "        bounds=bounds,\n",
    "        constraints=constraints,\n",
    "        tol=1e-8\n",
    "    )\n",
    "\n",
    "    opt_weights = result.x\n",
    "\n",
    "    return opt_weights, get_var(opt_weights)"
   ]
  },
  {
   "cell_type": "code",
   "execution_count": 7,
   "metadata": {},
   "outputs": [],
   "source": [
    "opt_weights, opt_var = opt_target_var(w_original)"
   ]
  },
  {
   "cell_type": "code",
   "execution_count": 8,
   "metadata": {},
   "outputs": [],
   "source": [
    "def rebalanceo(w_original, opt_weights):\n",
    "    w_df = pd.DataFrame({\n",
    "    \"Peso Original\": w_original,\n",
    "    \"Peso Óptimo\": opt_weights,\n",
    "    \"Acciones (C/V)\" : np.floor((opt_weights-w_original) * portfolio_value / data.iloc[-1])\n",
    "    })\n",
    "    return print(f'VaR con pesos óptimos: ${opt_var:.2f}'), display(w_df.T)"
   ]
  },
  {
   "cell_type": "code",
   "execution_count": 9,
   "metadata": {},
   "outputs": [
    {
     "name": "stdout",
     "output_type": "stream",
     "text": [
      "VaR con pesos óptimos: $30000.00\n"
     ]
    },
    {
     "data": {
      "text/html": [
       "<div>\n",
       "<style scoped>\n",
       "    .dataframe tbody tr th:only-of-type {\n",
       "        vertical-align: middle;\n",
       "    }\n",
       "\n",
       "    .dataframe tbody tr th {\n",
       "        vertical-align: top;\n",
       "    }\n",
       "\n",
       "    .dataframe thead th {\n",
       "        text-align: right;\n",
       "    }\n",
       "</style>\n",
       "<table border=\"1\" class=\"dataframe\">\n",
       "  <thead>\n",
       "    <tr style=\"text-align: right;\">\n",
       "      <th>Ticker</th>\n",
       "      <th>AAPL</th>\n",
       "      <th>TSLA</th>\n",
       "      <th>AMD</th>\n",
       "      <th>LMT</th>\n",
       "      <th>JPM</th>\n",
       "    </tr>\n",
       "  </thead>\n",
       "  <tbody>\n",
       "    <tr>\n",
       "      <th>Peso Original</th>\n",
       "      <td>0.25</td>\n",
       "      <td>0.13</td>\n",
       "      <td>0.18</td>\n",
       "      <td>0.31</td>\n",
       "      <td>0.14</td>\n",
       "    </tr>\n",
       "    <tr>\n",
       "      <th>Peso Óptimo</th>\n",
       "      <td>0.33</td>\n",
       "      <td>0.15</td>\n",
       "      <td>0.06</td>\n",
       "      <td>0.46</td>\n",
       "      <td>0.00</td>\n",
       "    </tr>\n",
       "    <tr>\n",
       "      <th>Acciones (C/V)</th>\n",
       "      <td>762.00</td>\n",
       "      <td>188.00</td>\n",
       "      <td>-2,167.00</td>\n",
       "      <td>373.00</td>\n",
       "      <td>-1,212.00</td>\n",
       "    </tr>\n",
       "  </tbody>\n",
       "</table>\n",
       "</div>"
      ],
      "text/plain": [
       "Ticker           AAPL   TSLA       AMD    LMT       JPM\n",
       "Peso Original    0.25   0.13      0.18   0.31      0.14\n",
       "Peso Óptimo      0.33   0.15      0.06   0.46      0.00\n",
       "Acciones (C/V) 762.00 188.00 -2,167.00 373.00 -1,212.00"
      ]
     },
     "metadata": {},
     "output_type": "display_data"
    },
    {
     "data": {
      "text/plain": [
       "(None, None)"
      ]
     },
     "execution_count": 9,
     "metadata": {},
     "output_type": "execute_result"
    }
   ],
   "source": [
    "rebalanceo(w_original, opt_weights)"
   ]
  },
  {
   "cell_type": "markdown",
   "metadata": {},
   "source": [
    "Para rebalancear el portafolio para tener nuestro VaR objetivo de $30,000 se realiza lo siguiente:\n",
    "\n",
    "- Comprar 763 acciones de APPL.\n",
    "- Comprar 188 acciones de TSLA. \n",
    "- Vender 2167 acciones de AMD.\n",
    "- Comprar 373 acciones de LMT.\n",
    "- Vender 1212 acciones de JPM."
   ]
  },
  {
   "cell_type": "markdown",
   "metadata": {},
   "source": [
    "## Ejercicio 3: Investigación conceptual"
   ]
  },
  {
   "cell_type": "markdown",
   "metadata": {},
   "source": [
    "**Inciso a)**\n",
    "\n",
    "- **¿Cuál es el objetivo principal del rebalanceo?**\n",
    "\n",
    "Mantener el porcentaje asignado a los activos en línea con tu estrategia de inversión inicial, ajustándolos para que puedan cumplir tus objetivos de inversión y que el riesgo se matenga dentro de un nivel que consideres adecuado. En general ayuda a gestionar el riesgo de portafolio y evita una exposición excesiva a activos volátiles.\n",
    "\n",
    "- **¿Por qué es importante implementarlo de manera sistemática?**\n",
    "\n",
    "Evita el factor de la emociones en la toma de decisiones de inversión, pues ya hay reglas establecidas para hacer el rebalanceo, permite un buen monitoreo del portafolio y ayuda a mantenerlo en línea con tu estrategia de inversión y objetivos."
   ]
  },
  {
   "cell_type": "markdown",
   "metadata": {},
   "source": [
    "**Inciso b)**\n",
    "\n",
    "- **¿Qué decisiones forman parte de una estrategia de rebalanceo?**\n",
    "\n",
    "Definir la frecuencia de rebalanceo del portafolio, determinar si es necesario algún umbral de desviación máxima respecto a la estrategia y el nivel de ajuste que se hará al portafolio, ya sea total o parcial. Esto dependiendo de tus objetivos de inversión, aversión al riesgo, el plazo de inversión que tengas pensado, el nivel de ahorro que desees lograr y la exposición deseada hacia ciertos tipos de activos.\n",
    "\n",
    "- **¿Cuáles son los métodos principales para realizar rebalanceos de forma sistemática?**\n",
    "    - **Basado en el calendario:** Determinar un plazo de tiempo específico para hacer el rebalanceo de forma periódica. (trimestral, semestral, anual, etc.)\n",
    "    - **Basado en un umbral:** Rebalancear solo si cruza un nivel de desviación máximo permitido.\n",
    "    - **Combinación de ambos:** Monitorear por peridos de tiempo fijo y rebalancear si se desvía más de lo permitido de la asignación de activos establecida.\n"
   ]
  },
  {
   "cell_type": "markdown",
   "metadata": {},
   "source": [
    "**Inciso c)**\n",
    "\n",
    "- Además del rendimiento, riesgo y objetivos, ¿qué otro factor puede tener un gran impacto en el desempeño de un portafolio al\n",
    "rebalancearlo?\n",
    "\n",
    "Los costos de transacción pueden tener un efecto dañino en el rebalanceo, sobre todo en momentos de volatilidad alta, además de impuestos que se deban de pagar sobre ganancias de capital al momento de rebalanceo."
   ]
  },
  {
   "cell_type": "markdown",
   "metadata": {},
   "source": [
    "**Inciso d)**\n",
    "\n",
    "- ¿Qué recomendaciones propone Vanguard para reducir los costos fiscales en un portafolio?\n",
    "\n",
    "Rebalancear de forma menos frecuente, por ejemplo anual, además de hacer rebalanceos parciales enfocándose en ativos que estén muy por debajo o por encima de su objetivo.\n",
    "\n",
    "- ¿Qué es el tax loss harvesting?\n",
    "\n",
    "Busca aprovechar las pérdidas fiscales de tus activos, vendes activos depreciados para compensar las ganacias de capital de otros activos, lo cual reduce la carga fiscal. Por ejemplo, si perdiste $\\$1000$ en una acción, las vendes para realizar la pérdida que compensa una ganancia de $\\$1000$ sobre otro activo, dejando una ganancia neta de $\\$0$ lo cual no pagaría impuestos."
   ]
  }
 ],
 "metadata": {
  "kernelspec": {
   "display_name": "base",
   "language": "python",
   "name": "python3"
  },
  "language_info": {
   "codemirror_mode": {
    "name": "ipython",
    "version": 3
   },
   "file_extension": ".py",
   "mimetype": "text/x-python",
   "name": "python",
   "nbconvert_exporter": "python",
   "pygments_lexer": "ipython3",
   "version": "3.12.3"
  }
 },
 "nbformat": 4,
 "nbformat_minor": 2
}
