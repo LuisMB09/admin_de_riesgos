{
 "cells": [
  {
   "cell_type": "markdown",
   "metadata": {
    "vscode": {
     "languageId": "plaintext"
    }
   },
   "source": [
    "## Ejercicio 1: Función VaR y ES"
   ]
  },
  {
   "cell_type": "code",
   "execution_count": 1,
   "metadata": {},
   "outputs": [],
   "source": [
    "import numpy as np\n",
    "import pandas as pd\n",
    "import yfinance as yf\n",
    "from scipy.optimize import minimize\n",
    "\n",
    "pd.set_option('display.float_format', '{:,.4f}'.format)"
   ]
  },
  {
   "cell_type": "code",
   "execution_count": 2,
   "metadata": {},
   "outputs": [],
   "source": [
    "def var_stocks(data, n_stocks, conf, long):\n",
    "    rt = data.pct_change().dropna()\n",
    "    stock_value = n_stocks * data.iloc[-1]\n",
    "    portfolio_value = stock_value.sum()\n",
    "    w = stock_value / portfolio_value\n",
    "    portfolio_return = np.dot(w, rt.T)\n",
    "\n",
    "    if long == 1:\n",
    "\n",
    "        var_pct = np.percentile(portfolio_return, 100-conf)\n",
    "        cvar_pct = np.abs(portfolio_return[portfolio_return < var_pct].mean())\n",
    "\n",
    "        var_cash = portfolio_value * np.abs(var_pct)\n",
    "        cvar_cash = portfolio_value * cvar_pct\n",
    "\n",
    "    else:\n",
    "        \n",
    "        var_pct = np.percentile(portfolio_return, conf)\n",
    "        cvar_pct = portfolio_return[portfolio_return > var_pct].mean()\n",
    "\n",
    "        var_cash = portfolio_value * var_pct\n",
    "        cvar_cash = portfolio_value * cvar_pct\n",
    "\n",
    "    var_stocks_df = pd.DataFrame({\n",
    "        \"Métrica\": [\"VaR\", \"cVaR\"],\n",
    "        \"Porcentaje\": [np.abs(var_pct), cvar_pct],\n",
    "        \"cash\": [var_cash, cvar_cash]\n",
    "    })\n",
    "\n",
    "    return var_stocks_df"
   ]
  },
  {
   "cell_type": "code",
   "execution_count": 3,
   "metadata": {},
   "outputs": [
    {
     "name": "stderr",
     "output_type": "stream",
     "text": [
      "[*********************100%***********************]  5 of 5 completed\n"
     ]
    }
   ],
   "source": [
    "stocks = [\"AAPL\", \"TSLA\", \"AMD\", \"LMT\", \"JPM\"]\n",
    "data=yf.download(stocks, start=\"2020-01-01\", end=\"2023-01-01\")['Adj Close'][stocks]\n",
    "\n",
    "n_stocks =[2193, 1211, 3221, 761, 1231]\n",
    "conf = 95\n",
    "long = True"
   ]
  },
  {
   "cell_type": "code",
   "execution_count": 4,
   "metadata": {},
   "outputs": [
    {
     "data": {
      "text/html": [
       "<div>\n",
       "<style scoped>\n",
       "    .dataframe tbody tr th:only-of-type {\n",
       "        vertical-align: middle;\n",
       "    }\n",
       "\n",
       "    .dataframe tbody tr th {\n",
       "        vertical-align: top;\n",
       "    }\n",
       "\n",
       "    .dataframe thead th {\n",
       "        text-align: right;\n",
       "    }\n",
       "</style>\n",
       "<table border=\"1\" class=\"dataframe\">\n",
       "  <thead>\n",
       "    <tr style=\"text-align: right;\">\n",
       "      <th></th>\n",
       "      <th>Métrica</th>\n",
       "      <th>Porcentaje</th>\n",
       "      <th>cash</th>\n",
       "    </tr>\n",
       "  </thead>\n",
       "  <tbody>\n",
       "    <tr>\n",
       "      <th>0</th>\n",
       "      <td>VaR</td>\n",
       "      <td>0.0289</td>\n",
       "      <td>33,087.2922</td>\n",
       "    </tr>\n",
       "    <tr>\n",
       "      <th>1</th>\n",
       "      <td>cVaR</td>\n",
       "      <td>0.0463</td>\n",
       "      <td>53,145.0976</td>\n",
       "    </tr>\n",
       "  </tbody>\n",
       "</table>\n",
       "</div>"
      ],
      "text/plain": [
       "  Métrica  Porcentaje        cash\n",
       "0     VaR      0.0289 33,087.2922\n",
       "1    cVaR      0.0463 53,145.0976"
      ]
     },
     "execution_count": 4,
     "metadata": {},
     "output_type": "execute_result"
    }
   ],
   "source": [
    "var_stocks(data, n_stocks, conf, long)"
   ]
  },
  {
   "cell_type": "markdown",
   "metadata": {},
   "source": [
    "## Ejercicio 2: Rebalanceo de portafolios"
   ]
  },
  {
   "cell_type": "code",
   "execution_count": 5,
   "metadata": {},
   "outputs": [],
   "source": [
    "rt = data.pct_change().dropna()\n",
    "stock_value = n_stocks * data.iloc[-1]\n",
    "portfolio_value = stock_value.sum()\n",
    "w_original = stock_value / portfolio_value\n",
    "target = 30000"
   ]
  },
  {
   "cell_type": "code",
   "execution_count": 6,
   "metadata": {},
   "outputs": [],
   "source": [
    "def get_var(weights):\n",
    "    portfolio_return = np.dot(weights, rt.T)\n",
    "\n",
    "    if long == 1:\n",
    "        var_pct = np.abs(np.percentile(portfolio_return, 100-conf))\n",
    "        \n",
    "    else:\n",
    "        var_pct = np.percentile(portfolio_return, conf)\n",
    "    \n",
    "    return portfolio_value * var_pct\n",
    "\n",
    "# Restricciones\n",
    "constraints = [\n",
    "    {\"type\": \"eq\", \"fun\": lambda w: np.sum(w) - 1},\n",
    "    {\"type\": \"eq\", \"fun\": lambda w: get_var(w) - target}\n",
    "]\n",
    "\n",
    "bounds = tuple((0, 1) for _ in range(len(n_stocks)))\n",
    "\n",
    "# Optimización\n",
    "result = minimize(\n",
    "    fun=get_var,\n",
    "    x0=w_original,\n",
    "    method=\"SLSQP\",\n",
    "    bounds=bounds,\n",
    "    constraints=constraints,\n",
    "    tol=1e-8\n",
    ")\n",
    "\n",
    "opt_weights = result.x"
   ]
  },
  {
   "cell_type": "code",
   "execution_count": 7,
   "metadata": {},
   "outputs": [
    {
     "name": "stdout",
     "output_type": "stream",
     "text": [
      "VaR con los nuevos pesos: $29999.999999970012\n"
     ]
    },
    {
     "data": {
      "text/html": [
       "<div>\n",
       "<style scoped>\n",
       "    .dataframe tbody tr th:only-of-type {\n",
       "        vertical-align: middle;\n",
       "    }\n",
       "\n",
       "    .dataframe tbody tr th {\n",
       "        vertical-align: top;\n",
       "    }\n",
       "\n",
       "    .dataframe thead th {\n",
       "        text-align: right;\n",
       "    }\n",
       "</style>\n",
       "<table border=\"1\" class=\"dataframe\">\n",
       "  <thead>\n",
       "    <tr style=\"text-align: right;\">\n",
       "      <th>Ticker</th>\n",
       "      <th>AAPL</th>\n",
       "      <th>TSLA</th>\n",
       "      <th>AMD</th>\n",
       "      <th>LMT</th>\n",
       "      <th>JPM</th>\n",
       "    </tr>\n",
       "  </thead>\n",
       "  <tbody>\n",
       "    <tr>\n",
       "      <th>Peso Original</th>\n",
       "      <td>0.2459</td>\n",
       "      <td>0.1301</td>\n",
       "      <td>0.1819</td>\n",
       "      <td>0.3063</td>\n",
       "      <td>0.1358</td>\n",
       "    </tr>\n",
       "    <tr>\n",
       "      <th>Peso Óptimo</th>\n",
       "      <td>0.1774</td>\n",
       "      <td>0.0706</td>\n",
       "      <td>0.1222</td>\n",
       "      <td>0.4210</td>\n",
       "      <td>0.2088</td>\n",
       "    </tr>\n",
       "    <tr>\n",
       "      <th>Acciones (C/V)</th>\n",
       "      <td>-612.0000</td>\n",
       "      <td>-554.0000</td>\n",
       "      <td>-1,058.0000</td>\n",
       "      <td>284.0000</td>\n",
       "      <td>661.0000</td>\n",
       "    </tr>\n",
       "  </tbody>\n",
       "</table>\n",
       "</div>"
      ],
      "text/plain": [
       "Ticker              AAPL      TSLA         AMD      LMT      JPM\n",
       "Peso Original     0.2459    0.1301      0.1819   0.3063   0.1358\n",
       "Peso Óptimo       0.1774    0.0706      0.1222   0.4210   0.2088\n",
       "Acciones (C/V) -612.0000 -554.0000 -1,058.0000 284.0000 661.0000"
      ]
     },
     "execution_count": 7,
     "metadata": {},
     "output_type": "execute_result"
    }
   ],
   "source": [
    "print(f'VaR con los nuevos pesos: ${get_var(opt_weights)}')\n",
    "\n",
    "w_df = pd.DataFrame({\n",
    "    \"Peso Original\": w_original,\n",
    "    \"Peso Óptimo\": opt_weights,\n",
    "    \"Acciones (C/V)\" : np.floor((opt_weights-w_original) * portfolio_value / data.iloc[-1])\n",
    "})\n",
    "w_df.T"
   ]
  },
  {
   "cell_type": "markdown",
   "metadata": {},
   "source": [
    "## Ejercicio 3: Investigación conceptual"
   ]
  },
  {
   "cell_type": "markdown",
   "metadata": {},
   "source": [
    "**Inciso a)**\n",
    "\n",
    "- ¿Cuál es el objetivo principal del rebalanceo?\n",
    "\n",
    "- ¿Por qué es importante implementarlo de manera sistemática?"
   ]
  },
  {
   "cell_type": "markdown",
   "metadata": {},
   "source": [
    "**Inciso b)**\n",
    "\n",
    "- ¿Qué decisiones forman parte de una estrategia de rebalanceo?\n",
    "\n",
    "- ¿Cuáles son los métodos principales para realizar rebalanceos de forma sistemática?"
   ]
  },
  {
   "cell_type": "markdown",
   "metadata": {},
   "source": [
    "**Inciso c)**\n",
    "\n",
    "- Además del rendimiento, riesgo y objetivos, ¿qué otro factor puede tener un gran impacto en el desempeño de un portafolio al\n",
    "rebalancearlo?"
   ]
  },
  {
   "cell_type": "markdown",
   "metadata": {},
   "source": [
    "**Inciso d)**\n",
    "\n",
    "- ¿Qué recomendaciones propone Vanguard para reducir los costos fiscales en un portafolio?\n",
    "\n",
    "- ¿Qué es el tax loss harvesting?"
   ]
  }
 ],
 "metadata": {
  "kernelspec": {
   "display_name": "base",
   "language": "python",
   "name": "python3"
  },
  "language_info": {
   "codemirror_mode": {
    "name": "ipython",
    "version": 3
   },
   "file_extension": ".py",
   "mimetype": "text/x-python",
   "name": "python",
   "nbconvert_exporter": "python",
   "pygments_lexer": "ipython3",
   "version": "3.12.3"
  }
 },
 "nbformat": 4,
 "nbformat_minor": 2
}
