{
 "cells": [
  {
   "cell_type": "markdown",
   "metadata": {
    "vscode": {
     "languageId": "plaintext"
    }
   },
   "source": [
    "## Ejercicio 1: Función VaR y ES"
   ]
  },
  {
   "cell_type": "code",
   "execution_count": 1,
   "metadata": {},
   "outputs": [],
   "source": [
    "import numpy as np\n",
    "import pandas as pd\n",
    "import yfinance as yf\n",
    "\n",
    "pd.set_option('display.float_format', '{:,.4f}'.format)"
   ]
  },
  {
   "cell_type": "code",
   "execution_count": 8,
   "metadata": {},
   "outputs": [],
   "source": [
    "def var_stocks(data, n_stocks, conf, long):\n",
    "    rt = data.pct_change().dropna()\n",
    "    stock_value = n_stocks * data.iloc[-1]\n",
    "    portfolio_value = stock_value.sum()\n",
    "    w = stock_value / portfolio_value\n",
    "    portfolio_return = np.dot(w, rt.T)\n",
    "\n",
    "    if long == 1:\n",
    "\n",
    "        var_pct = np.abs(np.percentile(portfolio_return, 100-conf))\n",
    "        cvar_pct = np.abs(portfolio_return[portfolio_return < var_pct].mean())\n",
    "\n",
    "        var_cash = portfolio_value * var_pct\n",
    "        cvar_cash = portfolio_value * cvar_pct\n",
    "\n",
    "    else:\n",
    "        \n",
    "        var_pct = np.percentile(portfolio_return, conf)\n",
    "        cvar_pct = portfolio_return[portfolio_return > var_pct].mean()\n",
    "\n",
    "        var_cash = portfolio_value * var_pct\n",
    "        cvar_cash = portfolio_value * cvar_pct\n",
    "\n",
    "    var_stocks_df = pd.DataFrame({\n",
    "        \"Métrica\": [\"VaR\", \"cVaR\"],\n",
    "        \"Porcentaje\": [var_pct, cvar_pct],\n",
    "        \"cash\": [var_cash, cvar_cash]\n",
    "    })\n",
    "\n",
    "    return var_stocks_df"
   ]
  },
  {
   "cell_type": "code",
   "execution_count": 9,
   "metadata": {},
   "outputs": [
    {
     "name": "stderr",
     "output_type": "stream",
     "text": [
      "[*********************100%***********************]  5 of 5 completed\n"
     ]
    }
   ],
   "source": [
    "stocks = [\"AAPL\", \"TSLA\", \"AMD\", \"LMT\", \"JPM\"]\n",
    "data=yf.download(stocks, start=\"2020-01-01\", end=\"2023-01-01\")['Adj Close'][stocks]\n",
    "\n",
    "n_stocks =[2193, 1211, 3221, 761, 1231]\n",
    "conf = 95\n",
    "long = True"
   ]
  },
  {
   "cell_type": "code",
   "execution_count": 10,
   "metadata": {},
   "outputs": [
    {
     "data": {
      "text/html": [
       "<div>\n",
       "<style scoped>\n",
       "    .dataframe tbody tr th:only-of-type {\n",
       "        vertical-align: middle;\n",
       "    }\n",
       "\n",
       "    .dataframe tbody tr th {\n",
       "        vertical-align: top;\n",
       "    }\n",
       "\n",
       "    .dataframe thead th {\n",
       "        text-align: right;\n",
       "    }\n",
       "</style>\n",
       "<table border=\"1\" class=\"dataframe\">\n",
       "  <thead>\n",
       "    <tr style=\"text-align: right;\">\n",
       "      <th></th>\n",
       "      <th>Métrica</th>\n",
       "      <th>Porcentaje</th>\n",
       "      <th>cash</th>\n",
       "    </tr>\n",
       "  </thead>\n",
       "  <tbody>\n",
       "    <tr>\n",
       "      <th>0</th>\n",
       "      <td>VaR</td>\n",
       "      <td>0.0289</td>\n",
       "      <td>33,087.3700</td>\n",
       "    </tr>\n",
       "    <tr>\n",
       "      <th>1</th>\n",
       "      <td>cVaR</td>\n",
       "      <td>0.0013</td>\n",
       "      <td>1,517.4954</td>\n",
       "    </tr>\n",
       "  </tbody>\n",
       "</table>\n",
       "</div>"
      ],
      "text/plain": [
       "  Métrica  Porcentaje        cash\n",
       "0     VaR      0.0289 33,087.3700\n",
       "1    cVaR      0.0013  1,517.4954"
      ]
     },
     "execution_count": 10,
     "metadata": {},
     "output_type": "execute_result"
    }
   ],
   "source": [
    "var_stocks(data, n_stocks, conf, long)"
   ]
  }
 ],
 "metadata": {
  "kernelspec": {
   "display_name": "base",
   "language": "python",
   "name": "python3"
  },
  "language_info": {
   "codemirror_mode": {
    "name": "ipython",
    "version": 3
   },
   "file_extension": ".py",
   "mimetype": "text/x-python",
   "name": "python",
   "nbconvert_exporter": "python",
   "pygments_lexer": "ipython3",
   "version": "3.12.3"
  }
 },
 "nbformat": 4,
 "nbformat_minor": 2
}
