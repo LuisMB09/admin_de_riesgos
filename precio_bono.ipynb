{
 "cells": [
  {
   "cell_type": "markdown",
   "id": "fa8dbb25",
   "metadata": {},
   "source": [
    "# <font color='navy'> Precio Bono"
   ]
  },
  {
   "cell_type": "code",
   "execution_count": 1,
   "id": "91f41bbe",
   "metadata": {},
   "outputs": [],
   "source": [
    "import numpy as np"
   ]
  },
  {
   "cell_type": "code",
   "execution_count": 2,
   "id": "d6efc406",
   "metadata": {},
   "outputs": [],
   "source": [
    "T = 4\n",
    "n_coupons = 2\n",
    "r = 0.065\n",
    "coupon = 0.1\n",
    "nominal = 55_000"
   ]
  },
  {
   "cell_type": "code",
   "execution_count": 3,
   "id": "cdfb1bd6",
   "metadata": {},
   "outputs": [],
   "source": [
    "def bond_price(coupon: float, r: float, T: int, n_coupons: int, nominal: float | int) -> float:\n",
    "    \"\"\"\n",
    "    Calculate the price of a bond.\n",
    "    :param coupon: The coupon rate of the bond.\n",
    "    :param r: The market interest rate.\n",
    "    :param T: The maturity of the bond in years.\n",
    "    :param dt: The number of coupon payments per year.\n",
    "    :param nominal: The nominal value of the bond.\n",
    "\n",
    "    :return: The price of the bond.\n",
    "    \"\"\"\n",
    "    periods = np.linspace(0, T, (T*n_coupons)+1)\n",
    "    coupon_payment = nominal * coupon / n_coupons\n",
    "    last_payment = nominal * coupon/n_coupons + nominal\n",
    "\n",
    "    pv_coupon_payment = coupon_payment / (1 + r)**(periods[1:-1])\n",
    "    pv_last_payment = last_payment / (1 + r)**(periods[-1])\n",
    "\n",
    "    return np.sum(pv_coupon_payment) + pv_last_payment"
   ]
  },
  {
   "cell_type": "code",
   "execution_count": 4,
   "id": "fb385dc9",
   "metadata": {},
   "outputs": [
    {
     "data": {
      "text/plain": [
       "61896.02303855478"
      ]
     },
     "execution_count": 4,
     "metadata": {},
     "output_type": "execute_result"
    }
   ],
   "source": [
    "bond_price(coupon, r, T, n_coupons, nominal)"
   ]
  },
  {
   "cell_type": "code",
   "execution_count": 5,
   "id": "b9a77f47",
   "metadata": {},
   "outputs": [],
   "source": [
    "T = 12\n",
    "n_coupons = 1\n",
    "r = 0.0350\n",
    "coupon = 0.01\n",
    "nominal = 13_000"
   ]
  },
  {
   "cell_type": "code",
   "execution_count": 6,
   "id": "3f32c7c4",
   "metadata": {},
   "outputs": [
    {
     "data": {
      "text/plain": [
       "9859.416341256201"
      ]
     },
     "execution_count": 6,
     "metadata": {},
     "output_type": "execute_result"
    }
   ],
   "source": [
    "bond_price(coupon, r, T, n_coupons, nominal)"
   ]
  }
 ],
 "metadata": {
  "kernelspec": {
   "display_name": "base",
   "language": "python",
   "name": "python3"
  },
  "language_info": {
   "codemirror_mode": {
    "name": "ipython",
    "version": 3
   },
   "file_extension": ".py",
   "mimetype": "text/x-python",
   "name": "python",
   "nbconvert_exporter": "python",
   "pygments_lexer": "ipython3",
   "version": "3.12.3"
  }
 },
 "nbformat": 4,
 "nbformat_minor": 5
}
