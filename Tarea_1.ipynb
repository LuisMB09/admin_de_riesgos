{
 "cells": [
  {
   "cell_type": "code",
   "execution_count": 1,
   "metadata": {},
   "outputs": [],
   "source": [
    "import numpy as np\n",
    "import pandas as pd\n",
    "import yfinance as yf"
   ]
  },
  {
   "cell_type": "markdown",
   "metadata": {},
   "source": [
    "## Inciso a)"
   ]
  },
  {
   "cell_type": "code",
   "execution_count": 2,
   "metadata": {},
   "outputs": [],
   "source": [
    "def get_var_cvar(data, positions, conf, long):\n",
    "    port = data * positions\n",
    "    port['total'] = port.sum(axis=1)\n",
    "    port['rendimiento'] = port['total'].pct_change()\n",
    "\n",
    "    if long == 1:\n",
    "\n",
    "        var_porcentual = np.percentile(port['rendimiento'].dropna(), 100-conf)\n",
    "        var_cash = port['total'].iloc[-1] * var_porcentual\n",
    "\n",
    "        cvar_porcentual = port.query(\"rendimiento < @var_porcentual\")['rendimiento'].mean()\n",
    "        cvar_cash = port['total'].iloc[-1] * cvar_porcentual\n",
    "\n",
    "    else:\n",
    "\n",
    "        var_porcentual = np.percentile(port['rendimiento'].dropna(), conf)\n",
    "        var_cash = port['total'].iloc[-1] * var_porcentual\n",
    "\n",
    "        cvar_porcentual = port.query(\"rendimiento > @var_porcentual\")['rendimiento'].mean()\n",
    "        cvar_cash = port['total'].iloc[-1] * cvar_porcentual\n",
    "\n",
    "    var_df = pd.DataFrame({\n",
    "        \"Métrica\": [\"VaR\", \"cVaR\"],\n",
    "        \"Porcentual\": [np.round(var_porcentual * 100, 4), np.round(cvar_porcentual * 100, 4)],\n",
    "        \"Cash\": [np.round(var_cash, 2), np.round(cvar_cash, 2)]\n",
    "    })\n",
    "\n",
    "    return var_df"
   ]
  },
  {
   "cell_type": "markdown",
   "metadata": {},
   "source": [
    "## Inciso b)"
   ]
  },
  {
   "cell_type": "code",
   "execution_count": 3,
   "metadata": {},
   "outputs": [
    {
     "name": "stderr",
     "output_type": "stream",
     "text": [
      "[*********************100%***********************]  2 of 2 completed\n"
     ]
    }
   ],
   "source": [
    "data = yf.download(['CHFMXN=X', 'MXN=X'], start='2020-01-01', end='2024-12-02')['Adj Close'] # DataFrame con los datos de precios históricos\n",
    "positions = [7100000, 5300000] # Cuanto tienes en cada moneda en orden. Se acomodan en orde alfabético\n",
    "conf = 99 # Nivel de confianza\n",
    "long = True # Si es long o short tu posición. Poner True si es long, False si es short"
   ]
  },
  {
   "cell_type": "code",
   "execution_count": 4,
   "metadata": {},
   "outputs": [
    {
     "data": {
      "text/html": [
       "<div>\n",
       "<style scoped>\n",
       "    .dataframe tbody tr th:only-of-type {\n",
       "        vertical-align: middle;\n",
       "    }\n",
       "\n",
       "    .dataframe tbody tr th {\n",
       "        vertical-align: top;\n",
       "    }\n",
       "\n",
       "    .dataframe thead th {\n",
       "        text-align: right;\n",
       "    }\n",
       "</style>\n",
       "<table border=\"1\" class=\"dataframe\">\n",
       "  <thead>\n",
       "    <tr style=\"text-align: right;\">\n",
       "      <th></th>\n",
       "      <th>Métrica</th>\n",
       "      <th>Porcentual</th>\n",
       "      <th>Cash</th>\n",
       "    </tr>\n",
       "  </thead>\n",
       "  <tbody>\n",
       "    <tr>\n",
       "      <th>0</th>\n",
       "      <td>VaR</td>\n",
       "      <td>-1.8482</td>\n",
       "      <td>-5041647.69</td>\n",
       "    </tr>\n",
       "    <tr>\n",
       "      <th>1</th>\n",
       "      <td>cVaR</td>\n",
       "      <td>-2.3751</td>\n",
       "      <td>-6478978.99</td>\n",
       "    </tr>\n",
       "  </tbody>\n",
       "</table>\n",
       "</div>"
      ],
      "text/plain": [
       "  Métrica  Porcentual        Cash\n",
       "0     VaR     -1.8482 -5041647.69\n",
       "1    cVaR     -2.3751 -6478978.99"
      ]
     },
     "execution_count": 4,
     "metadata": {},
     "output_type": "execute_result"
    }
   ],
   "source": [
    "get_var_cvar(data, positions, conf, long)"
   ]
  }
 ],
 "metadata": {
  "kernelspec": {
   "display_name": "base",
   "language": "python",
   "name": "python3"
  },
  "language_info": {
   "codemirror_mode": {
    "name": "ipython",
    "version": 3
   },
   "file_extension": ".py",
   "mimetype": "text/x-python",
   "name": "python",
   "nbconvert_exporter": "python",
   "pygments_lexer": "ipython3",
   "version": "3.12.3"
  }
 },
 "nbformat": 4,
 "nbformat_minor": 2
}
