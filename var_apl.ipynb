{
 "cells": [
  {
   "cell_type": "code",
   "execution_count": 1,
   "metadata": {},
   "outputs": [],
   "source": [
    "import numpy as np\n",
    "import pandas as pd\n",
    "pd.set_option('display.float_format', '{:,.4f}'.format)"
   ]
  },
  {
   "cell_type": "code",
   "execution_count": 2,
   "metadata": {},
   "outputs": [],
   "source": [
    "df = pd.read_excel('var_apl.xlsx', sheet_name=1)\n",
    "df = df.set_index('Date')\n",
    "df = df.sort_index()"
   ]
  },
  {
   "cell_type": "code",
   "execution_count": 3,
   "metadata": {},
   "outputs": [],
   "source": [
    "conf = 99\n",
    "long = False\n",
    "posiciones = [100000000, 90000000]"
   ]
  },
  {
   "cell_type": "code",
   "execution_count": 4,
   "metadata": {},
   "outputs": [],
   "source": [
    "def var_apl(df, posiciones, conf, long):\n",
    "\n",
    "    # Bid y Ask\n",
    "    bid_columns = [col for col in df.columns if 'Bid' in col]\n",
    "    ask_columns = [col for col in df.columns if 'Ask' in col]\n",
    "\n",
    "    # Mid\n",
    "    mid_columns = [f'Mid.{i}' for i in range(len(bid_columns))]\n",
    "    df[mid_columns] = (df[bid_columns].values + df[ask_columns].values) / 2\n",
    "\n",
    "    # Spreads\n",
    "    spread_columns = [f'Spread.{i}' for i in range(len(bid_columns))]\n",
    "    df[spread_columns] = (df[ask_columns].values - df[bid_columns].values) / df[mid_columns].values\n",
    "\n",
    "    # Returns\n",
    "    return_columns = [f'Return.{i}' for i in range(len(mid_columns))]\n",
    "    df[return_columns] = df[mid_columns].pct_change()\n",
    "\n",
    "    # Weights\n",
    "    value = posiciones * df[mid_columns].iloc[-1].values\n",
    "    pv = np.sum(value)\n",
    "    w = value / pv\n",
    "\n",
    "    # Portfolio return\n",
    "    df['port_ret'] = np.dot(df[return_columns], w)\n",
    "\n",
    "    # VaR calculation\n",
    "    var_pct = np.percentile(df['port_ret'].dropna(), 100 - conf) if long else np.percentile(df['port_ret'].dropna(), conf)\n",
    "    var_cash = pv * var_pct\n",
    "\n",
    "    # Liquidity cost\n",
    "    cl_prom = df[spread_columns].mean()\n",
    "    cl_estr = np.percentile(df[spread_columns], 99, axis=0)\n",
    "\n",
    "    # VaR adjusted by liquidity cost\n",
    "\n",
    "    var_apl_prom, var_apl_estr = np.sum(cl_prom) + var_pct, np.sum(cl_estr) + var_pct\n",
    "\n",
    "    var_apl_prom_cash, var_apl_estr_cash = np.dot(value, cl_prom) + var_cash, np.dot(value, cl_estr) + var_cash\n",
    "\n",
    "    resultados = pd.DataFrame({\n",
    "        'Métrica': ['VaR', 'VaR Ajustado Promedio', 'VaR Ajustado Estresado'],\n",
    "        'Porcentaje': [var_pct, var_apl_prom, var_apl_estr],\n",
    "        'Cash': [var_cash, var_apl_prom_cash, var_apl_estr_cash]\n",
    "    })\n",
    "\n",
    "    return resultados"
   ]
  },
  {
   "cell_type": "code",
   "execution_count": 5,
   "metadata": {},
   "outputs": [
    {
     "data": {
      "text/html": [
       "<div>\n",
       "<style scoped>\n",
       "    .dataframe tbody tr th:only-of-type {\n",
       "        vertical-align: middle;\n",
       "    }\n",
       "\n",
       "    .dataframe tbody tr th {\n",
       "        vertical-align: top;\n",
       "    }\n",
       "\n",
       "    .dataframe thead th {\n",
       "        text-align: right;\n",
       "    }\n",
       "</style>\n",
       "<table border=\"1\" class=\"dataframe\">\n",
       "  <thead>\n",
       "    <tr style=\"text-align: right;\">\n",
       "      <th></th>\n",
       "      <th>Métrica</th>\n",
       "      <th>Porcentaje</th>\n",
       "      <th>Cash</th>\n",
       "    </tr>\n",
       "  </thead>\n",
       "  <tbody>\n",
       "    <tr>\n",
       "      <th>0</th>\n",
       "      <td>VaR</td>\n",
       "      <td>0.0161</td>\n",
       "      <td>351,914,316.5583</td>\n",
       "    </tr>\n",
       "    <tr>\n",
       "      <th>1</th>\n",
       "      <td>VaR Ajustado Promedio</td>\n",
       "      <td>0.0166</td>\n",
       "      <td>357,331,030.9419</td>\n",
       "    </tr>\n",
       "    <tr>\n",
       "      <th>2</th>\n",
       "      <td>VaR Ajustado Estresado</td>\n",
       "      <td>0.0172</td>\n",
       "      <td>363,666,029.1972</td>\n",
       "    </tr>\n",
       "  </tbody>\n",
       "</table>\n",
       "</div>"
      ],
      "text/plain": [
       "                  Métrica  Porcentaje             Cash\n",
       "0                     VaR      0.0161 351,914,316.5583\n",
       "1   VaR Ajustado Promedio      0.0166 357,331,030.9419\n",
       "2  VaR Ajustado Estresado      0.0172 363,666,029.1972"
      ]
     },
     "execution_count": 5,
     "metadata": {},
     "output_type": "execute_result"
    }
   ],
   "source": [
    "var_apl(df, posiciones, conf, long)"
   ]
  }
 ],
 "metadata": {
  "kernelspec": {
   "display_name": "base",
   "language": "python",
   "name": "python3"
  },
  "language_info": {
   "codemirror_mode": {
    "name": "ipython",
    "version": 3
   },
   "file_extension": ".py",
   "mimetype": "text/x-python",
   "name": "python",
   "nbconvert_exporter": "python",
   "pygments_lexer": "ipython3",
   "version": "3.12.3"
  }
 },
 "nbformat": 4,
 "nbformat_minor": 2
}
