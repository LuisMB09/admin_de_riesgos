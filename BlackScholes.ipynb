{
 "cells": [
  {
   "cell_type": "code",
   "execution_count": 1,
   "metadata": {},
   "outputs": [],
   "source": [
    "import numpy as np\n",
    "import pandas as pd\n",
    "from scipy.stats import norm"
   ]
  },
  {
   "cell_type": "code",
   "execution_count": 2,
   "metadata": {},
   "outputs": [],
   "source": [
    "class BlackScholes:\n",
    "    def __init__(self, S, k, r, sigma, T):\n",
    "        \"\"\"\n",
    "        Initialize the Black-Scholes model parameters.\n",
    "        :param S: Current stock price\n",
    "        :param k: Strike price\n",
    "        :param r: Risk-free rate\n",
    "        :param sigma: Volatility of the asset\n",
    "        :param T: Time to expiration (in years)\n",
    "        \"\"\"\n",
    "        self.S = S\n",
    "        self.k = k\n",
    "        self.r = r\n",
    "        self.sigma = sigma\n",
    "        self.T = T\n",
    "        self.d1 = self._calculate_d1()\n",
    "\n",
    "    def _calculate_d1(self):\n",
    "        \"\"\"\n",
    "        Compute the d1 term in the Black-Scholes formula.\n",
    "        \"\"\"\n",
    "        return (np.log(self.S / self.k) + (self.r + 0.5 * self.sigma ** 2) * self.T) / (self.sigma * np.sqrt(self.T))\n",
    "\n",
    "    # Deltas\n",
    "    def call_delta(self):\n",
    "        return norm.cdf(self.d1)\n",
    "\n",
    "    def put_delta(self):\n",
    "        return np.abs(norm.cdf(self.d1) - 1)\n",
    "\n",
    "    # Hedge\n",
    "    def delta_hedge(self, info_call, info_put):\n",
    "\n",
    "        # Dataframe for call and put options\n",
    "        df_call = pd.DataFrame(info_call, columns=['S', 'K', 'r', 'sigma', 'T', 'N'])\n",
    "        df_put = pd.DataFrame(info_put, columns=['S', 'K', 'r', 'sigma', 'T', 'N'])\n",
    "\n",
    "        df_call['delta'] = df_call.apply(lambda row: BlackScholes(*row[0:-1]).call_delta(), axis=1)\n",
    "        df_put['delta'] = df_put.apply(lambda row: BlackScholes(*row[0:-1]).put_delta(), axis=1)\n",
    "            \n",
    "        return np.dot(df_call['N'], df_call['delta']) - np.dot(df_put['N'], df_put['delta'])"
   ]
  },
  {
   "cell_type": "code",
   "execution_count": 3,
   "metadata": {},
   "outputs": [
    {
     "data": {
      "text/plain": [
       "0.46740603432697553"
      ]
     },
     "execution_count": 3,
     "metadata": {},
     "output_type": "execute_result"
    }
   ],
   "source": [
    "call = [20.3, 20.43, 0.0425, 0.102, 1/12]\n",
    "\n",
    "BlackScholes(*call).call_delta()"
   ]
  },
  {
   "cell_type": "code",
   "execution_count": 4,
   "metadata": {},
   "outputs": [],
   "source": [
    "info_call = [[20.3, 20.43, 0.0425, 0.102, 1/12, 23],\n",
    "            [20.3, 20.52, 0.0425, 0.111, 1/12, 25],\n",
    "            [20.3, 20.43, 0.0421, 0.297, 6/12, 17],\n",
    "            [20.3, 20.52, 0.0421, 0.289, 6/12, 32]]\n",
    "\n",
    "info_put = [[20.3, 20.2, 0.0425, 0.156, 1/12, 12],\n",
    "            [20.3, 20, 0.0425, 0.153, 1/12, 16],\n",
    "            [20.3, 20.2, 0.0421, 0.348, 6/12, 11],\n",
    "            [20.3, 20, 0.0421, 0.378, 6/12, 17]]"
   ]
  },
  {
   "cell_type": "code",
   "execution_count": 5,
   "metadata": {},
   "outputs": [
    {
     "data": {
      "text/plain": [
       "27.301081694288555"
      ]
     },
     "execution_count": 5,
     "metadata": {},
     "output_type": "execute_result"
    }
   ],
   "source": [
    "BlackScholes(1,1,1,1,1).delta_hedge(info_call, info_put)"
   ]
  },
  {
   "cell_type": "code",
   "execution_count": 6,
   "metadata": {},
   "outputs": [],
   "source": [
    "class BlackScholes:\n",
    "    def __init__(self):\n",
    "        \"\"\"\n",
    "        Initialize the Black-Scholes model parameters.\n",
    "        :param S: Current stock price\n",
    "        :param k: Strike price\n",
    "        :param r: Risk-free rate\n",
    "        :param sigma: Volatility of the asset\n",
    "        :param T: Time to expiration (in years)\n",
    "        \"\"\"\n",
    "\n",
    "    def _calculate_d1(self, S, k, r, sigma, T):\n",
    "        \"\"\"\n",
    "        Compute the d1 term in the Black-Scholes formula.\n",
    "        \"\"\"\n",
    "        return (np.log(S / k) + (r + 0.5 * sigma ** 2) * T) / (sigma * np.sqrt(T))\n",
    "\n",
    "    # Deltas\n",
    "    def call_delta(self, S, k, r, sigma, T):\n",
    "        return norm.cdf(self._calculate_d1(S, k, r, sigma, T))\n",
    "\n",
    "    def put_delta(self, S, k, r, sigma, T):\n",
    "        return np.abs(norm.cdf(self._calculate_d1(S, k, r, sigma, T)) - 1)\n",
    "\n",
    "    # Hedge\n",
    "    def delta_hedge(self, info_call, info_put):\n",
    "\n",
    "        # Dataframe for call and put options\n",
    "        df_call = pd.DataFrame(info_call, columns=['S', 'K', 'r', 'sigma', 'T', 'N'])\n",
    "        df_put = pd.DataFrame(info_put, columns=['S', 'K', 'r', 'sigma', 'T', 'N'])\n",
    "\n",
    "        df_call['delta'] = df_call.apply(lambda row: BlackScholes().call_delta(*row[0:-1]), axis=1)\n",
    "        df_put['delta'] = df_put.apply(lambda row: BlackScholes().put_delta(*row[0:-1]), axis=1)\n",
    "            \n",
    "        return np.dot(df_call['N'], df_call['delta']) - np.dot(df_put['N'], df_put['delta'])"
   ]
  },
  {
   "cell_type": "code",
   "execution_count": 7,
   "metadata": {},
   "outputs": [
    {
     "data": {
      "text/plain": [
       "0.46740603432697553"
      ]
     },
     "execution_count": 7,
     "metadata": {},
     "output_type": "execute_result"
    }
   ],
   "source": [
    "call = [20.3, 20.43, 0.0425, 0.102, 1/12]\n",
    "\n",
    "BlackScholes().call_delta(*call)"
   ]
  },
  {
   "cell_type": "code",
   "execution_count": 8,
   "metadata": {},
   "outputs": [
    {
     "data": {
      "text/plain": [
       "27.301081694288555"
      ]
     },
     "execution_count": 8,
     "metadata": {},
     "output_type": "execute_result"
    }
   ],
   "source": [
    "info_call = [[20.3, 20.43, 0.0425, 0.102, 1/12, 23],\n",
    "            [20.3, 20.52, 0.0425, 0.111, 1/12, 25],\n",
    "            [20.3, 20.43, 0.0421, 0.297, 6/12, 17],\n",
    "            [20.3, 20.52, 0.0421, 0.289, 6/12, 32]]\n",
    "\n",
    "info_put = [[20.3, 20.2, 0.0425, 0.156, 1/12, 12],\n",
    "            [20.3, 20, 0.0425, 0.153, 1/12, 16],\n",
    "            [20.3, 20.2, 0.0421, 0.348, 6/12, 11],\n",
    "            [20.3, 20, 0.0421, 0.378, 6/12, 17]]\n",
    "\n",
    "BlackScholes().delta_hedge(info_call, info_put)"
   ]
  }
 ],
 "metadata": {
  "kernelspec": {
   "display_name": "base",
   "language": "python",
   "name": "python3"
  },
  "language_info": {
   "codemirror_mode": {
    "name": "ipython",
    "version": 3
   },
   "file_extension": ".py",
   "mimetype": "text/x-python",
   "name": "python",
   "nbconvert_exporter": "python",
   "pygments_lexer": "ipython3",
   "version": "3.12.3"
  }
 },
 "nbformat": 4,
 "nbformat_minor": 2
}
