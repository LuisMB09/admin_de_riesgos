{
 "cells": [
  {
   "cell_type": "code",
   "execution_count": 1,
   "metadata": {},
   "outputs": [],
   "source": [
    "import numpy as np\n",
    "import pandas as pd\n",
    "from scipy.stats import norm"
   ]
  },
  {
   "cell_type": "code",
   "execution_count": 2,
   "metadata": {},
   "outputs": [],
   "source": [
    "class BlackScholes:\n",
    "    def __init__(self, S, k, r, sigma, T):\n",
    "        \"\"\"\n",
    "        Initialize the Black-Scholes model parameters.\n",
    "        :param S: Current stock price\n",
    "        :param k: Strike price\n",
    "        :param r: Risk-free rate\n",
    "        :param sigma: Volatility of the asset\n",
    "        :param T: Time to expiration (in years)\n",
    "        \"\"\"\n",
    "        self.S = S\n",
    "        self.k = k\n",
    "        self.r = r\n",
    "        self.sigma = sigma\n",
    "        self.T = T\n",
    "        self.d1 = self._calculate_d1()\n",
    "\n",
    "    def _calculate_d1(self):\n",
    "        \"\"\"\n",
    "        Compute the d1 term in the Black-Scholes formula.\n",
    "        \"\"\"\n",
    "        return (np.log(self.S / self.k) + (self.r + 0.5 * self.sigma ** 2) * self.T) / (self.sigma * np.sqrt(self.T))\n",
    "\n",
    "    def call_delta(self):\n",
    "        return norm.cdf(self.d1)\n",
    "\n",
    "    def put_delta(self):\n",
    "        return np.abs(norm.cdf(self.d1) - 1)"
   ]
  },
  {
   "cell_type": "code",
   "execution_count": 3,
   "metadata": {},
   "outputs": [
    {
     "data": {
      "text/plain": [
       "0.46740603432697553"
      ]
     },
     "execution_count": 3,
     "metadata": {},
     "output_type": "execute_result"
    }
   ],
   "source": [
    "call = [20.3, 20.43, 0.0425, 0.102, 1/12]\n",
    "\n",
    "BlackScholes(*call).call_delta()"
   ]
  }
 ],
 "metadata": {
  "kernelspec": {
   "display_name": "base",
   "language": "python",
   "name": "python3"
  },
  "language_info": {
   "codemirror_mode": {
    "name": "ipython",
    "version": 3
   },
   "file_extension": ".py",
   "mimetype": "text/x-python",
   "name": "python",
   "nbconvert_exporter": "python",
   "pygments_lexer": "ipython3",
   "version": "3.12.3"
  }
 },
 "nbformat": 4,
 "nbformat_minor": 2
}
