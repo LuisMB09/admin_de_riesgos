{
 "cells": [
  {
   "cell_type": "code",
   "execution_count": 1,
   "metadata": {},
   "outputs": [],
   "source": [
    "import numpy as np\n",
    "import pandas as pd\n",
    "import yfinance as yf\n",
    "import vartools as vt\n",
    "\n",
    "import matplotlib.pyplot as plt\n",
    "from scipy.optimize import minimize\n",
    "from IPython.display import display"
   ]
  },
  {
   "cell_type": "markdown",
   "metadata": {},
   "source": [
    "## Obtención de datos"
   ]
  },
  {
   "cell_type": "code",
   "execution_count": 2,
   "metadata": {},
   "outputs": [
    {
     "name": "stdout",
     "output_type": "stream",
     "text": [
      "YF.download() has changed argument auto_adjust default to True\n"
     ]
    }
   ],
   "source": [
    "tickers = ['AAPL', 'WMT', 'JPM', 'PG', 'META', 'V']\n",
    "benchmark = '^GSPC'\n",
    "\n",
    "price = yf.download(tickers, start='2021-01-01', progress=False)['Close'][tickers]\n",
    "volume = yf.download(tickers, start='2021-01-01', progress=False)['Volume'][tickers]\n",
    "\n",
    "benchmark_data = yf.download(benchmark, start='2021-01-01', progress=False)['Close']\n",
    "\n",
    "rt = price.pct_change().dropna()\n",
    "rt_benchmark = benchmark_data.pct_change().dropna()"
   ]
  },
  {
   "cell_type": "code",
   "execution_count": 3,
   "metadata": {},
   "outputs": [
    {
     "name": "stdout",
     "output_type": "stream",
     "text": [
      "Precios de los activos\n"
     ]
    },
    {
     "data": {
      "text/html": [
       "<div>\n",
       "<style scoped>\n",
       "    .dataframe tbody tr th:only-of-type {\n",
       "        vertical-align: middle;\n",
       "    }\n",
       "\n",
       "    .dataframe tbody tr th {\n",
       "        vertical-align: top;\n",
       "    }\n",
       "\n",
       "    .dataframe thead th {\n",
       "        text-align: right;\n",
       "    }\n",
       "</style>\n",
       "<table border=\"1\" class=\"dataframe\">\n",
       "  <thead>\n",
       "    <tr style=\"text-align: right;\">\n",
       "      <th>Ticker</th>\n",
       "      <th>AAPL</th>\n",
       "      <th>WMT</th>\n",
       "      <th>JPM</th>\n",
       "      <th>PG</th>\n",
       "      <th>META</th>\n",
       "      <th>V</th>\n",
       "    </tr>\n",
       "    <tr>\n",
       "      <th>Date</th>\n",
       "      <th></th>\n",
       "      <th></th>\n",
       "      <th></th>\n",
       "      <th></th>\n",
       "      <th></th>\n",
       "      <th></th>\n",
       "    </tr>\n",
       "  </thead>\n",
       "  <tbody>\n",
       "    <tr>\n",
       "      <th>2021-01-04</th>\n",
       "      <td>126.4052</td>\n",
       "      <td>46.0713</td>\n",
       "      <td>112.3085</td>\n",
       "      <td>124.0700</td>\n",
       "      <td>267.9166</td>\n",
       "      <td>211.1414</td>\n",
       "    </tr>\n",
       "    <tr>\n",
       "      <th>2021-01-05</th>\n",
       "      <td>127.9681</td>\n",
       "      <td>45.8261</td>\n",
       "      <td>112.9196</td>\n",
       "      <td>124.8622</td>\n",
       "      <td>269.9389</td>\n",
       "      <td>207.9902</td>\n",
       "    </tr>\n",
       "    <tr>\n",
       "      <th>2021-01-06</th>\n",
       "      <td>123.6605</td>\n",
       "      <td>46.1122</td>\n",
       "      <td>118.2218</td>\n",
       "      <td>126.1766</td>\n",
       "      <td>262.3080</td>\n",
       "      <td>206.1576</td>\n",
       "    </tr>\n",
       "    <tr>\n",
       "      <th>2021-01-07</th>\n",
       "      <td>127.8801</td>\n",
       "      <td>46.1091</td>\n",
       "      <td>122.1041</td>\n",
       "      <td>124.9973</td>\n",
       "      <td>267.7173</td>\n",
       "      <td>207.3115</td>\n",
       "    </tr>\n",
       "    <tr>\n",
       "      <th>2021-01-08</th>\n",
       "      <td>128.9839</td>\n",
       "      <td>46.1028</td>\n",
       "      <td>122.2390</td>\n",
       "      <td>124.9432</td>\n",
       "      <td>266.5518</td>\n",
       "      <td>208.9016</td>\n",
       "    </tr>\n",
       "  </tbody>\n",
       "</table>\n",
       "</div>"
      ],
      "text/plain": [
       "Ticker         AAPL     WMT      JPM       PG     META        V\n",
       "Date                                                           \n",
       "2021-01-04 126.4052 46.0713 112.3085 124.0700 267.9166 211.1414\n",
       "2021-01-05 127.9681 45.8261 112.9196 124.8622 269.9389 207.9902\n",
       "2021-01-06 123.6605 46.1122 118.2218 126.1766 262.3080 206.1576\n",
       "2021-01-07 127.8801 46.1091 122.1041 124.9973 267.7173 207.3115\n",
       "2021-01-08 128.9839 46.1028 122.2390 124.9432 266.5518 208.9016"
      ]
     },
     "metadata": {},
     "output_type": "display_data"
    },
    {
     "name": "stdout",
     "output_type": "stream",
     "text": [
      "\n",
      "Volumen de los activos\n"
     ]
    },
    {
     "data": {
      "text/html": [
       "<div>\n",
       "<style scoped>\n",
       "    .dataframe tbody tr th:only-of-type {\n",
       "        vertical-align: middle;\n",
       "    }\n",
       "\n",
       "    .dataframe tbody tr th {\n",
       "        vertical-align: top;\n",
       "    }\n",
       "\n",
       "    .dataframe thead th {\n",
       "        text-align: right;\n",
       "    }\n",
       "</style>\n",
       "<table border=\"1\" class=\"dataframe\">\n",
       "  <thead>\n",
       "    <tr style=\"text-align: right;\">\n",
       "      <th>Ticker</th>\n",
       "      <th>AAPL</th>\n",
       "      <th>WMT</th>\n",
       "      <th>JPM</th>\n",
       "      <th>PG</th>\n",
       "      <th>META</th>\n",
       "      <th>V</th>\n",
       "    </tr>\n",
       "    <tr>\n",
       "      <th>Date</th>\n",
       "      <th></th>\n",
       "      <th></th>\n",
       "      <th></th>\n",
       "      <th></th>\n",
       "      <th></th>\n",
       "      <th></th>\n",
       "    </tr>\n",
       "  </thead>\n",
       "  <tbody>\n",
       "    <tr>\n",
       "      <th>2021-01-04</th>\n",
       "      <td>143301900</td>\n",
       "      <td>32182200</td>\n",
       "      <td>16819900</td>\n",
       "      <td>8330900</td>\n",
       "      <td>15106100</td>\n",
       "      <td>10318300</td>\n",
       "    </tr>\n",
       "    <tr>\n",
       "      <th>2021-01-05</th>\n",
       "      <td>97664900</td>\n",
       "      <td>26498100</td>\n",
       "      <td>13731200</td>\n",
       "      <td>6856400</td>\n",
       "      <td>9871600</td>\n",
       "      <td>6869700</td>\n",
       "    </tr>\n",
       "    <tr>\n",
       "      <th>2021-01-06</th>\n",
       "      <td>155088000</td>\n",
       "      <td>21918900</td>\n",
       "      <td>24909100</td>\n",
       "      <td>10578000</td>\n",
       "      <td>24354100</td>\n",
       "      <td>7206200</td>\n",
       "    </tr>\n",
       "    <tr>\n",
       "      <th>2021-01-07</th>\n",
       "      <td>109578200</td>\n",
       "      <td>20538000</td>\n",
       "      <td>21940400</td>\n",
       "      <td>7355400</td>\n",
       "      <td>15789800</td>\n",
       "      <td>10967900</td>\n",
       "    </tr>\n",
       "    <tr>\n",
       "      <th>2021-01-08</th>\n",
       "      <td>105158200</td>\n",
       "      <td>24478200</td>\n",
       "      <td>12035100</td>\n",
       "      <td>7448500</td>\n",
       "      <td>18528300</td>\n",
       "      <td>6513000</td>\n",
       "    </tr>\n",
       "  </tbody>\n",
       "</table>\n",
       "</div>"
      ],
      "text/plain": [
       "Ticker           AAPL       WMT       JPM        PG      META         V\n",
       "Date                                                                   \n",
       "2021-01-04  143301900  32182200  16819900   8330900  15106100  10318300\n",
       "2021-01-05   97664900  26498100  13731200   6856400   9871600   6869700\n",
       "2021-01-06  155088000  21918900  24909100  10578000  24354100   7206200\n",
       "2021-01-07  109578200  20538000  21940400   7355400  15789800  10967900\n",
       "2021-01-08  105158200  24478200  12035100   7448500  18528300   6513000"
      ]
     },
     "metadata": {},
     "output_type": "display_data"
    }
   ],
   "source": [
    "print(f'Precios de los activos')\n",
    "display(price.head())\n",
    "print()\n",
    "\n",
    "print(f'Volumen de los activos')\n",
    "display(volume.head());"
   ]
  },
  {
   "cell_type": "code",
   "execution_count": 4,
   "metadata": {},
   "outputs": [
    {
     "data": {
      "text/html": [
       "<div>\n",
       "<style scoped>\n",
       "    .dataframe tbody tr th:only-of-type {\n",
       "        vertical-align: middle;\n",
       "    }\n",
       "\n",
       "    .dataframe tbody tr th {\n",
       "        vertical-align: top;\n",
       "    }\n",
       "\n",
       "    .dataframe thead th {\n",
       "        text-align: right;\n",
       "    }\n",
       "</style>\n",
       "<table border=\"1\" class=\"dataframe\">\n",
       "  <thead>\n",
       "    <tr style=\"text-align: right;\">\n",
       "      <th>Ticker</th>\n",
       "      <th>AAPL</th>\n",
       "      <th>WMT</th>\n",
       "      <th>JPM</th>\n",
       "      <th>PG</th>\n",
       "      <th>META</th>\n",
       "      <th>V</th>\n",
       "    </tr>\n",
       "  </thead>\n",
       "  <tbody>\n",
       "    <tr>\n",
       "      <th>Rendimiento Anual</th>\n",
       "      <td>16.96%</td>\n",
       "      <td>17.44%</td>\n",
       "      <td>20.03%</td>\n",
       "      <td>9.45%</td>\n",
       "      <td>29.47%</td>\n",
       "      <td>13.41%</td>\n",
       "    </tr>\n",
       "    <tr>\n",
       "      <th>Volatilidad Anual</th>\n",
       "      <td>26.74%</td>\n",
       "      <td>20.19%</td>\n",
       "      <td>24.16%</td>\n",
       "      <td>17.05%</td>\n",
       "      <td>44.15%</td>\n",
       "      <td>22.53%</td>\n",
       "    </tr>\n",
       "  </tbody>\n",
       "</table>\n",
       "</div>"
      ],
      "text/plain": [
       "Ticker              AAPL    WMT    JPM     PG   META      V\n",
       "Rendimiento Anual 16.96% 17.44% 20.03%  9.45% 29.47% 13.41%\n",
       "Volatilidad Anual 26.74% 20.19% 24.16% 17.05% 44.15% 22.53%"
      ]
     },
     "execution_count": 4,
     "metadata": {},
     "output_type": "execute_result"
    }
   ],
   "source": [
    "pd.set_option('display.float_format', '{:.2%}'.format)\n",
    "stats_df = pd.DataFrame({\n",
    "    'Rendimiento Anual': rt.mean() * 252,\n",
    "    'Volatilidad Anual': rt.std() * np.sqrt(252),\n",
    "})\n",
    "stats_df.T"
   ]
  },
  {
   "cell_type": "markdown",
   "metadata": {},
   "source": [
    "## Optimización y Evolución de Portafolios"
   ]
  },
  {
   "cell_type": "markdown",
   "metadata": {},
   "source": [
    "### Funciones de Optimización"
   ]
  },
  {
   "cell_type": "code",
   "execution_count": 5,
   "metadata": {},
   "outputs": [],
   "source": [
    "def opt_sharpe(returns: pd.DataFrame, rf: float) -> np.ndarray:\n",
    "    \"\"\"\n",
    "    Optimiza los pesos de un portafolio para maximizar el Sharpe Ratio.\n",
    "\n",
    "    Parámetros:\n",
    "    -----------\n",
    "    returns : DataFrame\n",
    "        Un DataFrame de pandas que contiene los rendimientos históricos diarios de los activos.\n",
    "    rf : float\n",
    "        Tasa libre de riesgo anualizada.\n",
    "\n",
    "    Retorna:\n",
    "    --------\n",
    "    w_opt_sharpe : ndarray\n",
    "        Un array con los pesos óptimos de los activos en el portafolio que maximizan el Sharpe Ratio.\n",
    "    \"\"\"\n",
    "\n",
    "    # Cálculos\n",
    "    mu = (returns.mean() * 252).values\n",
    "    sigma = returns.cov().values\n",
    "    n_assets = len(mu)\n",
    "\n",
    "    # Función para minimizar (-Sharpe Ratio)\n",
    "    def neg_sharpe_ratio(w, mu, sigma, rf):\n",
    "        port_return = np.dot(w, mu)\n",
    "        port_vol = np.sqrt(np.dot(w.T, np.dot(sigma, w))) * np.sqrt(252)\n",
    "        sharpe_ratio = (port_return - rf) / port_vol\n",
    "        return -sharpe_ratio\n",
    "    \n",
    "    # Restricciones: Suma de pesos = 1\n",
    "    constraints = ({\n",
    "        'type': 'eq',\n",
    "        'fun': lambda w: np.sum(w) - 1\n",
    "    })\n",
    "\n",
    "    # Límites: Pesos entre 0 y 1 (no posiciones cortas)\n",
    "    bounds = tuple((0, 1) for _ in range(n_assets))\n",
    "\n",
    "    # Pesos iniciales (distribuidos uniformemente)\n",
    "    w0 = np.array([1 / n_assets] * n_assets)\n",
    "\n",
    "    # Optimización\n",
    "    result = minimize(neg_sharpe_ratio, \n",
    "            w0, \n",
    "            args=(mu, sigma, rf), \n",
    "            method='SLSQP', \n",
    "            bounds=bounds, \n",
    "            constraints=constraints)\n",
    "    \n",
    "    # Resultados\n",
    "    w_opt_sharpe = result.x\n",
    "\n",
    "    return w_opt_sharpe"
   ]
  },
  {
   "cell_type": "code",
   "execution_count": 6,
   "metadata": {},
   "outputs": [],
   "source": [
    "pd.reset_option('display.float_format')\n",
    "\n",
    "rf = 0.05\n",
    "start_date = '2022-01-01'\n",
    "end_date = '2023-12-31'\n",
    "price_train = price.loc[start_date:end_date]\n",
    "\n",
    "rt_train = price_train.pct_change().dropna()"
   ]
  },
  {
   "cell_type": "markdown",
   "metadata": {},
   "source": [
    "### Máximo Ratio de Sharpe"
   ]
  },
  {
   "cell_type": "code",
   "execution_count": 7,
   "metadata": {},
   "outputs": [
    {
     "data": {
      "image/png": "[encoded data removed]",
      "text/plain": [
       "<Figure size 800x800 with 1 Axes>"
      ]
     },
     "metadata": {},
     "output_type": "display_data"
    }
   ],
   "source": [
    "w_sharpe = opt_sharpe(rt_train, rf)\n",
    "vt.plot_weights(tickers, w_sharpe)"
   ]
  }
 ],
 "metadata": {
  "kernelspec": {
   "display_name": "base",
   "language": "python",
   "name": "python3"
  },
  "language_info": {
   "codemirror_mode": {
    "name": "ipython",
    "version": 3
   },
   "file_extension": ".py",
   "mimetype": "text/x-python",
   "name": "python",
   "nbconvert_exporter": "python",
   "pygments_lexer": "ipython3",
   "version": "3.12.3"
  }
 },
 "nbformat": 4,
 "nbformat_minor": 2
}
