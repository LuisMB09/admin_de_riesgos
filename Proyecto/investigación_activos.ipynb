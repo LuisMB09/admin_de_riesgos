{
 "cells": [
  {
   "cell_type": "markdown",
   "metadata": {},
   "source": [
    "# <font color = \"navy\"> Investigación de activos\n",
    "\n",
    "## <font color = \"royalblue\"> Activos <font color = \"black\">\n",
    "\n",
    "**Hedge**:\n",
    "- GLD\n",
    "\n",
    "**Safe**:\n",
    "- PG\n",
    "- DUK\n",
    "- MCD\n",
    "\n",
    "**Ofensive**:\n",
    "- TSM\n",
    "- ETN o EME\n",
    "- CRM o MSFT\n",
    "\n",
    "<div align=\"center\">\n",
    "\n",
    "| **Ticker** | **Sector**     | **Industria**                      |\n",
    "|:---------:|:-------------:|:---------------------------------:|\n",
    "| MSFT      | Tecnología    | Software y servicios tecnológicos |\n",
    "| V         | Financiero    | Servicios financieros           |\n",
    "| CRM       | Tecnología    | Software y servicios tecnológicos |\n",
    "| EME       | Industrial    | Construcción y servicios de ingeniería |\n",
    "| ISRG      | Salud        | Equipos y suministros médicos  |\n",
    "| LIN       | Materiales    | Gases industriales y de ingeniería |\n",
    "| ETN       | Industrial    | Equipos eléctricos y gestión de energía |\n",
    "\n",
    "</div>\n"
   ]
  },
  {
   "cell_type": "markdown",
   "metadata": {},
   "source": [
    "# <font color = \"navy\"> Formato <font color = \"black\">\n",
    "\n",
    "- Descripción de la empresa\n",
    "- Fundamentales\n",
    "    - Margins\n",
    "    - FCF\n",
    "    - Liquidity\n",
    "    - EPS\n",
    "    - P/E\n",
    "    - P/BV\n",
    "- Expectativas y planes a futuro \n",
    "\n",
    "## <font color = \"royalblue\"> Reparto <font color = \"black\">\n",
    "\n",
    "Luis Jiménez:\n",
    "- DUK\n",
    "- TSM\n",
    "- EME\n",
    "- LIN\n",
    "\n",
    "Luis Márquez:\n",
    "- GLD\n",
    "- PG\n",
    "- CRM\n",
    "- V\n",
    "\n",
    "Diego Lozoya:\n",
    "- MCD\n",
    "- MSFT\n",
    "- ETN\n",
    "- ISRG"
   ]
  }
 ],
 "metadata": {
  "kernelspec": {
   "display_name": "base",
   "language": "python",
   "name": "python3"
  },
  "language_info": {
   "codemirror_mode": {
    "name": "ipython",
    "version": 3
   },
   "file_extension": ".py",
   "mimetype": "text/x-python",
   "name": "python",
   "nbconvert_exporter": "python",
   "pygments_lexer": "ipython3",
   "version": "3.12.3"
  }
 },
 "nbformat": 4,
 "nbformat_minor": 2
}
