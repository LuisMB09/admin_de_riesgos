{
 "cells": [
  {
   "cell_type": "code",
   "execution_count": 1,
   "id": "38889761",
   "metadata": {},
   "outputs": [],
   "source": [
    "import numpy as np"
   ]
  },
  {
   "cell_type": "code",
   "execution_count": 2,
   "id": "7e93df40",
   "metadata": {},
   "outputs": [],
   "source": [
    "n_bonds = np.array([35_000, 45_000, 50_000])\n",
    "coupons = np.array([0.06, 0.07, 0.08])\n",
    "initial_prices = np.array([98.75, 101.5, 97.6])\n",
    "final_prices = np.array([96.4, 97.3, 92.8])\n",
    "fixed_rate = 0.04\n",
    "t = 2\n",
    "pay_total_return = True"
   ]
  },
  {
   "cell_type": "code",
   "execution_count": 3,
   "id": "28ea579b",
   "metadata": {},
   "outputs": [],
   "source": [
    "def TRS(n_bonds: np.array, coupons: np.array, initial_prices: np.array, final_prices: np.array, fixed_rate: float, t: int, pay_total_return: bool):\n",
    "\n",
    "    initial_value = np.dot(n_bonds, initial_prices)\n",
    "    final_value = np.dot(n_bonds, final_prices)\n",
    "    cuopons_pay = np.sum(100 * n_bonds * coupons/t)\n",
    "    total_return = final_value - initial_value + cuopons_pay\n",
    "    fixed_rate_pay = initial_value * fixed_rate / t\n",
    "\n",
    "    return fixed_rate_pay - total_return if pay_total_return else total_return - fixed_rate_pay"
   ]
  },
  {
   "cell_type": "code",
   "execution_count": 4,
   "id": "b2c8f47c",
   "metadata": {},
   "outputs": [
    {
     "data": {
      "text/plain": [
       "306825.0"
      ]
     },
     "execution_count": 4,
     "metadata": {},
     "output_type": "execute_result"
    }
   ],
   "source": [
    "TRS(n_bonds, coupons, initial_prices, final_prices, fixed_rate, t, pay_total_return)"
   ]
  },
  {
   "cell_type": "code",
   "execution_count": 5,
   "id": "78e04b22",
   "metadata": {},
   "outputs": [],
   "source": [
    "def TRS(n_bonds: np.array, coupons: np.array, initial_prices: np.array, final_prices: np.array, fixed_rate: float, t: int, pay_total_return: bool):\n",
    "\n",
    "    initial_value = np.dot(n_bonds, initial_prices)\n",
    "    final_value = np.dot(n_bonds, final_prices)\n",
    "    cuopons_pay = np.sum(100 * n_bonds * coupons/t)\n",
    "\n",
    "    return (initial_value * fixed_rate / t) - (final_value - initial_value + cuopons_pay) if pay_total_return else (final_value - initial_value + cuopons_pay) - (initial_value * fixed_rate / t)"
   ]
  },
  {
   "cell_type": "code",
   "execution_count": 6,
   "id": "8ccb9987",
   "metadata": {},
   "outputs": [],
   "source": [
    "def TRS(n_bonds: np.array, coupons: np.array, initial_prices: np.array, final_prices: np.array, fixed_rate: float, t: int, pay_total_return: bool):\n",
    "\n",
    "    return (np.dot(n_bonds, initial_prices) * fixed_rate / t) - (np.dot(n_bonds, final_prices) - np.dot(n_bonds, initial_prices) + np.sum(100 * n_bonds * coupons/t)) if pay_total_return else (np.dot(n_bonds, final_prices) - np.dot(n_bonds, initial_prices) + np.sum(100 * n_bonds * coupons/t)) - (np.dot(n_bonds, initial_prices) * fixed_rate / t)"
   ]
  },
  {
   "cell_type": "code",
   "execution_count": 7,
   "id": "2fecf578",
   "metadata": {},
   "outputs": [],
   "source": [
    "def TRS(n_bonds: np.array, coupons: np.array, initial_prices: np.array, final_prices: np.array, fixed_rate: float, t: int, pay_total_return: bool):\n",
    "\n",
    "    return (((np.dot(n_bonds, initial_prices) * fixed_rate / t) - (np.dot(n_bonds, final_prices) - np.dot(n_bonds, initial_prices) + np.sum(100 * n_bonds * coupons/t))) if pay_total_return \n",
    "            else ((np.dot(n_bonds, final_prices) - np.dot(n_bonds, initial_prices) + np.sum(100 * n_bonds * coupons/t)) - (np.dot(n_bonds, initial_prices) * fixed_rate / t)))"
   ]
  },
  {
   "cell_type": "code",
   "execution_count": 8,
   "id": "05631781",
   "metadata": {},
   "outputs": [],
   "source": [
    "n_bonds = np.array([40_000, 50_000, 30_000])\n",
    "coupons = np.array([0.0650, 0.0575, 0.0425])\n",
    "initial_prices = np.array([106.83, 101.45, 98.36])\n",
    "final_prices = np.array([104.27, 100.67, 97.24])\n",
    "fixed_rate = 0.0645\n",
    "t = 4\n",
    "pay_total_return = False"
   ]
  },
  {
   "cell_type": "code",
   "execution_count": 9,
   "id": "339b7de5",
   "metadata": {},
   "outputs": [
    {
     "data": {
      "text/plain": [
       "-204531.0625"
      ]
     },
     "execution_count": 9,
     "metadata": {},
     "output_type": "execute_result"
    }
   ],
   "source": [
    "TRS(n_bonds, coupons, initial_prices, final_prices, fixed_rate, t, pay_total_return)"
   ]
  }
 ],
 "metadata": {
  "kernelspec": {
   "display_name": "base",
   "language": "python",
   "name": "python3"
  },
  "language_info": {
   "codemirror_mode": {
    "name": "ipython",
    "version": 3
   },
   "file_extension": ".py",
   "mimetype": "text/x-python",
   "name": "python",
   "nbconvert_exporter": "python",
   "pygments_lexer": "ipython3",
   "version": "3.12.3"
  }
 },
 "nbformat": 4,
 "nbformat_minor": 5
}
