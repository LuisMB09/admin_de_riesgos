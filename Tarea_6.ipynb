{
 "cells": [
  {
   "cell_type": "markdown",
   "id": "414f2359",
   "metadata": {},
   "source": [
    "# <font color='navy'> Tarea 6: TRS y CDS\n",
    "<font color='navy'> Luis Fernando Márquez Bañuelos | 744489"
   ]
  },
  {
   "cell_type": "markdown",
   "id": "8ed913ff",
   "metadata": {},
   "source": [
    "## <font color='navy'> Total Return Swaps"
   ]
  },
  {
   "cell_type": "code",
   "execution_count": 1,
   "id": "38889761",
   "metadata": {},
   "outputs": [],
   "source": [
    "import numpy as np"
   ]
  },
  {
   "cell_type": "code",
   "execution_count": 2,
   "id": "28ea579b",
   "metadata": {},
   "outputs": [],
   "source": [
    "def TRS(n_bonds: np.array, coupons: np.array, initial_prices: np.array, final_prices: np.array, fixed_rate: float, t: int, pay_total_return: bool):\n",
    "\n",
    "    initial_value = np.dot(n_bonds, initial_prices)\n",
    "    final_value = np.dot(n_bonds, final_prices)\n",
    "    cuopons_pay = np.sum(100 * n_bonds * coupons/t)\n",
    "    total_return = final_value - initial_value + cuopons_pay\n",
    "    fixed_rate_pay = initial_value * fixed_rate / t\n",
    "\n",
    "    return fixed_rate_pay - total_return if pay_total_return else total_return - fixed_rate_pay"
   ]
  },
  {
   "cell_type": "code",
   "execution_count": 3,
   "id": "7e93df40",
   "metadata": {},
   "outputs": [],
   "source": [
    "n_bonds = np.array([35_000, 45_000, 50_000])\n",
    "coupons = np.array([0.06, 0.07, 0.08])\n",
    "initial_prices = np.array([98.75, 101.5, 97.6])\n",
    "final_prices = np.array([96.4, 97.3, 92.8])\n",
    "fixed_rate = 0.04\n",
    "t = 2\n",
    "pay_total_return = True"
   ]
  },
  {
   "cell_type": "code",
   "execution_count": 4,
   "id": "b2c8f47c",
   "metadata": {},
   "outputs": [
    {
     "data": {
      "text/plain": [
       "306825.0"
      ]
     },
     "execution_count": 4,
     "metadata": {},
     "output_type": "execute_result"
    }
   ],
   "source": [
    "TRS(n_bonds, coupons, initial_prices, final_prices, fixed_rate, t, pay_total_return)"
   ]
  },
  {
   "cell_type": "code",
   "execution_count": 5,
   "id": "05631781",
   "metadata": {},
   "outputs": [],
   "source": [
    "n_bonds = np.array([40_000, 50_000, 30_000])\n",
    "coupons = np.array([0.0650, 0.0575, 0.0425])\n",
    "initial_prices = np.array([106.83, 101.45, 98.36])\n",
    "final_prices = np.array([104.27, 100.67, 97.24])\n",
    "fixed_rate = 0.0645\n",
    "t = 4\n",
    "pay_total_return = False"
   ]
  },
  {
   "cell_type": "code",
   "execution_count": 6,
   "id": "339b7de5",
   "metadata": {},
   "outputs": [
    {
     "data": {
      "text/plain": [
       "-204531.0625"
      ]
     },
     "execution_count": 6,
     "metadata": {},
     "output_type": "execute_result"
    }
   ],
   "source": [
    "TRS(n_bonds, coupons, initial_prices, final_prices, fixed_rate, t, pay_total_return)"
   ]
  },
  {
   "cell_type": "markdown",
   "id": "6cd53797",
   "metadata": {},
   "source": [
    "## <font color='navy'> Credit Default Swaps"
   ]
  },
  {
   "cell_type": "markdown",
   "id": "c13ce34c",
   "metadata": {},
   "source": [
    "Spread del CDS:\n",
    "\n",
    "$$\n",
    "S_0 = \\frac{\\text{Protection Leg}}{RPV01}\n",
    "$$\n",
    "\n",
    "donde Protection Leg:\n",
    "\n",
    "$$\n",
    "\\text{Protection Leg} = \\int_0^T \\ Z(\\tau) (1-R) dPD(\\tau)\n",
    "$$\n",
    "\n",
    "y RPV01:\n",
    "\n",
    "$$\n",
    "RPV01 = \\sum_{j=1}^N Z(tj) \\Delta (tj - 1, tj, B) Q (tj)\n",
    "$$"
   ]
  },
  {
   "cell_type": "markdown",
   "id": "b81d931e",
   "metadata": {},
   "source": [
    "- **¿Qué es el RPV01? ¿Como se interpreta? ¿Que representan los elementos utilizados para calcularlos?**\n",
    "\n",
    "El RPV01 es el valor presente esperado de 1 basis point (bp) pagado en la premium leg hasta default o vencimiento. La R es de \"risky\" ya que el RPV01 es el valor presente esperado de un flujo de primas incierto. (Pág 3)\n",
    "\n",
    "El RPV01 no dice que tan sensible es el valor de la premium leg ante un cabo de 1bp en el spread. Un RPV01 indica más sensibilidad en la premium leg por cada basis point que se mueve el spread. (Pág 3-4)\n",
    "\n",
    "$$\n",
    "RPV01 = \\sum_{j=1}^N Z(tj) \\Delta (tj - 1, tj, B) Q (tj)\n",
    "$$\n",
    "\n",
    "donde:\n",
    "\n",
    "- $Z(tj)$: Tasa de descuento de la fecha de valuación hasta la fecha de pago de la prima. (Tasa Libor en el paper revisado)\n",
    "- $\\Delta (tj-1,tj,B)$: Fracción de año (conteo de días) entre fechas de pago de primas.\n",
    "- $Q(tj)$: Probabilidad de supervivencia de la entidad de referencia desde fecha de valuación hasta fecha de pago de la prima. Toma en cuenta para la valueción del riesgo que la entidad de referencia no llegue a la fecha de pago de la prima.\n",
    "\n",
    "(Pág 6-7)\n",
    "\n",
    "\n",
    "- **¿Qué es el Protection Leg? ¿Como se interpreta? ¿Que representan los elementos utilizados para calcularlos?**\n",
    "\n",
    "Es el pago (1-R) o LGD descontado a valor presente en caso que se de un evento de crédito. (Pág 8)\n",
    "\n",
    "En geenral se considera como el valor presente de la pérdida esperada (LGD) ajustada por su probabilidad de default. Ya que si la PD es más grande la prima es mayor o si el recovery rate es más chico la prima es mayor (visto en clase).\n",
    "\n",
    "$$\n",
    "\\text{Protection Leg} = \\int_0^T \\ Z(\\tau) (1-R) dPD(\\tau)\n",
    "$$\n",
    "\n",
    "donde:\n",
    "\n",
    "- $Z(\\tau)$: factor de descuento al tiempo $\\tau$.\n",
    "- $(1-R)$: Lo que se le paga al protection buyer (LGD) donde $R$ es el recovery rate.\n",
    "- $dPD(\\tau)$: densidad de la probabilidad de supervivencia al tiempo $\\tau$.\n",
    "\n",
    "(Pág 9)\n",
    "\n",
    "- **¿Qué representa el spread de un CDS de manera matemática?, es decir, como se interpreta el ratio utilizado para calcularlo y que significa.**\n",
    "\n",
    "El spread de un CDS se calcula de la siguiente manera:\n",
    "\n",
    "$$\n",
    "S_0 = \\frac{\\text{Protection Leg}}{RPV01}\n",
    "$$\n",
    "\n",
    "Aqui se utiliza tanto el Protection Leg como el RPV01 definidos anteriormente.\n",
    "\n",
    "La interpretación directa es que tanto representa el Protection Leg (LGD esperado a valor presente) del RPV01 (valor esperado presente de 1 bp). Se le considera el spread de equilibrio ya que es el que iguala el valor presente de la premium leg y del protection leg. Además nos proporciona una relación directa entre el spread de mercado y la probabilidad de supervivencia implícita en el mercado.\n",
    "\n",
    "(Pág 11)\n",
    "\n",
    "- **¿Qué otros elementos de un CDS es importante conocer y como se calculan?**\n",
    "\n",
    "Uno de los elementos importantes a conocer son los **`Hazard Rates`** que refleja las probabilidades de que la entidad de referencia tenga en un evento de crédito en distintos puntos del tiempo.\n",
    "\n",
    "Esta estrucutra de hazard rates se construye a través de un proceso iterativo el cual es el bootstrapping. Inicia con la fecha de vencimiento más cercana para calcular la probabilidad de supervivencia. Se calcula de la siguiente manera (asumiendo pagos timestrales) :\n",
    "\n",
    "$$\n",
    "\\frac{S(t_v, t_v + 1Y)}{1- R} \\ \\sum_{n=3,6,9,12} \\Delta(t_{n-3},t_n,B) Z(t_v,t_n)e^{-\\lambda_{01}\\tau_n} = \\sum_{m=1}^{12} Z(t_v,t_m)(e^{-\\lambda_{01}\\tau_{m-1}}-e^{\\lambda_{01}\\tau_m})\n",
    "$$\n",
    "\n",
    "Esto se hace para $\\lambda_{0,1}$ y la ecuación se resuelve con one-dimensional root-searching algorythm. El proceso se repite para todas las $\\lambda$'s hasta llegar al vencimiento. Así obtienes las probabilidades de supervivencia en distintos puntos del tiempo, y te permite ver si el mercado percibe más riesgo a largo plazo o menos riesgo.\n",
    "\n",
    "El cálculo de estas probabilidades es esencial para obtener PD, y calcular tanto el Protection Leg como el RPV01 que son los elementos necesarios para obtener el spread.\n",
    "\n",
    "(Pág 13)\n",
    "\n",
    "Otro concepto importante es el **`Market-to-Market Value (MTM)`** el cual se calcula de la siguiente manera (fecha de valuación es una fecha de pago de prima):\n",
    "\n",
    "$$\n",
    "MTM(t_V,t_N) = \\pm [S(t_V,t_N) - S(t_0,t_N)] \\times RPV01(t_V,t_N)\n",
    "$$\n",
    "\n",
    "Esto representa el valor presente de un CDS en el mercado. Es la ganacia o pérdida del titular del contrato en caso de cerrar su posicón. La fórmula utilizada se debe a que el PNL de un CDS no puede ser calculado igual que el de los bonos.\n",
    "\n",
    "(Pág 3 y 15)"
   ]
  },
  {
   "cell_type": "markdown",
   "id": "4eac0d7b",
   "metadata": {},
   "source": [
    "## <font color='navy'> Referencias Bibliográficas\n",
    "\n",
    "<font color='black'>\n",
    "\n",
    "O’Kane, D., & Turnbull, S. (2003). *Valuation of credit default swaps*. Quantitative Credit Research QCR Quarterly (2003-Q1/Q2). Recuperado el 30 de abril de 2025, de https://www.researchgate.net/publication/228872070_Valuation_of_credit_default_swaps\n",
    "\n",
    "Páginas (3-15)"
   ]
  }
 ],
 "metadata": {
  "kernelspec": {
   "display_name": "base",
   "language": "python",
   "name": "python3"
  },
  "language_info": {
   "codemirror_mode": {
    "name": "ipython",
    "version": 3
   },
   "file_extension": ".py",
   "mimetype": "text/x-python",
   "name": "python",
   "nbconvert_exporter": "python",
   "pygments_lexer": "ipython3",
   "version": "3.12.3"
  }
 },
 "nbformat": 4,
 "nbformat_minor": 5
}
