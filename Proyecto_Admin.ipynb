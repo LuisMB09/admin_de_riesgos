{
 "cells": [
  {
   "cell_type": "code",
   "execution_count": 1,
   "metadata": {},
   "outputs": [],
   "source": [
    "import datetime\n",
    "import numpy as np\n",
    "import pandas as pd\n",
    "import yfinance as yf\n",
    "import vartools as vt\n",
    "\n",
    "import matplotlib.pyplot as plt\n",
    "from scipy.optimize import minimize\n",
    "from IPython.display import display\n",
    "from sklearn.linear_model import LinearRegression"
   ]
  },
  {
   "cell_type": "markdown",
   "metadata": {},
   "source": [
    "## Obtención de datos"
   ]
  },
  {
   "cell_type": "code",
   "execution_count": 2,
   "metadata": {},
   "outputs": [
    {
     "name": "stdout",
     "output_type": "stream",
     "text": [
      "YF.download() has changed argument auto_adjust default to True\n"
     ]
    }
   ],
   "source": [
    "tickers = ['F', 'WMT', 'MCD', 'PG', 'V']\n",
    "benchmark = 'SPY'\n",
    "\n",
    "price = yf.download(tickers, start='2021-01-01', end='2025-03-12', progress=False)['Close'][tickers]\n",
    "volume = yf.download(tickers, start='2021-01-01', end='2025-03-12', progress=False)['Volume'][tickers]\n",
    "\n",
    "benchmark_data = yf.download(benchmark, start='2021-01-01', end='2025-03-12', progress=False)['Close']\n",
    "\n",
    "rt = price.pct_change().dropna()\n",
    "rt_benchmark = benchmark_data.pct_change().dropna()"
   ]
  },
  {
   "cell_type": "code",
   "execution_count": 3,
   "metadata": {},
   "outputs": [
    {
     "name": "stdout",
     "output_type": "stream",
     "text": [
      "Precios de los activos\n"
     ]
    },
    {
     "data": {
      "text/html": [
       "<div>\n",
       "<style scoped>\n",
       "    .dataframe tbody tr th:only-of-type {\n",
       "        vertical-align: middle;\n",
       "    }\n",
       "\n",
       "    .dataframe tbody tr th {\n",
       "        vertical-align: top;\n",
       "    }\n",
       "\n",
       "    .dataframe thead th {\n",
       "        text-align: right;\n",
       "    }\n",
       "</style>\n",
       "<table border=\"1\" class=\"dataframe\">\n",
       "  <thead>\n",
       "    <tr style=\"text-align: right;\">\n",
       "      <th>Ticker</th>\n",
       "      <th>F</th>\n",
       "      <th>WMT</th>\n",
       "      <th>MCD</th>\n",
       "      <th>PG</th>\n",
       "      <th>V</th>\n",
       "    </tr>\n",
       "    <tr>\n",
       "      <th>Date</th>\n",
       "      <th></th>\n",
       "      <th></th>\n",
       "      <th></th>\n",
       "      <th></th>\n",
       "      <th></th>\n",
       "    </tr>\n",
       "  </thead>\n",
       "  <tbody>\n",
       "    <tr>\n",
       "      <th>2021-01-04</th>\n",
       "      <td>6.7238</td>\n",
       "      <td>46.0713</td>\n",
       "      <td>190.8101</td>\n",
       "      <td>124.0700</td>\n",
       "      <td>211.1414</td>\n",
       "    </tr>\n",
       "    <tr>\n",
       "      <th>2021-01-05</th>\n",
       "      <td>6.8264</td>\n",
       "      <td>45.8261</td>\n",
       "      <td>191.9538</td>\n",
       "      <td>124.8622</td>\n",
       "      <td>207.9902</td>\n",
       "    </tr>\n",
       "    <tr>\n",
       "      <th>2021-01-06</th>\n",
       "      <td>6.9764</td>\n",
       "      <td>46.1122</td>\n",
       "      <td>191.5181</td>\n",
       "      <td>126.1766</td>\n",
       "      <td>206.1576</td>\n",
       "    </tr>\n",
       "    <tr>\n",
       "      <th>2021-01-07</th>\n",
       "      <td>7.1500</td>\n",
       "      <td>46.1091</td>\n",
       "      <td>192.4076</td>\n",
       "      <td>124.9973</td>\n",
       "      <td>207.3114</td>\n",
       "    </tr>\n",
       "    <tr>\n",
       "      <th>2021-01-08</th>\n",
       "      <td>7.1026</td>\n",
       "      <td>46.1028</td>\n",
       "      <td>195.9384</td>\n",
       "      <td>124.9432</td>\n",
       "      <td>208.9016</td>\n",
       "    </tr>\n",
       "  </tbody>\n",
       "</table>\n",
       "</div>"
      ],
      "text/plain": [
       "Ticker          F     WMT      MCD       PG        V\n",
       "Date                                                \n",
       "2021-01-04 6.7238 46.0713 190.8101 124.0700 211.1414\n",
       "2021-01-05 6.8264 45.8261 191.9538 124.8622 207.9902\n",
       "2021-01-06 6.9764 46.1122 191.5181 126.1766 206.1576\n",
       "2021-01-07 7.1500 46.1091 192.4076 124.9973 207.3114\n",
       "2021-01-08 7.1026 46.1028 195.9384 124.9432 208.9016"
      ]
     },
     "metadata": {},
     "output_type": "display_data"
    },
    {
     "name": "stdout",
     "output_type": "stream",
     "text": [
      "\n",
      "Volumen de los activos\n"
     ]
    },
    {
     "data": {
      "text/html": [
       "<div>\n",
       "<style scoped>\n",
       "    .dataframe tbody tr th:only-of-type {\n",
       "        vertical-align: middle;\n",
       "    }\n",
       "\n",
       "    .dataframe tbody tr th {\n",
       "        vertical-align: top;\n",
       "    }\n",
       "\n",
       "    .dataframe thead th {\n",
       "        text-align: right;\n",
       "    }\n",
       "</style>\n",
       "<table border=\"1\" class=\"dataframe\">\n",
       "  <thead>\n",
       "    <tr style=\"text-align: right;\">\n",
       "      <th>Ticker</th>\n",
       "      <th>F</th>\n",
       "      <th>WMT</th>\n",
       "      <th>MCD</th>\n",
       "      <th>PG</th>\n",
       "      <th>V</th>\n",
       "    </tr>\n",
       "    <tr>\n",
       "      <th>Date</th>\n",
       "      <th></th>\n",
       "      <th></th>\n",
       "      <th></th>\n",
       "      <th></th>\n",
       "      <th></th>\n",
       "    </tr>\n",
       "  </thead>\n",
       "  <tbody>\n",
       "    <tr>\n",
       "      <th>2021-01-04</th>\n",
       "      <td>85043100</td>\n",
       "      <td>32182200</td>\n",
       "      <td>4055400</td>\n",
       "      <td>8330900</td>\n",
       "      <td>10318300</td>\n",
       "    </tr>\n",
       "    <tr>\n",
       "      <th>2021-01-05</th>\n",
       "      <td>70127800</td>\n",
       "      <td>26498100</td>\n",
       "      <td>2576100</td>\n",
       "      <td>6856400</td>\n",
       "      <td>6869700</td>\n",
       "    </tr>\n",
       "    <tr>\n",
       "      <th>2021-01-06</th>\n",
       "      <td>72590200</td>\n",
       "      <td>21918900</td>\n",
       "      <td>3083400</td>\n",
       "      <td>10578000</td>\n",
       "      <td>7206200</td>\n",
       "    </tr>\n",
       "    <tr>\n",
       "      <th>2021-01-07</th>\n",
       "      <td>77117100</td>\n",
       "      <td>20538000</td>\n",
       "      <td>3142000</td>\n",
       "      <td>7355400</td>\n",
       "      <td>10967900</td>\n",
       "    </tr>\n",
       "    <tr>\n",
       "      <th>2021-01-08</th>\n",
       "      <td>59162200</td>\n",
       "      <td>24478200</td>\n",
       "      <td>2639100</td>\n",
       "      <td>7448500</td>\n",
       "      <td>6513000</td>\n",
       "    </tr>\n",
       "  </tbody>\n",
       "</table>\n",
       "</div>"
      ],
      "text/plain": [
       "Ticker             F       WMT      MCD        PG         V\n",
       "Date                                                       \n",
       "2021-01-04  85043100  32182200  4055400   8330900  10318300\n",
       "2021-01-05  70127800  26498100  2576100   6856400   6869700\n",
       "2021-01-06  72590200  21918900  3083400  10578000   7206200\n",
       "2021-01-07  77117100  20538000  3142000   7355400  10967900\n",
       "2021-01-08  59162200  24478200  2639100   7448500   6513000"
      ]
     },
     "metadata": {},
     "output_type": "display_data"
    }
   ],
   "source": [
    "print(f'Precios de los activos')\n",
    "display(price.head())\n",
    "print()\n",
    "\n",
    "print(f'Volumen de los activos')\n",
    "display(volume.head());"
   ]
  },
  {
   "cell_type": "code",
   "execution_count": 4,
   "metadata": {},
   "outputs": [
    {
     "data": {
      "text/html": [
       "<div>\n",
       "<style scoped>\n",
       "    .dataframe tbody tr th:only-of-type {\n",
       "        vertical-align: middle;\n",
       "    }\n",
       "\n",
       "    .dataframe tbody tr th {\n",
       "        vertical-align: top;\n",
       "    }\n",
       "\n",
       "    .dataframe thead th {\n",
       "        text-align: right;\n",
       "    }\n",
       "</style>\n",
       "<table border=\"1\" class=\"dataframe\">\n",
       "  <thead>\n",
       "    <tr style=\"text-align: right;\">\n",
       "      <th>Ticker</th>\n",
       "      <th>F</th>\n",
       "      <th>WMT</th>\n",
       "      <th>MCD</th>\n",
       "      <th>PG</th>\n",
       "      <th>V</th>\n",
       "    </tr>\n",
       "  </thead>\n",
       "  <tbody>\n",
       "    <tr>\n",
       "      <th>Rendimiento Anual</th>\n",
       "      <td>17.12%</td>\n",
       "      <td>17.44%</td>\n",
       "      <td>12.85%</td>\n",
       "      <td>9.45%</td>\n",
       "      <td>13.41%</td>\n",
       "    </tr>\n",
       "    <tr>\n",
       "      <th>Volatilidad Anual</th>\n",
       "      <td>40.70%</td>\n",
       "      <td>20.19%</td>\n",
       "      <td>17.07%</td>\n",
       "      <td>17.05%</td>\n",
       "      <td>22.53%</td>\n",
       "    </tr>\n",
       "  </tbody>\n",
       "</table>\n",
       "</div>"
      ],
      "text/plain": [
       "Ticker                 F    WMT    MCD     PG      V\n",
       "Rendimiento Anual 17.12% 17.44% 12.85%  9.45% 13.41%\n",
       "Volatilidad Anual 40.70% 20.19% 17.07% 17.05% 22.53%"
      ]
     },
     "execution_count": 4,
     "metadata": {},
     "output_type": "execute_result"
    }
   ],
   "source": [
    "pd.set_option('display.float_format', '{:.2%}'.format)\n",
    "stats_df = pd.DataFrame({\n",
    "    'Rendimiento Anual': rt.mean() * 252,\n",
    "    'Volatilidad Anual': rt.std() * np.sqrt(252),\n",
    "})\n",
    "stats_df.T"
   ]
  },
  {
   "cell_type": "markdown",
   "metadata": {},
   "source": [
    "## Optimización y Evolución de Portafolios"
   ]
  },
  {
   "cell_type": "markdown",
   "metadata": {},
   "source": [
    "### Funciones de Optimización"
   ]
  },
  {
   "cell_type": "code",
   "execution_count": 5,
   "metadata": {},
   "outputs": [],
   "source": [
    "def portfolio_return(returns, weights):\n",
    "    return np.dot(returns, weights)"
   ]
  },
  {
   "cell_type": "code",
   "execution_count": 6,
   "metadata": {},
   "outputs": [],
   "source": [
    "def opt_sharpe(returns: pd.DataFrame, rf: float) -> np.ndarray:\n",
    "    \"\"\"\n",
    "    Optimiza los pesos de un portafolio para maximizar el Sharpe Ratio.\n",
    "\n",
    "    Parámetros:\n",
    "    -----------\n",
    "    returns : DataFrame\n",
    "        Un DataFrame de pandas que contiene los rendimientos históricos diarios de los activos.\n",
    "    rf : float\n",
    "        Tasa libre de riesgo anualizada.\n",
    "\n",
    "    Retorna:\n",
    "    --------\n",
    "    w_opt_sharpe : ndarray\n",
    "        Un array con los pesos óptimos de los activos en el portafolio que maximizan el Sharpe Ratio.\n",
    "    \"\"\"\n",
    "\n",
    "    # Cálculos\n",
    "    mu = (returns.mean() * 252).values\n",
    "    sigma = returns.cov().values\n",
    "    n_assets = len(mu)\n",
    "\n",
    "    # Función para minimizar (-Sharpe Ratio)\n",
    "    def neg_sharpe_ratio(w, mu, sigma, rf):\n",
    "        port_return = portfolio_return(mu, w)\n",
    "        port_vol = np.sqrt(np.dot(w.T, np.dot(sigma, w))) * np.sqrt(252)\n",
    "        sharpe_ratio = (port_return - rf) / port_vol\n",
    "        return -sharpe_ratio\n",
    "    \n",
    "    # Restricciones: Suma de pesos = 1\n",
    "    constraints = ({\n",
    "        'type': 'eq',\n",
    "        'fun': lambda w: np.sum(w) - 1\n",
    "    })\n",
    "\n",
    "    # Límites: Pesos entre 0 y 1 (no posiciones cortas)\n",
    "    bounds = tuple((0, 1) for _ in range(n_assets))\n",
    "\n",
    "    # Pesos iniciales (distribuidos uniformemente)\n",
    "    w0 = np.array([1 / n_assets] * n_assets)\n",
    "\n",
    "    # Optimización\n",
    "    result = minimize(neg_sharpe_ratio, \n",
    "            w0, \n",
    "            args=(mu, sigma, rf), \n",
    "            method='SLSQP', \n",
    "            bounds=bounds, \n",
    "            constraints=constraints)\n",
    "    \n",
    "    weights = result.x\n",
    "\n",
    "    return weights"
   ]
  },
  {
   "cell_type": "code",
   "execution_count": 7,
   "metadata": {},
   "outputs": [],
   "source": [
    "def lvrr(price: pd.DataFrame, volume: pd.DataFrame, returns: pd.DataFrame, pv: float, rf: float) -> np.ndarray:\n",
    "    \"\"\"\n",
    "    Optimiza la asignación de activos maximizando el Sharpe Ratio ajustado por liquidez.\n",
    "\n",
    "    Parámetros:\n",
    "    -----------\n",
    "    price : DataFrame\n",
    "        DataFrame con los precios históricos de los activos.\n",
    "    volume : DataFrame\n",
    "        DataFrame con los volúmenes históricos de los activos.\n",
    "    returns : DataFrame\n",
    "        DataFrame con los retornos diarios de los activos.\n",
    "    pv : float\n",
    "        Valor total del portafolio.\n",
    "    rf : float\n",
    "        Tasa libre de riesgo anualizada.\n",
    "\n",
    "    Retorna:\n",
    "    --------\n",
    "    lvrr_weights : ndarray\n",
    "        Vector con los pesos óptimos de cada activo en el portafolio.\n",
    "    \"\"\"\n",
    "\n",
    "    # Cálculo de retornos esperados y matriz de covarianza\n",
    "    mu = returns.mean() * 252\n",
    "    sigma = returns.cov()\n",
    "    n_assets = len(mu)\n",
    "\n",
    "    # Volumen promedio de los últimos 3 meses\n",
    "    #adv = volume.loc[volume.index >= volume.index.max() - pd.DateOffset(months=3)].mean()\n",
    "    adv = volume.iloc[-90:, :].mean()\n",
    "\n",
    "    def objective(w):\n",
    "        \"\"\" Función objetivo: maximizar el Sharpe Ratio ajustado por liquidez \"\"\"\n",
    "        \n",
    "        \"\"\"n_shares = w * pv / price.iloc[-1]\n",
    "        n_days = n_shares / adv  \n",
    "        lr = np.sum(n_days)\"\"\"\n",
    "\n",
    "        H = 1 / (adv * price.iloc[-1])\n",
    "        lr = np.dot(pv, np.dot(w.T, H))\n",
    "\n",
    "        port_return = portfolio_return(mu, w)\n",
    "        port_vol = np.sqrt(np.dot(w.T, np.dot(sigma, w))) * np.sqrt(252)\n",
    "        sharpe_ratio = (port_return - rf) / port_vol\n",
    "\n",
    "        return -(sharpe_ratio / lr)\n",
    "    \n",
    "    # Restricciones: Suma de pesos = 1\n",
    "    constraints = ({\n",
    "        'type': 'eq',\n",
    "        'fun': lambda w: np.sum(w) - 1\n",
    "    })\n",
    "\n",
    "    # Límites: Pesos entre 0 y 1 (no posiciones cortas)\n",
    "    bounds = tuple((0, 1) for _ in range(n_assets))\n",
    "\n",
    "    # Pesos iniciales (distribuidos uniformemente)\n",
    "    w0 = np.array([1 / n_assets] * n_assets)\n",
    "\n",
    "    # Optimización\n",
    "    result = minimize(objective, \n",
    "            w0, \n",
    "            method='SLSQP', \n",
    "            bounds=bounds, \n",
    "            constraints=constraints)\n",
    "    \n",
    "    weights = result.x\n",
    "    \n",
    "    return weights"
   ]
  },
  {
   "cell_type": "markdown",
   "metadata": {},
   "source": [
    "## Backtest Estático"
   ]
  },
  {
   "cell_type": "code",
   "execution_count": 8,
   "metadata": {},
   "outputs": [],
   "source": [
    "pd.reset_option('display.float_format')\n",
    "\n",
    "rf = 0.05\n",
    "pv = 1000000.0\n",
    "\n",
    "start_date = '2021-01-01'\n",
    "end_date = '2023-12-31'\n",
    "\n",
    "start_test = '2024-01-01'\n",
    "end_test = '2025-03-12'\n",
    "#end_test = datetime.datetime.today().strftime('%Y-%m-%d')\n",
    "\n",
    "benchmark_test = benchmark_data.loc[start_test:end_test]\n",
    "\n",
    "price_train = price.loc[start_date:end_date]\n",
    "price_test = price.loc[start_test:end_test]\n",
    "\n",
    "volume_train = volume.loc[start_date:end_date]\n",
    "volume_test = volume.loc[start_test:end_test]\n",
    "\n",
    "rt_train = price_train.pct_change().dropna()\n",
    "rt_test = price_test.pct_change().dropna()\n",
    "rt_benchmark_test = benchmark_test.pct_change().dropna()"
   ]
  },
  {
   "cell_type": "markdown",
   "metadata": {},
   "source": [
    "### Máximo Ratio de Sharpe"
   ]
  },
  {
   "cell_type": "code",
   "execution_count": 9,
   "metadata": {},
   "outputs": [
    {
     "data": {
      "image/png": "[encoded data removed]",
      "text/plain": [
       "<Figure size 800x800 with 1 Axes>"
      ]
     },
     "metadata": {},
     "output_type": "display_data"
    }
   ],
   "source": [
    "w_sharpe = opt_sharpe(rt_train, rf)\n",
    "vt.plot_weights(tickers, w_sharpe)"
   ]
  },
  {
   "cell_type": "markdown",
   "metadata": {},
   "source": [
    "### Liquidity Variance Return Ratio (LVRR)"
   ]
  },
  {
   "cell_type": "code",
   "execution_count": 10,
   "metadata": {},
   "outputs": [
    {
     "data": {
      "image/png": "[encoded data removed]",
      "text/plain": [
       "<Figure size 800x800 with 1 Axes>"
      ]
     },
     "metadata": {},
     "output_type": "display_data"
    }
   ],
   "source": [
    "w_lvrr = lvrr(price_train, volume_train, rt_train, pv, rf)\n",
    "vt.plot_weights(tickers, w_lvrr)"
   ]
  },
  {
   "cell_type": "markdown",
   "metadata": {},
   "source": [
    "### Gráfica"
   ]
  },
  {
   "cell_type": "code",
   "execution_count": 11,
   "metadata": {},
   "outputs": [
    {
     "data": {
      "image/png": "[encoded data removed]",
      "text/plain": [
       "<Figure size 1200x600 with 1 Axes>"
      ]
     },
     "metadata": {},
     "output_type": "display_data"
    }
   ],
   "source": [
    "# Returns\n",
    "sharpe_returns = portfolio_return(rt_test, w_sharpe)\n",
    "lvrr_returns = portfolio_return(rt_test, w_lvrr)\n",
    "\n",
    "cumulative_sharpe_returns = (1 + sharpe_returns).cumprod()\n",
    "cumulative_lvrr_returns = (1 + lvrr_returns).cumprod()\n",
    "\n",
    "cumulative_benchmark_returns = (1 + rt_benchmark_test).cumprod()\n",
    "\n",
    "# DataFrames\n",
    "cumulative_returns = pd.DataFrame({\n",
    "    'Benchmark': cumulative_benchmark_returns.squeeze(),\n",
    "    'Sharpe': pd.Series(cumulative_sharpe_returns, index=rt_test.index),\n",
    "    'LVRR': pd.Series(cumulative_lvrr_returns, index=rt_test.index)\n",
    "})\n",
    "\n",
    "cumulative_returns_money = pd.DataFrame({\n",
    "    'Benchmark': cumulative_benchmark_returns.squeeze() * 1000000,\n",
    "    'Sharpe': pd.Series(cumulative_sharpe_returns, index=rt_test.index) * 1000000,\n",
    "    'LVRR': pd.Series(cumulative_lvrr_returns, index=rt_test.index) * 1000000\n",
    "})\n",
    "\n",
    "pd.set_option('display.float_format', '{:.2%}'.format)\n",
    "df_optimal = pd.DataFrame({\n",
    "    'Ticker': tickers,\n",
    "    'Sharpe': w_sharpe,\n",
    "    'LVRR': w_lvrr\n",
    "})\n",
    "df_optimal.set_index('Ticker', inplace=True)\n",
    "\n",
    "# Plots\n",
    "plt.figure(figsize=(12, 6))\n",
    "\n",
    "plt.plot(cumulative_returns_money['Benchmark'], label='Benchmark', c = 'navy')\n",
    "plt.plot(cumulative_returns_money['Sharpe'], label='Portafolio de Máximo Sharpe', c = 'gray')\n",
    "plt.plot(cumulative_returns_money['LVRR'], label='Portafolio LVRR', c = 'skyblue')\n",
    "\n",
    "plt.legend()\n",
    "plt.grid();"
   ]
  },
  {
   "cell_type": "code",
   "execution_count": 12,
   "metadata": {},
   "outputs": [
    {
     "name": "stdout",
     "output_type": "stream",
     "text": [
      "Pesos óptmio de las estrategias\n"
     ]
    },
    {
     "data": {
      "text/html": [
       "<div>\n",
       "<style scoped>\n",
       "    .dataframe tbody tr th:only-of-type {\n",
       "        vertical-align: middle;\n",
       "    }\n",
       "\n",
       "    .dataframe tbody tr th {\n",
       "        vertical-align: top;\n",
       "    }\n",
       "\n",
       "    .dataframe thead th {\n",
       "        text-align: right;\n",
       "    }\n",
       "</style>\n",
       "<table border=\"1\" class=\"dataframe\">\n",
       "  <thead>\n",
       "    <tr style=\"text-align: right;\">\n",
       "      <th>Ticker</th>\n",
       "      <th>F</th>\n",
       "      <th>WMT</th>\n",
       "      <th>MCD</th>\n",
       "      <th>PG</th>\n",
       "      <th>V</th>\n",
       "    </tr>\n",
       "  </thead>\n",
       "  <tbody>\n",
       "    <tr>\n",
       "      <th>Sharpe</th>\n",
       "      <td>20.08%</td>\n",
       "      <td>0.00%</td>\n",
       "      <td>79.92%</td>\n",
       "      <td>0.00%</td>\n",
       "      <td>0.00%</td>\n",
       "    </tr>\n",
       "    <tr>\n",
       "      <th>LVRR</th>\n",
       "      <td>10.17%</td>\n",
       "      <td>0.00%</td>\n",
       "      <td>81.84%</td>\n",
       "      <td>0.00%</td>\n",
       "      <td>8.00%</td>\n",
       "    </tr>\n",
       "  </tbody>\n",
       "</table>\n",
       "</div>"
      ],
      "text/plain": [
       "Ticker      F   WMT    MCD    PG     V\n",
       "Sharpe 20.08% 0.00% 79.92% 0.00% 0.00%\n",
       "LVRR   10.17% 0.00% 81.84% 0.00% 8.00%"
      ]
     },
     "metadata": {},
     "output_type": "display_data"
    },
    {
     "name": "stdout",
     "output_type": "stream",
     "text": [
      "\n",
      "Evolución de los rendimientos\n"
     ]
    },
    {
     "data": {
      "text/html": [
       "<div>\n",
       "<style scoped>\n",
       "    .dataframe tbody tr th:only-of-type {\n",
       "        vertical-align: middle;\n",
       "    }\n",
       "\n",
       "    .dataframe tbody tr th {\n",
       "        vertical-align: top;\n",
       "    }\n",
       "\n",
       "    .dataframe thead th {\n",
       "        text-align: right;\n",
       "    }\n",
       "</style>\n",
       "<table border=\"1\" class=\"dataframe\">\n",
       "  <thead>\n",
       "    <tr style=\"text-align: right;\">\n",
       "      <th></th>\n",
       "      <th>Benchmark</th>\n",
       "      <th>Sharpe</th>\n",
       "      <th>LVRR</th>\n",
       "    </tr>\n",
       "    <tr>\n",
       "      <th>Date</th>\n",
       "      <th></th>\n",
       "      <th></th>\n",
       "      <th></th>\n",
       "    </tr>\n",
       "  </thead>\n",
       "  <tbody>\n",
       "    <tr>\n",
       "      <th>2024-01-03</th>\n",
       "      <td>0.991833</td>\n",
       "      <td>0.985439</td>\n",
       "      <td>0.988662</td>\n",
       "    </tr>\n",
       "    <tr>\n",
       "      <th>2024-01-04</th>\n",
       "      <td>0.988639</td>\n",
       "      <td>0.977843</td>\n",
       "      <td>0.981621</td>\n",
       "    </tr>\n",
       "    <tr>\n",
       "      <th>2024-01-05</th>\n",
       "      <td>0.989993</td>\n",
       "      <td>0.973334</td>\n",
       "      <td>0.975525</td>\n",
       "    </tr>\n",
       "    <tr>\n",
       "      <th>2024-01-08</th>\n",
       "      <td>1.004126</td>\n",
       "      <td>0.983146</td>\n",
       "      <td>0.985424</td>\n",
       "    </tr>\n",
       "    <tr>\n",
       "      <th>2024-01-09</th>\n",
       "      <td>1.002602</td>\n",
       "      <td>0.978230</td>\n",
       "      <td>0.981728</td>\n",
       "    </tr>\n",
       "    <tr>\n",
       "      <th>...</th>\n",
       "      <td>...</td>\n",
       "      <td>...</td>\n",
       "      <td>...</td>\n",
       "    </tr>\n",
       "    <tr>\n",
       "      <th>2025-03-05</th>\n",
       "      <td>1.249422</td>\n",
       "      <td>1.039238</td>\n",
       "      <td>1.076797</td>\n",
       "    </tr>\n",
       "    <tr>\n",
       "      <th>2025-03-06</th>\n",
       "      <td>1.227243</td>\n",
       "      <td>1.046261</td>\n",
       "      <td>1.082632</td>\n",
       "    </tr>\n",
       "    <tr>\n",
       "      <th>2025-03-07</th>\n",
       "      <td>1.234121</td>\n",
       "      <td>1.082020</td>\n",
       "      <td>1.117419</td>\n",
       "    </tr>\n",
       "    <tr>\n",
       "      <th>2025-03-10</th>\n",
       "      <td>1.201250</td>\n",
       "      <td>1.072463</td>\n",
       "      <td>1.105614</td>\n",
       "    </tr>\n",
       "    <tr>\n",
       "      <th>2025-03-11</th>\n",
       "      <td>1.191264</td>\n",
       "      <td>1.038285</td>\n",
       "      <td>1.070232</td>\n",
       "    </tr>\n",
       "  </tbody>\n",
       "</table>\n",
       "<p>297 rows × 3 columns</p>\n",
       "</div>"
      ],
      "text/plain": [
       "            Benchmark    Sharpe      LVRR\n",
       "Date                                     \n",
       "2024-01-03   0.991833  0.985439  0.988662\n",
       "2024-01-04   0.988639  0.977843  0.981621\n",
       "2024-01-05   0.989993  0.973334  0.975525\n",
       "2024-01-08   1.004126  0.983146  0.985424\n",
       "2024-01-09   1.002602  0.978230  0.981728\n",
       "...               ...       ...       ...\n",
       "2025-03-05   1.249422  1.039238  1.076797\n",
       "2025-03-06   1.227243  1.046261  1.082632\n",
       "2025-03-07   1.234121  1.082020  1.117419\n",
       "2025-03-10   1.201250  1.072463  1.105614\n",
       "2025-03-11   1.191264  1.038285  1.070232\n",
       "\n",
       "[297 rows x 3 columns]"
      ]
     },
     "metadata": {},
     "output_type": "display_data"
    },
    {
     "name": "stdout",
     "output_type": "stream",
     "text": [
      "\n",
      "Evolución del valor del portafolio\n"
     ]
    },
    {
     "data": {
      "text/html": [
       "<div>\n",
       "<style scoped>\n",
       "    .dataframe tbody tr th:only-of-type {\n",
       "        vertical-align: middle;\n",
       "    }\n",
       "\n",
       "    .dataframe tbody tr th {\n",
       "        vertical-align: top;\n",
       "    }\n",
       "\n",
       "    .dataframe thead th {\n",
       "        text-align: right;\n",
       "    }\n",
       "</style>\n",
       "<table border=\"1\" class=\"dataframe\">\n",
       "  <thead>\n",
       "    <tr style=\"text-align: right;\">\n",
       "      <th></th>\n",
       "      <th>Benchmark</th>\n",
       "      <th>Sharpe</th>\n",
       "      <th>LVRR</th>\n",
       "    </tr>\n",
       "    <tr>\n",
       "      <th>Date</th>\n",
       "      <th></th>\n",
       "      <th></th>\n",
       "      <th></th>\n",
       "    </tr>\n",
       "  </thead>\n",
       "  <tbody>\n",
       "    <tr>\n",
       "      <th>2024-01-03</th>\n",
       "      <td>9.918333e+05</td>\n",
       "      <td>9.854392e+05</td>\n",
       "      <td>9.886621e+05</td>\n",
       "    </tr>\n",
       "    <tr>\n",
       "      <th>2024-01-04</th>\n",
       "      <td>9.886386e+05</td>\n",
       "      <td>9.778428e+05</td>\n",
       "      <td>9.816207e+05</td>\n",
       "    </tr>\n",
       "    <tr>\n",
       "      <th>2024-01-05</th>\n",
       "      <td>9.899927e+05</td>\n",
       "      <td>9.733341e+05</td>\n",
       "      <td>9.755248e+05</td>\n",
       "    </tr>\n",
       "    <tr>\n",
       "      <th>2024-01-08</th>\n",
       "      <td>1.004126e+06</td>\n",
       "      <td>9.831463e+05</td>\n",
       "      <td>9.854241e+05</td>\n",
       "    </tr>\n",
       "    <tr>\n",
       "      <th>2024-01-09</th>\n",
       "      <td>1.002602e+06</td>\n",
       "      <td>9.782298e+05</td>\n",
       "      <td>9.817276e+05</td>\n",
       "    </tr>\n",
       "    <tr>\n",
       "      <th>...</th>\n",
       "      <td>...</td>\n",
       "      <td>...</td>\n",
       "      <td>...</td>\n",
       "    </tr>\n",
       "    <tr>\n",
       "      <th>2025-03-05</th>\n",
       "      <td>1.249422e+06</td>\n",
       "      <td>1.039238e+06</td>\n",
       "      <td>1.076797e+06</td>\n",
       "    </tr>\n",
       "    <tr>\n",
       "      <th>2025-03-06</th>\n",
       "      <td>1.227243e+06</td>\n",
       "      <td>1.046261e+06</td>\n",
       "      <td>1.082632e+06</td>\n",
       "    </tr>\n",
       "    <tr>\n",
       "      <th>2025-03-07</th>\n",
       "      <td>1.234121e+06</td>\n",
       "      <td>1.082020e+06</td>\n",
       "      <td>1.117419e+06</td>\n",
       "    </tr>\n",
       "    <tr>\n",
       "      <th>2025-03-10</th>\n",
       "      <td>1.201250e+06</td>\n",
       "      <td>1.072463e+06</td>\n",
       "      <td>1.105614e+06</td>\n",
       "    </tr>\n",
       "    <tr>\n",
       "      <th>2025-03-11</th>\n",
       "      <td>1.191264e+06</td>\n",
       "      <td>1.038285e+06</td>\n",
       "      <td>1.070232e+06</td>\n",
       "    </tr>\n",
       "  </tbody>\n",
       "</table>\n",
       "<p>297 rows × 3 columns</p>\n",
       "</div>"
      ],
      "text/plain": [
       "               Benchmark        Sharpe          LVRR\n",
       "Date                                                \n",
       "2024-01-03  9.918333e+05  9.854392e+05  9.886621e+05\n",
       "2024-01-04  9.886386e+05  9.778428e+05  9.816207e+05\n",
       "2024-01-05  9.899927e+05  9.733341e+05  9.755248e+05\n",
       "2024-01-08  1.004126e+06  9.831463e+05  9.854241e+05\n",
       "2024-01-09  1.002602e+06  9.782298e+05  9.817276e+05\n",
       "...                  ...           ...           ...\n",
       "2025-03-05  1.249422e+06  1.039238e+06  1.076797e+06\n",
       "2025-03-06  1.227243e+06  1.046261e+06  1.082632e+06\n",
       "2025-03-07  1.234121e+06  1.082020e+06  1.117419e+06\n",
       "2025-03-10  1.201250e+06  1.072463e+06  1.105614e+06\n",
       "2025-03-11  1.191264e+06  1.038285e+06  1.070232e+06\n",
       "\n",
       "[297 rows x 3 columns]"
      ]
     },
     "metadata": {},
     "output_type": "display_data"
    },
    {
     "name": "stdout",
     "output_type": "stream",
     "text": [
      "El valor final del portafolio Benchmark es de 1,191,264.07\n",
      "El valor final del portafolio Sharpe es de 1,038,284.88\n",
      "El valor final del portafolio LVRR es de 1,070,231.53\n"
     ]
    }
   ],
   "source": [
    "print(f'Pesos óptmio de las estrategias')\n",
    "display(df_optimal.T)\n",
    "print()\n",
    "\n",
    "pd.reset_option('display.float_format')\n",
    "print(f'Evolución de los rendimientos')\n",
    "display(cumulative_returns)\n",
    "\n",
    "print()\n",
    "\n",
    "print(f'Evolución del valor del portafolio')\n",
    "display(cumulative_returns_money)\n",
    "\n",
    "for i in cumulative_returns_money.columns:\n",
    "    print(f'El valor final del portafolio {i} es de {cumulative_returns_money[i].iloc[-1]:,.2f}')"
   ]
  },
  {
   "cell_type": "markdown",
   "metadata": {},
   "source": [
    "### Métricas de desempeño"
   ]
  },
  {
   "cell_type": "code",
   "execution_count": 13,
   "metadata": {},
   "outputs": [
    {
     "data": {
      "text/html": [
       "<div>\n",
       "<style scoped>\n",
       "    .dataframe tbody tr th:only-of-type {\n",
       "        vertical-align: middle;\n",
       "    }\n",
       "\n",
       "    .dataframe tbody tr th {\n",
       "        vertical-align: top;\n",
       "    }\n",
       "\n",
       "    .dataframe thead th {\n",
       "        text-align: right;\n",
       "    }\n",
       "</style>\n",
       "<table border=\"1\" class=\"dataframe\">\n",
       "  <thead>\n",
       "    <tr style=\"text-align: right;\">\n",
       "      <th></th>\n",
       "      <th>Rendimiento Anual</th>\n",
       "      <th>Volatilidad Anual</th>\n",
       "      <th>Sharpe Ratio</th>\n",
       "      <th>Beta</th>\n",
       "      <th>Alpha</th>\n",
       "      <th>Sortino Ratio</th>\n",
       "    </tr>\n",
       "  </thead>\n",
       "  <tbody>\n",
       "    <tr>\n",
       "      <th>Sharpe</th>\n",
       "      <td>0.047237</td>\n",
       "      <td>0.175373</td>\n",
       "      <td>-0.015754</td>\n",
       "      <td>0.461889</td>\n",
       "      <td>-0.052252</td>\n",
       "      <td>0</td>\n",
       "    </tr>\n",
       "    <tr>\n",
       "      <th>LVRR</th>\n",
       "      <td>0.071431</td>\n",
       "      <td>0.166515</td>\n",
       "      <td>0.128700</td>\n",
       "      <td>0.410735</td>\n",
       "      <td>-0.022578</td>\n",
       "      <td>0</td>\n",
       "    </tr>\n",
       "  </tbody>\n",
       "</table>\n",
       "</div>"
      ],
      "text/plain": [
       "        Rendimiento Anual  Volatilidad Anual  Sharpe Ratio      Beta  \\\n",
       "Sharpe           0.047237           0.175373     -0.015754  0.461889   \n",
       "LVRR             0.071431           0.166515      0.128700  0.410735   \n",
       "\n",
       "           Alpha  Sortino Ratio  \n",
       "Sharpe -0.052252              0  \n",
       "LVRR   -0.022578              0  "
      ]
     },
     "execution_count": 13,
     "metadata": {},
     "output_type": "execute_result"
    }
   ],
   "source": [
    "returns_df = pd.DataFrame({\n",
    "    'Sharpe': sharpe_returns,\n",
    "    'LVRR': lvrr_returns,\n",
    "})\n",
    "\n",
    "X = rt_benchmark_test['SPY'].values.reshape(-1, 1)\n",
    "y = [sharpe_returns, lvrr_returns]\n",
    "betas = np.array([LinearRegression().fit(X, i).coef_[0] for i in y])\n",
    "\n",
    "port_ret = returns_df.mean() * 252\n",
    "port_vol = returns_df.std() * np.sqrt(252)\n",
    "sharpe = (port_ret - rf) / port_vol\n",
    "alpha = port_ret - (rf + betas * (((rt_benchmark_test.mean()).iloc[0] * 252)-rf))\n",
    "sortino = 0 #(port_ret - rf) / (returns_df[returns_df < 0].std() * np.sqrt(252))\n",
    "\n",
    "summary = pd.DataFrame({\n",
    "    'Rendimiento Anual': port_ret,\n",
    "    'Volatilidad Anual': port_vol,\n",
    "    'Sharpe Ratio': sharpe,\n",
    "    'Beta': betas,\n",
    "    'Alpha': alpha,\n",
    "    'Sortino Ratio': sortino\n",
    "})\n",
    "summary"
   ]
  },
  {
   "cell_type": "code",
   "execution_count": 14,
   "metadata": {},
   "outputs": [],
   "source": [
    "total_return = [(cumulative_returns.iloc[-1] - 1).iloc[i] for i in range(len(cumulative_returns.columns))]\n",
    "period_years = len(rt_test) / 252\n",
    "anualized_returns = (np.ones(len(total_return)) + total_return) ** (1 / period_years) - 1"
   ]
  },
  {
   "cell_type": "code",
   "execution_count": 15,
   "metadata": {},
   "outputs": [
    {
     "data": {
      "text/plain": [
       "(0.032150771031592466, 0.04121473330580437)"
      ]
     },
     "execution_count": 15,
     "metadata": {},
     "output_type": "execute_result"
    }
   ],
   "source": [
    "vt.var_weights(price_test, w_sharpe, 99), vt.cvar_weights(price_test, w_sharpe, 99)"
   ]
  },
  {
   "cell_type": "code",
   "execution_count": 16,
   "metadata": {},
   "outputs": [
    {
     "data": {
      "text/plain": [
       "(0.030710519811034794, 0.03675484140970016)"
      ]
     },
     "execution_count": 16,
     "metadata": {},
     "output_type": "execute_result"
    }
   ],
   "source": [
    "vt.var_weights(price_test, w_lvrr, 99), vt.cvar_weights(price_test, w_lvrr, 99)"
   ]
  }
 ],
 "metadata": {
  "kernelspec": {
   "display_name": "base",
   "language": "python",
   "name": "python3"
  },
  "language_info": {
   "codemirror_mode": {
    "name": "ipython",
    "version": 3
   },
   "file_extension": ".py",
   "mimetype": "text/x-python",
   "name": "python",
   "nbconvert_exporter": "python",
   "pygments_lexer": "ipython3",
   "version": "3.12.3"
  }
 },
 "nbformat": 4,
 "nbformat_minor": 2
}
