{
 "cells": [
  {
   "cell_type": "code",
   "execution_count": 1,
   "metadata": {},
   "outputs": [],
   "source": [
    "import numpy as np\n",
    "import pandas as pd\n",
    "import yfinance as yf\n",
    "from IPython.display import display"
   ]
  },
  {
   "cell_type": "code",
   "execution_count": 2,
   "metadata": {},
   "outputs": [
    {
     "name": "stderr",
     "output_type": "stream",
     "text": [
      "[*********************100%***********************]  2 of 2 completed\n"
     ]
    }
   ],
   "source": [
    "data = yf.download(['EURMXN=X','MXN=X'], start='2020-01-01', end='2025-01-24')['Adj Close']\n",
    "positions = [2400000, 1500000]\n",
    "conf = 95\n",
    "long = 1"
   ]
  },
  {
   "cell_type": "code",
   "execution_count": 3,
   "metadata": {},
   "outputs": [],
   "source": [
    "def get_var_cvar(data, positions, conf, long):\n",
    "    port = data * positions\n",
    "    port['total'] = port.sum(axis=1)\n",
    "    port['rendimiento'] = port['total'].pct_change()\n",
    "\n",
    "    if long == 1:\n",
    "\n",
    "        var_porcentual = np.percentile(port['rendimiento'].dropna(), 100-conf)\n",
    "        var_cash = port['total'].iloc[-1] * var_porcentual\n",
    "\n",
    "        cvar_porcentual = port.query(\"rendimiento < @var_porcentual\")['rendimiento'].mean()\n",
    "        cvar_cash = port['total'].iloc[-1] * cvar_porcentual\n",
    "\n",
    "    else:\n",
    "\n",
    "        var_porcentual = np.percentile(port['rendimiento'].dropna(), conf)\n",
    "        var_cash = port['total'].iloc[-1] * var_porcentual\n",
    "\n",
    "        cvar_porcentual = port.query(\"rendimiento > @var_porcentual\")['rendimiento'].mean()\n",
    "        cvar_cash = port['total'].iloc[-1] * cvar_porcentual\n",
    "\n",
    "    var_df = pd.DataFrame({\n",
    "        'VaR_porcentual': [var_porcentual * 100],\n",
    "        'VaR_cash': [var_cash]\n",
    "    })\n",
    "\n",
    "    cvar_df = pd.DataFrame({\n",
    "        'cVaR_porcentual': [cvar_porcentual * 100],\n",
    "        'cVaR_cash': [cvar_cash]\n",
    "    })\n",
    "\n",
    "    return display(var_df), display(cvar_df)"
   ]
  },
  {
   "cell_type": "code",
   "execution_count": 4,
   "metadata": {},
   "outputs": [
    {
     "data": {
      "text/html": [
       "<div>\n",
       "<style scoped>\n",
       "    .dataframe tbody tr th:only-of-type {\n",
       "        vertical-align: middle;\n",
       "    }\n",
       "\n",
       "    .dataframe tbody tr th {\n",
       "        vertical-align: top;\n",
       "    }\n",
       "\n",
       "    .dataframe thead th {\n",
       "        text-align: right;\n",
       "    }\n",
       "</style>\n",
       "<table border=\"1\" class=\"dataframe\">\n",
       "  <thead>\n",
       "    <tr style=\"text-align: right;\">\n",
       "      <th></th>\n",
       "      <th>VaR_porcentual</th>\n",
       "      <th>VaR_cash</th>\n",
       "    </tr>\n",
       "  </thead>\n",
       "  <tbody>\n",
       "    <tr>\n",
       "      <th>0</th>\n",
       "      <td>-1.066285</td>\n",
       "      <td>-873595.70265</td>\n",
       "    </tr>\n",
       "  </tbody>\n",
       "</table>\n",
       "</div>"
      ],
      "text/plain": [
       "   VaR_porcentual      VaR_cash\n",
       "0       -1.066285 -873595.70265"
      ]
     },
     "metadata": {},
     "output_type": "display_data"
    },
    {
     "data": {
      "text/html": [
       "<div>\n",
       "<style scoped>\n",
       "    .dataframe tbody tr th:only-of-type {\n",
       "        vertical-align: middle;\n",
       "    }\n",
       "\n",
       "    .dataframe tbody tr th {\n",
       "        vertical-align: top;\n",
       "    }\n",
       "\n",
       "    .dataframe thead th {\n",
       "        text-align: right;\n",
       "    }\n",
       "</style>\n",
       "<table border=\"1\" class=\"dataframe\">\n",
       "  <thead>\n",
       "    <tr style=\"text-align: right;\">\n",
       "      <th></th>\n",
       "      <th>cVaR_porcentual</th>\n",
       "      <th>cVaR_cash</th>\n",
       "    </tr>\n",
       "  </thead>\n",
       "  <tbody>\n",
       "    <tr>\n",
       "      <th>0</th>\n",
       "      <td>-1.530191</td>\n",
       "      <td>-1.253669e+06</td>\n",
       "    </tr>\n",
       "  </tbody>\n",
       "</table>\n",
       "</div>"
      ],
      "text/plain": [
       "   cVaR_porcentual     cVaR_cash\n",
       "0        -1.530191 -1.253669e+06"
      ]
     },
     "metadata": {},
     "output_type": "display_data"
    },
    {
     "data": {
      "text/plain": [
       "(None, None)"
      ]
     },
     "execution_count": 4,
     "metadata": {},
     "output_type": "execute_result"
    }
   ],
   "source": [
    "get_var_cvar(data, positions, conf, long)"
   ]
  }
 ],
 "metadata": {
  "kernelspec": {
   "display_name": "base",
   "language": "python",
   "name": "python3"
  },
  "language_info": {
   "codemirror_mode": {
    "name": "ipython",
    "version": 3
   },
   "file_extension": ".py",
   "mimetype": "text/x-python",
   "name": "python",
   "nbconvert_exporter": "python",
   "pygments_lexer": "ipython3",
   "version": "3.12.3"
  }
 },
 "nbformat": 4,
 "nbformat_minor": 2
}
