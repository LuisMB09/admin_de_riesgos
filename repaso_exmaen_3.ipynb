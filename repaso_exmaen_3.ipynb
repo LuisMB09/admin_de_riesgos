{
 "cells": [
  {
   "cell_type": "code",
   "execution_count": 2,
   "id": "06e93dbe",
   "metadata": {},
   "outputs": [],
   "source": [
    "import numpy as np\n",
    "import pandas as pd"
   ]
  },
  {
   "cell_type": "markdown",
   "id": "af567b84",
   "metadata": {},
   "source": [
    "## <font color = 'navy'> Ejercicio 1"
   ]
  },
  {
   "cell_type": "code",
   "execution_count": 3,
   "id": "5a283b29",
   "metadata": {},
   "outputs": [],
   "source": [
    "def TRS_Nominal(n_bonds: np.array, coupons: np.array, initial_prices: np.array, final_prices: np.array, fixed_rate: float, t: int, pay_total_return: bool, nominales: np.array):\n",
    "\n",
    "    initial_value = np.dot(n_bonds, initial_prices)\n",
    "    final_value = np.dot(n_bonds, final_prices)\n",
    "    cuopons_pay = np.sum(nominales * n_bonds * coupons/t)\n",
    "    total_return = final_value - initial_value + cuopons_pay\n",
    "    fixed_rate_pay = initial_value * fixed_rate / t\n",
    "\n",
    "    return fixed_rate_pay - total_return if pay_total_return else total_return - fixed_rate_pay"
   ]
  },
  {
   "cell_type": "code",
   "execution_count": 6,
   "id": "87a95e1b",
   "metadata": {},
   "outputs": [],
   "source": [
    "n_bonds = np.array([104_000, 96_000])\n",
    "coupons = np.array([0.0870, 0.1030])\n",
    "initial_prices = np.array([96.45, 97.84])\n",
    "final_prices = np.array([96.03, 97.63])\n",
    "fixed_rate = 0.0750\n",
    "t = 2\n",
    "pay_total_return = False\n",
    "nominales = np.array([100, 100])"
   ]
  },
  {
   "cell_type": "code",
   "execution_count": 7,
   "id": "9c112656",
   "metadata": {},
   "outputs": [
    {
     "data": {
      "text/plain": [
       "154581.0"
      ]
     },
     "execution_count": 7,
     "metadata": {},
     "output_type": "execute_result"
    }
   ],
   "source": [
    "TRS_Nominal(n_bonds, coupons, initial_prices, final_prices, fixed_rate, t, pay_total_return, nominales)"
   ]
  }
 ],
 "metadata": {
  "kernelspec": {
   "display_name": "base",
   "language": "python",
   "name": "python3"
  },
  "language_info": {
   "codemirror_mode": {
    "name": "ipython",
    "version": 3
   },
   "file_extension": ".py",
   "mimetype": "text/x-python",
   "name": "python",
   "nbconvert_exporter": "python",
   "pygments_lexer": "ipython3",
   "version": "3.12.3"
  }
 },
 "nbformat": 4,
 "nbformat_minor": 5
}
