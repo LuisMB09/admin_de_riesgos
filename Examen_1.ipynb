{
 "cells": [
  {
   "cell_type": "code",
   "execution_count": 1,
   "metadata": {},
   "outputs": [
    {
     "data": {
      "text/plain": [
       "'\\nlast_price = df.iloc[-1]\\nport_value = (last_price * n_stocks).sum()\\nweights = last_price * n_stocks / port_value\\nweights\\n'"
      ]
     },
     "execution_count": 1,
     "metadata": {},
     "output_type": "execute_result"
    }
   ],
   "source": [
    "import pandas as pd\n",
    "import numpy as np\n",
    "import vartools as vt\n",
    "\n",
    "# En forex, elegir con base en el denominador. Si quiero pesos entonces CHFMXN es el bueno\n",
    "\"\"\"\n",
    "last_price = df.iloc[-1]\n",
    "port_value = (last_price * n_stocks).sum()\n",
    "weights = last_price * n_stocks / port_value\n",
    "weights\n",
    "\"\"\""
   ]
  },
  {
   "cell_type": "code",
   "execution_count": 2,
   "metadata": {},
   "outputs": [
    {
     "data": {
      "text/html": [
       "<div>\n",
       "<style scoped>\n",
       "    .dataframe tbody tr th:only-of-type {\n",
       "        vertical-align: middle;\n",
       "    }\n",
       "\n",
       "    .dataframe tbody tr th {\n",
       "        vertical-align: top;\n",
       "    }\n",
       "\n",
       "    .dataframe thead th {\n",
       "        text-align: right;\n",
       "    }\n",
       "</style>\n",
       "<table border=\"1\" class=\"dataframe\">\n",
       "  <thead>\n",
       "    <tr style=\"text-align: right;\">\n",
       "      <th></th>\n",
       "      <th>ABT</th>\n",
       "      <th>KXI</th>\n",
       "      <th>QQQ</th>\n",
       "      <th>X</th>\n",
       "      <th>XOM</th>\n",
       "    </tr>\n",
       "    <tr>\n",
       "      <th>Date</th>\n",
       "      <th></th>\n",
       "      <th></th>\n",
       "      <th></th>\n",
       "      <th></th>\n",
       "      <th></th>\n",
       "    </tr>\n",
       "  </thead>\n",
       "  <tbody>\n",
       "    <tr>\n",
       "      <th>2020-01-02</th>\n",
       "      <td>79.6899</td>\n",
       "      <td>49.6289</td>\n",
       "      <td>209.9761</td>\n",
       "      <td>10.5066</td>\n",
       "      <td>55.6312</td>\n",
       "    </tr>\n",
       "    <tr>\n",
       "      <th>2020-01-03</th>\n",
       "      <td>78.7185</td>\n",
       "      <td>49.5841</td>\n",
       "      <td>208.0528</td>\n",
       "      <td>10.4289</td>\n",
       "      <td>55.1839</td>\n",
       "    </tr>\n",
       "    <tr>\n",
       "      <th>2020-01-06</th>\n",
       "      <td>79.1309</td>\n",
       "      <td>49.7366</td>\n",
       "      <td>209.3932</td>\n",
       "      <td>10.4775</td>\n",
       "      <td>55.6076</td>\n",
       "    </tr>\n",
       "    <tr>\n",
       "      <th>2020-01-07</th>\n",
       "      <td>78.6910</td>\n",
       "      <td>49.4136</td>\n",
       "      <td>209.3641</td>\n",
       "      <td>10.8076</td>\n",
       "      <td>55.1525</td>\n",
       "    </tr>\n",
       "    <tr>\n",
       "      <th>2020-01-08</th>\n",
       "      <td>79.0117</td>\n",
       "      <td>49.4046</td>\n",
       "      <td>210.9378</td>\n",
       "      <td>10.7785</td>\n",
       "      <td>54.3208</td>\n",
       "    </tr>\n",
       "    <tr>\n",
       "      <th>...</th>\n",
       "      <td>...</td>\n",
       "      <td>...</td>\n",
       "      <td>...</td>\n",
       "      <td>...</td>\n",
       "      <td>...</td>\n",
       "    </tr>\n",
       "    <tr>\n",
       "      <th>2024-12-04</th>\n",
       "      <td>115.9700</td>\n",
       "      <td>63.6400</td>\n",
       "      <td>523.2600</td>\n",
       "      <td>38.3900</td>\n",
       "      <td>114.2800</td>\n",
       "    </tr>\n",
       "    <tr>\n",
       "      <th>2024-12-05</th>\n",
       "      <td>115.5900</td>\n",
       "      <td>64.0400</td>\n",
       "      <td>521.8100</td>\n",
       "      <td>38.8500</td>\n",
       "      <td>114.7800</td>\n",
       "    </tr>\n",
       "    <tr>\n",
       "      <th>2024-12-06</th>\n",
       "      <td>115.6000</td>\n",
       "      <td>63.7700</td>\n",
       "      <td>526.4800</td>\n",
       "      <td>38.4500</td>\n",
       "      <td>113.5700</td>\n",
       "    </tr>\n",
       "    <tr>\n",
       "      <th>2024-12-09</th>\n",
       "      <td>114.9000</td>\n",
       "      <td>63.5600</td>\n",
       "      <td>522.3800</td>\n",
       "      <td>39.0400</td>\n",
       "      <td>112.9000</td>\n",
       "    </tr>\n",
       "    <tr>\n",
       "      <th>2024-12-10</th>\n",
       "      <td>115.5000</td>\n",
       "      <td>63.7100</td>\n",
       "      <td>520.6000</td>\n",
       "      <td>35.2600</td>\n",
       "      <td>112.6700</td>\n",
       "    </tr>\n",
       "  </tbody>\n",
       "</table>\n",
       "<p>1244 rows × 5 columns</p>\n",
       "</div>"
      ],
      "text/plain": [
       "                ABT     KXI      QQQ       X      XOM\n",
       "Date                                                 \n",
       "2020-01-02  79.6899 49.6289 209.9761 10.5066  55.6312\n",
       "2020-01-03  78.7185 49.5841 208.0528 10.4289  55.1839\n",
       "2020-01-06  79.1309 49.7366 209.3932 10.4775  55.6076\n",
       "2020-01-07  78.6910 49.4136 209.3641 10.8076  55.1525\n",
       "2020-01-08  79.0117 49.4046 210.9378 10.7785  54.3208\n",
       "...             ...     ...      ...     ...      ...\n",
       "2024-12-04 115.9700 63.6400 523.2600 38.3900 114.2800\n",
       "2024-12-05 115.5900 64.0400 521.8100 38.8500 114.7800\n",
       "2024-12-06 115.6000 63.7700 526.4800 38.4500 113.5700\n",
       "2024-12-09 114.9000 63.5600 522.3800 39.0400 112.9000\n",
       "2024-12-10 115.5000 63.7100 520.6000 35.2600 112.6700\n",
       "\n",
       "[1244 rows x 5 columns]"
      ]
     },
     "execution_count": 2,
     "metadata": {},
     "output_type": "execute_result"
    }
   ],
   "source": [
    "df = pd.read_excel('data_examen.xlsx')\n",
    "df = df.set_index('Date')\n",
    "df"
   ]
  },
  {
   "cell_type": "code",
   "execution_count": 3,
   "metadata": {},
   "outputs": [],
   "source": [
    "stocks = ['ABT','KXI','QQQ','X','XOM']\n",
    "n_stocks = [5432, 8972, 3243, 7456, 5931]\n",
    "long = True\n",
    "conf = 95"
   ]
  },
  {
   "cell_type": "code",
   "execution_count": 4,
   "metadata": {},
   "outputs": [
    {
     "data": {
      "text/html": [
       "<div>\n",
       "<style scoped>\n",
       "    .dataframe tbody tr th:only-of-type {\n",
       "        vertical-align: middle;\n",
       "    }\n",
       "\n",
       "    .dataframe tbody tr th {\n",
       "        vertical-align: top;\n",
       "    }\n",
       "\n",
       "    .dataframe thead th {\n",
       "        text-align: right;\n",
       "    }\n",
       "</style>\n",
       "<table border=\"1\" class=\"dataframe\">\n",
       "  <thead>\n",
       "    <tr style=\"text-align: right;\">\n",
       "      <th></th>\n",
       "      <th>Métrica</th>\n",
       "      <th>Porcentaje</th>\n",
       "      <th>cash</th>\n",
       "    </tr>\n",
       "  </thead>\n",
       "  <tbody>\n",
       "    <tr>\n",
       "      <th>0</th>\n",
       "      <td>VaR</td>\n",
       "      <td>0.0177</td>\n",
       "      <td>67,612.3411</td>\n",
       "    </tr>\n",
       "    <tr>\n",
       "      <th>1</th>\n",
       "      <td>cVaR</td>\n",
       "      <td>0.0315</td>\n",
       "      <td>120,212.2771</td>\n",
       "    </tr>\n",
       "  </tbody>\n",
       "</table>\n",
       "</div>"
      ],
      "text/plain": [
       "  Métrica  Porcentaje         cash\n",
       "0     VaR      0.0177  67,612.3411\n",
       "1    cVaR      0.0315 120,212.2771"
      ]
     },
     "execution_count": 4,
     "metadata": {},
     "output_type": "execute_result"
    }
   ],
   "source": [
    "vt.var_stocks(df, n_stocks, conf, long, stocks)"
   ]
  },
  {
   "cell_type": "code",
   "execution_count": 5,
   "metadata": {},
   "outputs": [
    {
     "data": {
      "text/html": [
       "<div>\n",
       "<style scoped>\n",
       "    .dataframe tbody tr th:only-of-type {\n",
       "        vertical-align: middle;\n",
       "    }\n",
       "\n",
       "    .dataframe tbody tr th {\n",
       "        vertical-align: top;\n",
       "    }\n",
       "\n",
       "    .dataframe thead th {\n",
       "        text-align: right;\n",
       "    }\n",
       "</style>\n",
       "<table border=\"1\" class=\"dataframe\">\n",
       "  <thead>\n",
       "    <tr style=\"text-align: right;\">\n",
       "      <th></th>\n",
       "      <th>ABT</th>\n",
       "      <th>KXI</th>\n",
       "      <th>QQQ</th>\n",
       "      <th>X</th>\n",
       "      <th>XOM</th>\n",
       "    </tr>\n",
       "  </thead>\n",
       "  <tbody>\n",
       "    <tr>\n",
       "      <th>ABT</th>\n",
       "      <td>0.0003</td>\n",
       "      <td>0.0001</td>\n",
       "      <td>0.0001</td>\n",
       "      <td>0.0001</td>\n",
       "      <td>0.0001</td>\n",
       "    </tr>\n",
       "    <tr>\n",
       "      <th>KXI</th>\n",
       "      <td>0.0001</td>\n",
       "      <td>0.0001</td>\n",
       "      <td>0.0001</td>\n",
       "      <td>0.0001</td>\n",
       "      <td>0.0001</td>\n",
       "    </tr>\n",
       "    <tr>\n",
       "      <th>QQQ</th>\n",
       "      <td>0.0001</td>\n",
       "      <td>0.0001</td>\n",
       "      <td>0.0003</td>\n",
       "      <td>0.0002</td>\n",
       "      <td>0.0001</td>\n",
       "    </tr>\n",
       "    <tr>\n",
       "      <th>X</th>\n",
       "      <td>0.0001</td>\n",
       "      <td>0.0001</td>\n",
       "      <td>0.0002</td>\n",
       "      <td>0.0015</td>\n",
       "      <td>0.0004</td>\n",
       "    </tr>\n",
       "    <tr>\n",
       "      <th>XOM</th>\n",
       "      <td>0.0001</td>\n",
       "      <td>0.0001</td>\n",
       "      <td>0.0001</td>\n",
       "      <td>0.0004</td>\n",
       "      <td>0.0005</td>\n",
       "    </tr>\n",
       "  </tbody>\n",
       "</table>\n",
       "</div>"
      ],
      "text/plain": [
       "       ABT    KXI    QQQ      X    XOM\n",
       "ABT 0.0003 0.0001 0.0001 0.0001 0.0001\n",
       "KXI 0.0001 0.0001 0.0001 0.0001 0.0001\n",
       "QQQ 0.0001 0.0001 0.0003 0.0002 0.0001\n",
       "X   0.0001 0.0001 0.0002 0.0015 0.0004\n",
       "XOM 0.0001 0.0001 0.0001 0.0004 0.0005"
      ]
     },
     "execution_count": 5,
     "metadata": {},
     "output_type": "execute_result"
    }
   ],
   "source": [
    "rt = df.pct_change().dropna()\n",
    "rt.cov()"
   ]
  },
  {
   "cell_type": "code",
   "execution_count": 6,
   "metadata": {},
   "outputs": [
    {
     "data": {
      "text/plain": [
       "ABT   0.1643\n",
       "KXI   0.1497\n",
       "QQQ   0.4421\n",
       "X     0.0688\n",
       "XOM   0.1750\n",
       "Name: 2024-12-10 00:00:00, dtype: float64"
      ]
     },
     "execution_count": 6,
     "metadata": {},
     "output_type": "execute_result"
    }
   ],
   "source": [
    "df = df[stocks]\n",
    "last_price = df.iloc[-1]\n",
    "pv = np.sum(last_price * n_stocks)\n",
    "\n",
    "weights = (last_price * n_stocks) / pv\n",
    "objetivo = [0.1625, 0.4406, 0.2104, 0.0075, 0.1790]\n",
    "weights"
   ]
  },
  {
   "cell_type": "code",
   "execution_count": 7,
   "metadata": {},
   "outputs": [
    {
     "data": {
      "text/html": [
       "<div>\n",
       "<style scoped>\n",
       "    .dataframe tbody tr th:only-of-type {\n",
       "        vertical-align: middle;\n",
       "    }\n",
       "\n",
       "    .dataframe tbody tr th {\n",
       "        vertical-align: top;\n",
       "    }\n",
       "\n",
       "    .dataframe thead th {\n",
       "        text-align: right;\n",
       "    }\n",
       "</style>\n",
       "<table border=\"1\" class=\"dataframe\">\n",
       "  <thead>\n",
       "    <tr style=\"text-align: right;\">\n",
       "      <th></th>\n",
       "      <th>ABT</th>\n",
       "      <th>KXI</th>\n",
       "      <th>QQQ</th>\n",
       "      <th>X</th>\n",
       "      <th>XOM</th>\n",
       "    </tr>\n",
       "  </thead>\n",
       "  <tbody>\n",
       "    <tr>\n",
       "      <th>Peso Original</th>\n",
       "      <td>0.1643</td>\n",
       "      <td>0.1497</td>\n",
       "      <td>0.4421</td>\n",
       "      <td>0.0688</td>\n",
       "      <td>0.1750</td>\n",
       "    </tr>\n",
       "    <tr>\n",
       "      <th>Peso Óptimo</th>\n",
       "      <td>0.1625</td>\n",
       "      <td>0.4406</td>\n",
       "      <td>0.2104</td>\n",
       "      <td>0.0075</td>\n",
       "      <td>0.1790</td>\n",
       "    </tr>\n",
       "    <tr>\n",
       "      <th>Acciones (C/V)</th>\n",
       "      <td>-60.0000</td>\n",
       "      <td>17,435.0000</td>\n",
       "      <td>-1,700.0000</td>\n",
       "      <td>-6,644.0000</td>\n",
       "      <td>135.0000</td>\n",
       "    </tr>\n",
       "  </tbody>\n",
       "</table>\n",
       "</div>"
      ],
      "text/plain": [
       "                    ABT         KXI         QQQ           X      XOM\n",
       "Peso Original    0.1643      0.1497      0.4421      0.0688   0.1750\n",
       "Peso Óptimo      0.1625      0.4406      0.2104      0.0075   0.1790\n",
       "Acciones (C/V) -60.0000 17,435.0000 -1,700.0000 -6,644.0000 135.0000"
      ]
     },
     "execution_count": 7,
     "metadata": {},
     "output_type": "execute_result"
    }
   ],
   "source": [
    "vt.rebalance_stocks(weights, objetivo, df, stocks, pv)"
   ]
  },
  {
   "cell_type": "code",
   "execution_count": 8,
   "metadata": {},
   "outputs": [
    {
     "data": {
      "text/html": [
       "<div>\n",
       "<style scoped>\n",
       "    .dataframe tbody tr th:only-of-type {\n",
       "        vertical-align: middle;\n",
       "    }\n",
       "\n",
       "    .dataframe tbody tr th {\n",
       "        vertical-align: top;\n",
       "    }\n",
       "\n",
       "    .dataframe thead th {\n",
       "        text-align: right;\n",
       "    }\n",
       "</style>\n",
       "<table border=\"1\" class=\"dataframe\">\n",
       "  <thead>\n",
       "    <tr style=\"text-align: right;\">\n",
       "      <th></th>\n",
       "      <th>MXNUSD</th>\n",
       "      <th>JPYUSD</th>\n",
       "    </tr>\n",
       "    <tr>\n",
       "      <th>Date</th>\n",
       "      <th></th>\n",
       "      <th></th>\n",
       "    </tr>\n",
       "  </thead>\n",
       "  <tbody>\n",
       "    <tr>\n",
       "      <th>2020-01-01</th>\n",
       "      <td>0.0529</td>\n",
       "      <td>0.0092</td>\n",
       "    </tr>\n",
       "    <tr>\n",
       "      <th>2020-01-02</th>\n",
       "      <td>0.0529</td>\n",
       "      <td>0.0092</td>\n",
       "    </tr>\n",
       "    <tr>\n",
       "      <th>2020-01-03</th>\n",
       "      <td>0.0531</td>\n",
       "      <td>0.0092</td>\n",
       "    </tr>\n",
       "    <tr>\n",
       "      <th>2020-01-06</th>\n",
       "      <td>0.0528</td>\n",
       "      <td>0.0093</td>\n",
       "    </tr>\n",
       "    <tr>\n",
       "      <th>2020-01-07</th>\n",
       "      <td>0.0531</td>\n",
       "      <td>0.0092</td>\n",
       "    </tr>\n",
       "  </tbody>\n",
       "</table>\n",
       "</div>"
      ],
      "text/plain": [
       "            MXNUSD  JPYUSD\n",
       "Date                      \n",
       "2020-01-01  0.0529  0.0092\n",
       "2020-01-02  0.0529  0.0092\n",
       "2020-01-03  0.0531  0.0092\n",
       "2020-01-06  0.0528  0.0093\n",
       "2020-01-07  0.0531  0.0092"
      ]
     },
     "execution_count": 8,
     "metadata": {},
     "output_type": "execute_result"
    }
   ],
   "source": [
    "df = pd.read_excel('data_examen.xlsx', sheet_name=3)\n",
    "df = df.set_index('Date')\n",
    "df = df[['MXNUSD','JPYUSD']]\n",
    "df.head()"
   ]
  },
  {
   "cell_type": "code",
   "execution_count": 9,
   "metadata": {},
   "outputs": [],
   "source": [
    "long = False\n",
    "currencies = ['MXNUSD','JPYUSD']\n",
    "conf = 99\n",
    "positions = [49000000, 73000000]"
   ]
  },
  {
   "cell_type": "code",
   "execution_count": 10,
   "metadata": {},
   "outputs": [
    {
     "data": {
      "text/html": [
       "<div>\n",
       "<style scoped>\n",
       "    .dataframe tbody tr th:only-of-type {\n",
       "        vertical-align: middle;\n",
       "    }\n",
       "\n",
       "    .dataframe tbody tr th {\n",
       "        vertical-align: top;\n",
       "    }\n",
       "\n",
       "    .dataframe thead th {\n",
       "        text-align: right;\n",
       "    }\n",
       "</style>\n",
       "<table border=\"1\" class=\"dataframe\">\n",
       "  <thead>\n",
       "    <tr style=\"text-align: right;\">\n",
       "      <th></th>\n",
       "      <th>Métrica</th>\n",
       "      <th>Porcentual</th>\n",
       "      <th>Cash</th>\n",
       "    </tr>\n",
       "  </thead>\n",
       "  <tbody>\n",
       "    <tr>\n",
       "      <th>0</th>\n",
       "      <td>VaR</td>\n",
       "      <td>0.0158</td>\n",
       "      <td>46,019.0110</td>\n",
       "    </tr>\n",
       "    <tr>\n",
       "      <th>1</th>\n",
       "      <td>cVaR</td>\n",
       "      <td>0.0192</td>\n",
       "      <td>55,955.3110</td>\n",
       "    </tr>\n",
       "  </tbody>\n",
       "</table>\n",
       "</div>"
      ],
      "text/plain": [
       "  Métrica  Porcentual        Cash\n",
       "0     VaR      0.0158 46,019.0110\n",
       "1    cVaR      0.0192 55,955.3110"
      ]
     },
     "execution_count": 10,
     "metadata": {},
     "output_type": "execute_result"
    }
   ],
   "source": [
    "vt.var_forex(df, positions, conf, long, currencies)"
   ]
  },
  {
   "cell_type": "code",
   "execution_count": 11,
   "metadata": {},
   "outputs": [],
   "source": [
    "# Write in order S, K, r, sigma, T, N (money invested in each option)\n",
    "\n",
    "info_call = [[2694, 2650, 0.0439, 0.31, 3/12, 21],\n",
    "             [2694, 2670, 0.0439, 0.28, 3/12, 25],\n",
    "             [2694, 2650, 0.0421, 0.43, 12/12, 28],\n",
    "             [2694, 2670, 0.0421, 0.37, 12/12, 33]]\n",
    "\n",
    "info_put = [[2694, 2730, 0.0439, 0.35, 3/12, 45],\n",
    "             [2694, 2740, 0.0439, 0.36, 3/12, 10],\n",
    "             [2694, 2730, 0.0421, 0.51, 12/12, 12],\n",
    "             [2694, 2740, 0.0421, 0.58, 12/12, 43]]"
   ]
  },
  {
   "cell_type": "code",
   "execution_count": 12,
   "metadata": {},
   "outputs": [
    {
     "data": {
      "text/plain": [
       "19.37771011216948"
      ]
     },
     "execution_count": 12,
     "metadata": {},
     "output_type": "execute_result"
    }
   ],
   "source": [
    "vt.BlackScholes().delta_hedge(info_call, info_put)"
   ]
  }
 ],
 "metadata": {
  "kernelspec": {
   "display_name": "base",
   "language": "python",
   "name": "python3"
  },
  "language_info": {
   "codemirror_mode": {
    "name": "ipython",
    "version": 3
   },
   "file_extension": ".py",
   "mimetype": "text/x-python",
   "name": "python",
   "nbconvert_exporter": "python",
   "pygments_lexer": "ipython3",
   "version": "3.12.3"
  }
 },
 "nbformat": 4,
 "nbformat_minor": 2
}
