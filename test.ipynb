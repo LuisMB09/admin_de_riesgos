{
 "cells": [
  {
   "cell_type": "code",
   "execution_count": 1,
   "metadata": {},
   "outputs": [],
   "source": [
    "import numpy as np\n",
    "import pandas as pd\n",
    "import yfinance as yf\n",
    "import vartools as vt"
   ]
  },
  {
   "cell_type": "code",
   "execution_count": 2,
   "metadata": {},
   "outputs": [
    {
     "name": "stderr",
     "output_type": "stream",
     "text": [
      "[*********************100%***********************]  5 of 5 completed\n"
     ]
    }
   ],
   "source": [
    "stocks = [\"AAPL\", \"TSLA\", \"AMD\", \"LMT\", \"JPM\"]\n",
    "start_date = \"2020-01-01\"\n",
    "end_date = \"2023-01-01\"\n",
    "type = 'Adj Close' # 'Close', select the type of price you want to download\n",
    "\n",
    "data = vt.get_data(stocks, start_date, end_date, type)"
   ]
  },
  {
   "cell_type": "code",
   "execution_count": 3,
   "metadata": {},
   "outputs": [
    {
     "name": "stderr",
     "output_type": "stream",
     "text": [
      "[*********************100%***********************]  5 of 5 completed\n"
     ]
    },
    {
     "data": {
      "text/html": [
       "<div>\n",
       "<style scoped>\n",
       "    .dataframe tbody tr th:only-of-type {\n",
       "        vertical-align: middle;\n",
       "    }\n",
       "\n",
       "    .dataframe tbody tr th {\n",
       "        vertical-align: top;\n",
       "    }\n",
       "\n",
       "    .dataframe thead th {\n",
       "        text-align: right;\n",
       "    }\n",
       "</style>\n",
       "<table border=\"1\" class=\"dataframe\">\n",
       "  <thead>\n",
       "    <tr style=\"text-align: right;\">\n",
       "      <th></th>\n",
       "      <th>Métrica</th>\n",
       "      <th>Porcentaje</th>\n",
       "      <th>cash</th>\n",
       "    </tr>\n",
       "  </thead>\n",
       "  <tbody>\n",
       "    <tr>\n",
       "      <th>0</th>\n",
       "      <td>VaR</td>\n",
       "      <td>0.0288</td>\n",
       "      <td>33,073.7700</td>\n",
       "    </tr>\n",
       "    <tr>\n",
       "      <th>1</th>\n",
       "      <td>cVaR</td>\n",
       "      <td>0.0463</td>\n",
       "      <td>53,131.4700</td>\n",
       "    </tr>\n",
       "  </tbody>\n",
       "</table>\n",
       "</div>"
      ],
      "text/plain": [
       "  Métrica  Porcentaje        cash\n",
       "0     VaR      0.0288 33,073.7700\n",
       "1    cVaR      0.0463 53,131.4700"
      ]
     },
     "execution_count": 3,
     "metadata": {},
     "output_type": "execute_result"
    }
   ],
   "source": [
    "stocks = [\"AAPL\", \"TSLA\", \"AMD\", \"LMT\", \"JPM\"]\n",
    "start_date = \"2020-01-01\"\n",
    "end_date = \"2023-01-01\"\n",
    "type = 'Adj Close' # 'Close', select the type of price you want to download\n",
    "\n",
    "data = vt.get_data(stocks, start_date, end_date, type)\n",
    "n_stocks =[2193, 1211, 3221, 761, 1231]\n",
    "conf = 95\n",
    "long = True\n",
    "\n",
    "var_df = vt.var_stocks(data, n_stocks, conf, long, stocks)\n",
    "var_df"
   ]
  },
  {
   "cell_type": "code",
   "execution_count": 7,
   "metadata": {},
   "outputs": [
    {
     "name": "stderr",
     "output_type": "stream",
     "text": [
      "[*********************100%***********************]  2 of 2 completed\n"
     ]
    },
    {
     "data": {
      "text/html": [
       "<div>\n",
       "<style scoped>\n",
       "    .dataframe tbody tr th:only-of-type {\n",
       "        vertical-align: middle;\n",
       "    }\n",
       "\n",
       "    .dataframe tbody tr th {\n",
       "        vertical-align: top;\n",
       "    }\n",
       "\n",
       "    .dataframe thead th {\n",
       "        text-align: right;\n",
       "    }\n",
       "</style>\n",
       "<table border=\"1\" class=\"dataframe\">\n",
       "  <thead>\n",
       "    <tr style=\"text-align: right;\">\n",
       "      <th></th>\n",
       "      <th>Métrica</th>\n",
       "      <th>Porcentual</th>\n",
       "      <th>Cash</th>\n",
       "    </tr>\n",
       "  </thead>\n",
       "  <tbody>\n",
       "    <tr>\n",
       "      <th>0</th>\n",
       "      <td>VaR</td>\n",
       "      <td>0.0185</td>\n",
       "      <td>5,041,647.6883</td>\n",
       "    </tr>\n",
       "    <tr>\n",
       "      <th>1</th>\n",
       "      <td>cVaR</td>\n",
       "      <td>0.0238</td>\n",
       "      <td>6,478,978.9919</td>\n",
       "    </tr>\n",
       "  </tbody>\n",
       "</table>\n",
       "</div>"
      ],
      "text/plain": [
       "  Métrica  Porcentual           Cash\n",
       "0     VaR      0.0185 5,041,647.6883\n",
       "1    cVaR      0.0238 6,478,978.9919"
      ]
     },
     "execution_count": 7,
     "metadata": {},
     "output_type": "execute_result"
    }
   ],
   "source": [
    "currencies = ['CHFMXN=X', 'MXN=X']\n",
    "start_date = \"2020-01-01\"\n",
    "end_date = \"2024-12-02\"\n",
    "type = 'Adj Close'\n",
    "\n",
    "data = vt.get_data(currencies, start_date, end_date, type)\n",
    "positions = [7100000, 5300000] # How much you have in each currency. Must match the order in currencies.\n",
    "conf = 99 # Nivel de confianza\n",
    "long = True\n",
    "\n",
    "var_forex_df = vt.var_forex(data, positions, conf, long, currencies)\n",
    "var_forex_df"
   ]
  },
  {
   "cell_type": "code",
   "execution_count": 8,
   "metadata": {},
   "outputs": [
    {
     "name": "stderr",
     "output_type": "stream",
     "text": [
      "[*********************100%***********************]  5 of 5 completed\n"
     ]
    },
    {
     "data": {
      "text/html": [
       "<div>\n",
       "<style scoped>\n",
       "    .dataframe tbody tr th:only-of-type {\n",
       "        vertical-align: middle;\n",
       "    }\n",
       "\n",
       "    .dataframe tbody tr th {\n",
       "        vertical-align: top;\n",
       "    }\n",
       "\n",
       "    .dataframe thead th {\n",
       "        text-align: right;\n",
       "    }\n",
       "</style>\n",
       "<table border=\"1\" class=\"dataframe\">\n",
       "  <thead>\n",
       "    <tr style=\"text-align: right;\">\n",
       "      <th>Ticker</th>\n",
       "      <th>AAPL</th>\n",
       "      <th>TSLA</th>\n",
       "      <th>AMD</th>\n",
       "      <th>LMT</th>\n",
       "      <th>JPM</th>\n",
       "    </tr>\n",
       "  </thead>\n",
       "  <tbody>\n",
       "    <tr>\n",
       "      <th>Peso Original</th>\n",
       "      <td>0.2457</td>\n",
       "      <td>0.1301</td>\n",
       "      <td>0.1820</td>\n",
       "      <td>0.3064</td>\n",
       "      <td>0.1359</td>\n",
       "    </tr>\n",
       "    <tr>\n",
       "      <th>Peso Óptimo</th>\n",
       "      <td>0.3300</td>\n",
       "      <td>0.1500</td>\n",
       "      <td>0.0600</td>\n",
       "      <td>0.4600</td>\n",
       "      <td>0.0000</td>\n",
       "    </tr>\n",
       "    <tr>\n",
       "      <th>Acciones (C/V)</th>\n",
       "      <td>752.0000</td>\n",
       "      <td>185.0000</td>\n",
       "      <td>-2,159.0000</td>\n",
       "      <td>381.0000</td>\n",
       "      <td>-1,231.0000</td>\n",
       "    </tr>\n",
       "  </tbody>\n",
       "</table>\n",
       "</div>"
      ],
      "text/plain": [
       "Ticker             AAPL     TSLA         AMD      LMT         JPM\n",
       "Peso Original    0.2457   0.1301      0.1820   0.3064      0.1359\n",
       "Peso Óptimo      0.3300   0.1500      0.0600   0.4600      0.0000\n",
       "Acciones (C/V) 752.0000 185.0000 -2,159.0000 381.0000 -1,231.0000"
      ]
     },
     "execution_count": 8,
     "metadata": {},
     "output_type": "execute_result"
    }
   ],
   "source": [
    "stocks = [\"AAPL\", \"TSLA\", \"AMD\", \"LMT\", \"JPM\"]\n",
    "start_date = \"2020-01-01\"\n",
    "end_date = \"2023-01-01\"\n",
    "type = 'Adj Close' # 'Close', select the type of price you want to download\n",
    "\n",
    "data = vt.get_data(stocks, start_date, end_date, type)\n",
    "\n",
    "rt = data.pct_change().dropna()\n",
    "stock_value = n_stocks * data.iloc[-1]\n",
    "portfolio_value = stock_value.sum()\n",
    "w_original = stock_value / portfolio_value\n",
    "w_opt = [0.33, 0.15, 0.06, 0.46, 0.00]\n",
    "\n",
    "rebalance_df = vt.rebalance_stocks(w_original, w_opt, data, stocks, portfolio_value)\n",
    "rebalance_df"
   ]
  }
 ],
 "metadata": {
  "kernelspec": {
   "display_name": "base",
   "language": "python",
   "name": "python3"
  },
  "language_info": {
   "codemirror_mode": {
    "name": "ipython",
    "version": 3
   },
   "file_extension": ".py",
   "mimetype": "text/x-python",
   "name": "python",
   "nbconvert_exporter": "python",
   "pygments_lexer": "ipython3",
   "version": "3.12.3"
  }
 },
 "nbformat": 4,
 "nbformat_minor": 2
}
