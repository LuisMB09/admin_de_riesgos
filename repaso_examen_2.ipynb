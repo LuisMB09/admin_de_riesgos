{
 "cells": [
  {
   "cell_type": "code",
   "execution_count": 1,
   "metadata": {},
   "outputs": [],
   "source": [
    "import numpy as np\n",
    "import pandas as pd\n",
    "import vartools as vt"
   ]
  },
  {
   "cell_type": "markdown",
   "metadata": {},
   "source": [
    "## Ejercicio 1"
   ]
  },
  {
   "cell_type": "code",
   "execution_count": 2,
   "metadata": {},
   "outputs": [],
   "source": [
    "df = pd.read_excel(\"18.- Repaso_2_EX_P2025.xlsx\", sheet_name=1)\n",
    "df = df.set_index('Date')\n",
    "posiciones1 = np.array([121*100, 153*5000, 189*25000])\n",
    "conf = 0.99\n",
    "long = False"
   ]
  },
  {
   "cell_type": "code",
   "execution_count": 3,
   "metadata": {},
   "outputs": [
    {
     "data": {
      "text/html": [
       "<div>\n",
       "<style scoped>\n",
       "    .dataframe tbody tr th:only-of-type {\n",
       "        vertical-align: middle;\n",
       "    }\n",
       "\n",
       "    .dataframe tbody tr th {\n",
       "        vertical-align: top;\n",
       "    }\n",
       "\n",
       "    .dataframe thead th {\n",
       "        text-align: right;\n",
       "    }\n",
       "</style>\n",
       "<table border=\"1\" class=\"dataframe\">\n",
       "  <thead>\n",
       "    <tr style=\"text-align: right;\">\n",
       "      <th></th>\n",
       "      <th>Métrica</th>\n",
       "      <th>Porcentaje</th>\n",
       "      <th>Cash</th>\n",
       "    </tr>\n",
       "  </thead>\n",
       "  <tbody>\n",
       "    <tr>\n",
       "      <th>0</th>\n",
       "      <td>VaR</td>\n",
       "      <td>0.0244</td>\n",
       "      <td>1,469,942.9064</td>\n",
       "    </tr>\n",
       "    <tr>\n",
       "      <th>1</th>\n",
       "      <td>VaR Ajustado Promedio</td>\n",
       "      <td>0.0254</td>\n",
       "      <td>1,529,102.2907</td>\n",
       "    </tr>\n",
       "    <tr>\n",
       "      <th>2</th>\n",
       "      <td>VaR Ajustado Estresado</td>\n",
       "      <td>0.0289</td>\n",
       "      <td>1,740,885.0820</td>\n",
       "    </tr>\n",
       "    <tr>\n",
       "      <th>3</th>\n",
       "      <td>C-VaR</td>\n",
       "      <td>0.0289</td>\n",
       "      <td>1,738,382.5541</td>\n",
       "    </tr>\n",
       "    <tr>\n",
       "      <th>4</th>\n",
       "      <td>C-VaR Ajustado Promedio</td>\n",
       "      <td>0.0299</td>\n",
       "      <td>1,797,541.9383</td>\n",
       "    </tr>\n",
       "    <tr>\n",
       "      <th>5</th>\n",
       "      <td>C-VaR Ajustado Estresado</td>\n",
       "      <td>0.0334</td>\n",
       "      <td>2,009,324.7297</td>\n",
       "    </tr>\n",
       "  </tbody>\n",
       "</table>\n",
       "</div>"
      ],
      "text/plain": [
       "                    Métrica  Porcentaje           Cash\n",
       "0                       VaR      0.0244 1,469,942.9064\n",
       "1     VaR Ajustado Promedio      0.0254 1,529,102.2907\n",
       "2    VaR Ajustado Estresado      0.0289 1,740,885.0820\n",
       "3                     C-VaR      0.0289 1,738,382.5541\n",
       "4   C-VaR Ajustado Promedio      0.0299 1,797,541.9383\n",
       "5  C-VaR Ajustado Estresado      0.0334 2,009,324.7297"
      ]
     },
     "execution_count": 3,
     "metadata": {},
     "output_type": "execute_result"
    }
   ],
   "source": [
    "vt.var_apl(df, posiciones1, conf, long)"
   ]
  },
  {
   "cell_type": "code",
   "execution_count": 4,
   "metadata": {},
   "outputs": [],
   "source": [
    "adv = df['Volume'].mean()\n",
    "n_shares = 121*100"
   ]
  },
  {
   "cell_type": "code",
   "execution_count": 5,
   "metadata": {},
   "outputs": [
    {
     "data": {
      "text/plain": [
       "1.0"
      ]
     },
     "execution_count": 5,
     "metadata": {},
     "output_type": "execute_result"
    }
   ],
   "source": [
    "np.ceil(n_shares/adv)"
   ]
  },
  {
   "cell_type": "markdown",
   "metadata": {},
   "source": [
    "## Ejercicio 2"
   ]
  },
  {
   "cell_type": "code",
   "execution_count": 6,
   "metadata": {},
   "outputs": [],
   "source": [
    "data = pd.read_excel(\"18.- Repaso_2_EX_P2025.xlsx\", sheet_name=3)\n",
    "data = data.set_index('Date')\n",
    "posiciones = np.array([1_571_000, 7_203_000])\n",
    "conf = 0.99\n",
    "long = True"
   ]
  },
  {
   "cell_type": "code",
   "execution_count": 7,
   "metadata": {},
   "outputs": [
    {
     "data": {
      "text/html": [
       "<div>\n",
       "<style scoped>\n",
       "    .dataframe tbody tr th:only-of-type {\n",
       "        vertical-align: middle;\n",
       "    }\n",
       "\n",
       "    .dataframe tbody tr th {\n",
       "        vertical-align: top;\n",
       "    }\n",
       "\n",
       "    .dataframe thead th {\n",
       "        text-align: right;\n",
       "    }\n",
       "</style>\n",
       "<table border=\"1\" class=\"dataframe\">\n",
       "  <thead>\n",
       "    <tr style=\"text-align: right;\">\n",
       "      <th></th>\n",
       "      <th>Métrica</th>\n",
       "      <th>Porcentaje</th>\n",
       "      <th>Cash</th>\n",
       "    </tr>\n",
       "  </thead>\n",
       "  <tbody>\n",
       "    <tr>\n",
       "      <th>0</th>\n",
       "      <td>VaR</td>\n",
       "      <td>0.0147</td>\n",
       "      <td>46,302.2918</td>\n",
       "    </tr>\n",
       "    <tr>\n",
       "      <th>1</th>\n",
       "      <td>VaR Ajustado Promedio</td>\n",
       "      <td>0.0150</td>\n",
       "      <td>47,136.1542</td>\n",
       "    </tr>\n",
       "    <tr>\n",
       "      <th>2</th>\n",
       "      <td>VaR Ajustado Estresado</td>\n",
       "      <td>0.0153</td>\n",
       "      <td>48,068.5437</td>\n",
       "    </tr>\n",
       "    <tr>\n",
       "      <th>3</th>\n",
       "      <td>C-VaR</td>\n",
       "      <td>0.0171</td>\n",
       "      <td>53,853.4672</td>\n",
       "    </tr>\n",
       "    <tr>\n",
       "      <th>4</th>\n",
       "      <td>C-VaR Ajustado Promedio</td>\n",
       "      <td>0.0174</td>\n",
       "      <td>54,687.3296</td>\n",
       "    </tr>\n",
       "    <tr>\n",
       "      <th>5</th>\n",
       "      <td>C-VaR Ajustado Estresado</td>\n",
       "      <td>0.0177</td>\n",
       "      <td>55,619.7191</td>\n",
       "    </tr>\n",
       "  </tbody>\n",
       "</table>\n",
       "</div>"
      ],
      "text/plain": [
       "                    Métrica  Porcentaje        Cash\n",
       "0                       VaR      0.0147 46,302.2918\n",
       "1     VaR Ajustado Promedio      0.0150 47,136.1542\n",
       "2    VaR Ajustado Estresado      0.0153 48,068.5437\n",
       "3                     C-VaR      0.0171 53,853.4672\n",
       "4   C-VaR Ajustado Promedio      0.0174 54,687.3296\n",
       "5  C-VaR Ajustado Estresado      0.0177 55,619.7191"
      ]
     },
     "execution_count": 7,
     "metadata": {},
     "output_type": "execute_result"
    }
   ],
   "source": [
    "vt.var_apl(data, posiciones, conf, long)"
   ]
  },
  {
   "cell_type": "code",
   "execution_count": 8,
   "metadata": {},
   "outputs": [],
   "source": [
    "def var_apl(data: pd.DataFrame, posiciones: list | np.ndarray, conf: float, long: bool):\n",
    "    data = data.sort_index()\n",
    "\n",
    "    # Bid y Ask\n",
    "    bid_columns = [col for col in data.columns if 'Bid' in col] # Selecciona las columnas que contienen 'Bid'\n",
    "    ask_columns = [col for col in data.columns if 'Ask' in col] # Selecciona las columnas que contienen 'Ask'\n",
    "\n",
    "    # Mid\n",
    "    mid_columns = [f'Mid.{i}' for i in range(len(bid_columns))] # Se crea una lista con los nombres de las columnas de Mid\n",
    "    data[mid_columns] = (data[bid_columns].values + data[ask_columns].values) / 2\n",
    "\n",
    "    # Spreads\n",
    "    spread_columns = [f'Spread.{i}' for i in range(len(bid_columns))] # Se crea una lista con los nombres de las columnas de Spread\n",
    "    data[spread_columns] = (data[ask_columns].values - data[bid_columns].values) / data[mid_columns].values\n",
    "\n",
    "    # Returns\n",
    "    return_columns = [f'Return.{i}' for i in range(len(mid_columns))] # Se crea una lista con los nombres de las columnas de Return\n",
    "    data[return_columns] = data[mid_columns].pct_change()\n",
    "\n",
    "    # Weights\n",
    "    value = posiciones * data[mid_columns].iloc[-1].values\n",
    "    pv = np.sum(value)\n",
    "    w = value / pv\n",
    "\n",
    "    # Portfolio return\n",
    "    data['port_ret'] = np.dot(data[return_columns], w)\n",
    "\n",
    "    # VaR calculation\n",
    "    var_pct = np.percentile(data['port_ret'].dropna(), 100 - conf*100) if long else np.percentile(data['port_ret'].dropna(), conf*100)\n",
    "    var_cash = pv * var_pct\n",
    "\n",
    "    # C-VaR calculation\n",
    "    cvar_pct = data['port_ret'][data['port_ret'] < var_pct].dropna().mean() if long else data['port_ret'][data['port_ret'] > var_pct].dropna().mean()\n",
    "    cvar_cash = pv * cvar_pct\n",
    "\n",
    "    # Liquidity cost\n",
    "    cl_prom = data[spread_columns].mean()\n",
    "    cl_estr = np.percentile(data[spread_columns], 99, axis=0)\n",
    "\n",
    "    # VaR adjusted by liquidity cost\n",
    "\n",
    "    var_apl_prom, var_apl_estr = np.abs(((var_pct - np.dot(w, cl_prom), var_pct - np.dot(w, cl_estr)) if long \n",
    "                                else (var_pct + np.dot(w, cl_prom), var_pct + np.dot(w, cl_estr))))\n",
    "\n",
    "    var_apl_prom_cash, var_apl_estr_cash = np.abs(((var_cash - np.dot(value, cl_prom), var_cash - np.dot(value, cl_estr)) if long \n",
    "                                            else (var_cash + np.dot(value, cl_prom), var_cash + np.dot(value, cl_estr))))\n",
    "    \n",
    "    # C-VaR adjusted by liquidity cost\n",
    "\n",
    "    cvar_apl_prom, cvar_apl_estr = np.abs(((cvar_pct - np.dot(w, cl_prom), cvar_pct - np.dot(w, cl_estr)) if long\n",
    "                                    else (cvar_pct + np.dot(w, cl_prom), cvar_pct + np.dot(w, cl_estr))))\n",
    "    \n",
    "    cvar_apl_prom_cash, cvar_apl_estr_cash = np.abs(((cvar_cash - np.dot(value, cl_prom), cvar_cash - np.dot(value, cl_estr)) if long\n",
    "                                            else (cvar_cash + np.dot(value, cl_prom), cvar_cash + np.dot(value, cl_estr))))\n",
    "\n",
    "    resultados = pd.DataFrame({\n",
    "        'Métrica': ['VaR', 'VaR Ajustado Promedio', 'VaR Ajustado Estresado', 'C-VaR', 'C-VaR Ajustado Promedio', 'C-VaR Ajustado Estresado'],\n",
    "        'Porcentaje': [np.abs(var_pct), var_apl_prom, var_apl_estr, np.abs(cvar_pct), cvar_apl_prom, cvar_apl_estr],\n",
    "        'Cash': [np.abs(var_cash), var_apl_prom_cash, var_apl_estr_cash, np.abs(cvar_cash), cvar_apl_prom_cash, cvar_apl_estr_cash]\n",
    "    })\n",
    "\n",
    "    return np.dot(value, cl_prom)"
   ]
  },
  {
   "cell_type": "code",
   "execution_count": 9,
   "metadata": {},
   "outputs": [
    {
     "data": {
      "text/plain": [
       "833.8623314070503"
      ]
     },
     "execution_count": 9,
     "metadata": {},
     "output_type": "execute_result"
    }
   ],
   "source": [
    "var_apl(data, posiciones, conf, long)"
   ]
  }
 ],
 "metadata": {
  "kernelspec": {
   "display_name": "base",
   "language": "python",
   "name": "python3"
  },
  "language_info": {
   "codemirror_mode": {
    "name": "ipython",
    "version": 3
   },
   "file_extension": ".py",
   "mimetype": "text/x-python",
   "name": "python",
   "nbconvert_exporter": "python",
   "pygments_lexer": "ipython3",
   "version": "3.12.3"
  }
 },
 "nbformat": 4,
 "nbformat_minor": 2
}
