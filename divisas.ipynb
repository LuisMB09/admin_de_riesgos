{
 "cells": [
  {
   "cell_type": "code",
   "execution_count": 1,
   "metadata": {},
   "outputs": [],
   "source": [
    "import pandas as pd\n",
    "import yfinance as yf"
   ]
  },
  {
   "cell_type": "code",
   "execution_count": 6,
   "metadata": {},
   "outputs": [
    {
     "name": "stderr",
     "output_type": "stream",
     "text": [
      "[*********************100%***********************]  2 of 2 completed\n"
     ]
    },
    {
     "data": {
      "text/html": [
       "<div>\n",
       "<style scoped>\n",
       "    .dataframe tbody tr th:only-of-type {\n",
       "        vertical-align: middle;\n",
       "    }\n",
       "\n",
       "    .dataframe tbody tr th {\n",
       "        vertical-align: top;\n",
       "    }\n",
       "\n",
       "    .dataframe thead th {\n",
       "        text-align: right;\n",
       "    }\n",
       "</style>\n",
       "<table border=\"1\" class=\"dataframe\">\n",
       "  <thead>\n",
       "    <tr style=\"text-align: right;\">\n",
       "      <th>Ticker</th>\n",
       "      <th>EURMXN=X</th>\n",
       "      <th>MXN=X</th>\n",
       "    </tr>\n",
       "    <tr>\n",
       "      <th>Date</th>\n",
       "      <th></th>\n",
       "      <th></th>\n",
       "    </tr>\n",
       "  </thead>\n",
       "  <tbody>\n",
       "    <tr>\n",
       "      <th>2020-01-01 00:00:00+00:00</th>\n",
       "      <td>21.230801</td>\n",
       "      <td>18.917400</td>\n",
       "    </tr>\n",
       "    <tr>\n",
       "      <th>2020-01-02 00:00:00+00:00</th>\n",
       "      <td>21.212900</td>\n",
       "      <td>18.898800</td>\n",
       "    </tr>\n",
       "    <tr>\n",
       "      <th>2020-01-03 00:00:00+00:00</th>\n",
       "      <td>21.046200</td>\n",
       "      <td>18.830299</td>\n",
       "    </tr>\n",
       "    <tr>\n",
       "      <th>2020-01-06 00:00:00+00:00</th>\n",
       "      <td>21.144400</td>\n",
       "      <td>18.944759</td>\n",
       "    </tr>\n",
       "    <tr>\n",
       "      <th>2020-01-07 00:00:00+00:00</th>\n",
       "      <td>21.097000</td>\n",
       "      <td>18.841450</td>\n",
       "    </tr>\n",
       "    <tr>\n",
       "      <th>...</th>\n",
       "      <td>...</td>\n",
       "      <td>...</td>\n",
       "    </tr>\n",
       "    <tr>\n",
       "      <th>2025-01-20 00:00:00+00:00</th>\n",
       "      <td>21.363501</td>\n",
       "      <td>20.791290</td>\n",
       "    </tr>\n",
       "    <tr>\n",
       "      <th>2025-01-21 00:00:00+00:00</th>\n",
       "      <td>21.358101</td>\n",
       "      <td>20.497240</td>\n",
       "    </tr>\n",
       "    <tr>\n",
       "      <th>2025-01-22 00:00:00+00:00</th>\n",
       "      <td>21.498199</td>\n",
       "      <td>20.661200</td>\n",
       "    </tr>\n",
       "    <tr>\n",
       "      <th>2025-01-23 00:00:00+00:00</th>\n",
       "      <td>21.332600</td>\n",
       "      <td>20.487101</td>\n",
       "    </tr>\n",
       "    <tr>\n",
       "      <th>2025-01-24 00:00:00+00:00</th>\n",
       "      <td>21.224300</td>\n",
       "      <td>20.378839</td>\n",
       "    </tr>\n",
       "  </tbody>\n",
       "</table>\n",
       "<p>1322 rows × 2 columns</p>\n",
       "</div>"
      ],
      "text/plain": [
       "Ticker                      EURMXN=X      MXN=X\n",
       "Date                                           \n",
       "2020-01-01 00:00:00+00:00  21.230801  18.917400\n",
       "2020-01-02 00:00:00+00:00  21.212900  18.898800\n",
       "2020-01-03 00:00:00+00:00  21.046200  18.830299\n",
       "2020-01-06 00:00:00+00:00  21.144400  18.944759\n",
       "2020-01-07 00:00:00+00:00  21.097000  18.841450\n",
       "...                              ...        ...\n",
       "2025-01-20 00:00:00+00:00  21.363501  20.791290\n",
       "2025-01-21 00:00:00+00:00  21.358101  20.497240\n",
       "2025-01-22 00:00:00+00:00  21.498199  20.661200\n",
       "2025-01-23 00:00:00+00:00  21.332600  20.487101\n",
       "2025-01-24 00:00:00+00:00  21.224300  20.378839\n",
       "\n",
       "[1322 rows x 2 columns]"
      ]
     },
     "execution_count": 6,
     "metadata": {},
     "output_type": "execute_result"
    }
   ],
   "source": [
    "yf.download(['EURMXN=X','MXN=X'], start='2020-01-01', end='2025-01-25')['Adj Close']"
   ]
  }
 ],
 "metadata": {
  "kernelspec": {
   "display_name": "base",
   "language": "python",
   "name": "python3"
  },
  "language_info": {
   "codemirror_mode": {
    "name": "ipython",
    "version": 3
   },
   "file_extension": ".py",
   "mimetype": "text/x-python",
   "name": "python",
   "nbconvert_exporter": "python",
   "pygments_lexer": "ipython3",
   "version": "3.12.3"
  }
 },
 "nbformat": 4,
 "nbformat_minor": 2
}
