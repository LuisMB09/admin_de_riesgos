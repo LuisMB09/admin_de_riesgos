{
 "cells": [
  {
   "cell_type": "code",
   "execution_count": 1,
   "id": "97e55d6b",
   "metadata": {},
   "outputs": [],
   "source": [
    "import numpy as np\n",
    "import pandas as pd\n",
    "\n",
    "pd.set_option('display.float_format', '{:,.4f}'.format)"
   ]
  },
  {
   "cell_type": "markdown",
   "id": "f02cdc65",
   "metadata": {},
   "source": [
    "# <font color='navy'> Datos"
   ]
  },
  {
   "cell_type": "code",
   "execution_count": 2,
   "id": "0fbb8256",
   "metadata": {},
   "outputs": [],
   "source": [
    "df = pd.read_csv('losses_rep.csv')\n",
    "ecl =  1_156_200\n",
    "std =  858_150\n",
    "var =  3_748_400 \n",
    "cvar =  4_048_000\n",
    "\n",
    "#ecl = 392_510\n",
    "#std = 204_580\n",
    "#var = 989_700\n",
    "#cvar = 1_101_200 \n",
    "\n",
    "ucl = var - ecl"
   ]
  },
  {
   "cell_type": "markdown",
   "id": "22f40c1e",
   "metadata": {},
   "source": [
    "# <font color='navy'> Tranches"
   ]
  },
  {
   "cell_type": "code",
   "execution_count": 3,
   "id": "dea8a09b",
   "metadata": {},
   "outputs": [],
   "source": [
    "port = 8_916_276\n",
    "equity = ecl * 0.3\n",
    "mezanine = ecl * 0.35\n",
    "junior = ecl * 0.5\n",
    "\n",
    "#port = 5_552_048\n",
    "#equity = ecl\n",
    "#mezanine = ecl * 1.2\n",
    "#junior = ecl * 1.3\n",
    "\n",
    "senior = port - ecl - equity - mezanine - junior"
   ]
  },
  {
   "cell_type": "code",
   "execution_count": 4,
   "id": "d59150df",
   "metadata": {},
   "outputs": [],
   "source": [
    "lim_ecl = ecl\n",
    "lim_equity = ecl + equity\n",
    "lim_mezanine = ecl + equity + mezanine\n",
    "lim_junior = ecl + equity + mezanine + junior\n",
    "lim_senior = ecl + equity + mezanine + junior + senior"
   ]
  },
  {
   "cell_type": "markdown",
   "id": "4f16cfb5",
   "metadata": {},
   "source": [
    "# <font color='navy'> Grupos"
   ]
  },
  {
   "cell_type": "code",
   "execution_count": 5,
   "id": "4f8ddf3d",
   "metadata": {},
   "outputs": [],
   "source": [
    "maximo = df.max().values[0]\n",
    "minimo = df.min().values[0]\n",
    "rango = maximo - minimo"
   ]
  },
  {
   "cell_type": "code",
   "execution_count": 6,
   "id": "d62ccabd",
   "metadata": {},
   "outputs": [],
   "source": [
    "df_grupos = pd.DataFrame({\n",
    "    'grupos': list(range(1, 101)),\n",
    "})\n",
    "df_grupos['perdida'] = minimo + rango/99 * df_grupos.index"
   ]
  },
  {
   "cell_type": "code",
   "execution_count": 7,
   "id": "cab6277b",
   "metadata": {},
   "outputs": [
    {
     "data": {
      "text/html": [
       "<div>\n",
       "<style scoped>\n",
       "    .dataframe tbody tr th:only-of-type {\n",
       "        vertical-align: middle;\n",
       "    }\n",
       "\n",
       "    .dataframe tbody tr th {\n",
       "        vertical-align: top;\n",
       "    }\n",
       "\n",
       "    .dataframe thead th {\n",
       "        text-align: right;\n",
       "    }\n",
       "</style>\n",
       "<table border=\"1\" class=\"dataframe\">\n",
       "  <thead>\n",
       "    <tr style=\"text-align: right;\">\n",
       "      <th></th>\n",
       "      <th>grupos</th>\n",
       "      <th>perdida</th>\n",
       "      <th>frecuencia</th>\n",
       "      <th>prob_marginal</th>\n",
       "      <th>prob_acumulada</th>\n",
       "    </tr>\n",
       "  </thead>\n",
       "  <tbody>\n",
       "    <tr>\n",
       "      <th>0</th>\n",
       "      <td>1</td>\n",
       "      <td>12,868.3800</td>\n",
       "      <td>1</td>\n",
       "      <td>0.0000</td>\n",
       "      <td>0.0000</td>\n",
       "    </tr>\n",
       "    <tr>\n",
       "      <th>1</th>\n",
       "      <td>2</td>\n",
       "      <td>64,439.4163</td>\n",
       "      <td>652</td>\n",
       "      <td>0.0007</td>\n",
       "      <td>0.0007</td>\n",
       "    </tr>\n",
       "    <tr>\n",
       "      <th>2</th>\n",
       "      <td>3</td>\n",
       "      <td>116,010.4525</td>\n",
       "      <td>5775</td>\n",
       "      <td>0.0058</td>\n",
       "      <td>0.0064</td>\n",
       "    </tr>\n",
       "    <tr>\n",
       "      <th>3</th>\n",
       "      <td>4</td>\n",
       "      <td>167,581.4888</td>\n",
       "      <td>15168</td>\n",
       "      <td>0.0152</td>\n",
       "      <td>0.0216</td>\n",
       "    </tr>\n",
       "    <tr>\n",
       "      <th>4</th>\n",
       "      <td>5</td>\n",
       "      <td>219,152.5251</td>\n",
       "      <td>24373</td>\n",
       "      <td>0.0244</td>\n",
       "      <td>0.0460</td>\n",
       "    </tr>\n",
       "    <tr>\n",
       "      <th>...</th>\n",
       "      <td>...</td>\n",
       "      <td>...</td>\n",
       "      <td>...</td>\n",
       "      <td>...</td>\n",
       "      <td>...</td>\n",
       "    </tr>\n",
       "    <tr>\n",
       "      <th>95</th>\n",
       "      <td>96</td>\n",
       "      <td>4,912,116.8249</td>\n",
       "      <td>21</td>\n",
       "      <td>0.0000</td>\n",
       "      <td>1.0000</td>\n",
       "    </tr>\n",
       "    <tr>\n",
       "      <th>96</th>\n",
       "      <td>97</td>\n",
       "      <td>4,963,687.8612</td>\n",
       "      <td>21</td>\n",
       "      <td>0.0000</td>\n",
       "      <td>1.0000</td>\n",
       "    </tr>\n",
       "    <tr>\n",
       "      <th>97</th>\n",
       "      <td>98</td>\n",
       "      <td>5,015,258.8975</td>\n",
       "      <td>9</td>\n",
       "      <td>0.0000</td>\n",
       "      <td>1.0000</td>\n",
       "    </tr>\n",
       "    <tr>\n",
       "      <th>98</th>\n",
       "      <td>99</td>\n",
       "      <td>5,066,829.9337</td>\n",
       "      <td>8</td>\n",
       "      <td>0.0000</td>\n",
       "      <td>1.0000</td>\n",
       "    </tr>\n",
       "    <tr>\n",
       "      <th>99</th>\n",
       "      <td>100</td>\n",
       "      <td>5,118,400.9700</td>\n",
       "      <td>4</td>\n",
       "      <td>0.0000</td>\n",
       "      <td>1.0000</td>\n",
       "    </tr>\n",
       "  </tbody>\n",
       "</table>\n",
       "<p>100 rows × 5 columns</p>\n",
       "</div>"
      ],
      "text/plain": [
       "    grupos        perdida  frecuencia  prob_marginal  prob_acumulada\n",
       "0        1    12,868.3800           1         0.0000          0.0000\n",
       "1        2    64,439.4163         652         0.0007          0.0007\n",
       "2        3   116,010.4525        5775         0.0058          0.0064\n",
       "3        4   167,581.4888       15168         0.0152          0.0216\n",
       "4        5   219,152.5251       24373         0.0244          0.0460\n",
       "..     ...            ...         ...            ...             ...\n",
       "95      96 4,912,116.8249          21         0.0000          1.0000\n",
       "96      97 4,963,687.8612          21         0.0000          1.0000\n",
       "97      98 5,015,258.8975           9         0.0000          1.0000\n",
       "98      99 5,066,829.9337           8         0.0000          1.0000\n",
       "99     100 5,118,400.9700           4         0.0000          1.0000\n",
       "\n",
       "[100 rows x 5 columns]"
      ]
     },
     "execution_count": 7,
     "metadata": {},
     "output_type": "execute_result"
    }
   ],
   "source": [
    "losses = df['losses'].to_numpy()\n",
    "bins = df_grupos['perdida'].to_numpy()\n",
    "\n",
    "frecuencias = []\n",
    "\n",
    "for i, limite in enumerate(bins):\n",
    "    if i == 0:\n",
    "        count = np.sum(losses <= limite)\n",
    "    else:\n",
    "        count = np.sum((losses > bins[i-1]) & (losses <= limite))\n",
    "    frecuencias.append(count)\n",
    "\n",
    "df_grupos['frecuencia'] = frecuencias\n",
    "df_grupos['prob_marginal'] = df_grupos['frecuencia'] / df_grupos['frecuencia'].sum()\n",
    "df_grupos['prob_acumulada'] = df_grupos['prob_marginal'].cumsum()\n",
    "df_grupos"
   ]
  },
  {
   "cell_type": "markdown",
   "id": "0744c68b",
   "metadata": {},
   "source": [
    "# <font color='navy'> Cortes"
   ]
  },
  {
   "cell_type": "code",
   "execution_count": 8,
   "id": "44142864",
   "metadata": {},
   "outputs": [],
   "source": [
    "df_filtered = df_grupos[df_grupos['perdida'] < lim_ecl]\n",
    "df_extra = df_grupos[df_grupos['perdida'] >= lim_ecl].head(1)\n",
    "df_ecl = pd.concat([df_filtered, df_extra])\n",
    "\n",
    "df_filtered_equity = df_grupos[(df_grupos['perdida'] > df_ecl['perdida'].iloc[-1]) & (df_grupos['perdida'] < lim_equity)]\n",
    "df_extra_equity = df_grupos[df_grupos['perdida'] >= lim_equity].head(1)\n",
    "df_equity = pd.concat([df_filtered_equity, df_extra_equity])\n",
    "\n",
    "df_filtered_mezanine = df_grupos[(df_grupos['perdida'] > df_equity['perdida'].iloc[-1]) & (df_grupos['perdida'] < lim_mezanine)]\n",
    "df_extra_mezanine = df_grupos[df_grupos['perdida'] >= lim_mezanine].head(1)\n",
    "df_mezanine = pd.concat([df_filtered_mezanine, df_extra_mezanine])\n",
    "\n",
    "df_filtered_junior = df_grupos[(df_grupos['perdida'] > df_mezanine['perdida'].iloc[-1]) & (df_grupos['perdida'] < lim_junior)]\n",
    "df_extra_junior = df_grupos[df_grupos['perdida'] >= lim_junior].head(1)\n",
    "df_junior = pd.concat([df_filtered_junior, df_extra_junior])\n",
    "\n",
    "df_filtered_senior = df_grupos[(df_grupos['perdida'] > df_junior['perdida'].iloc[-1]) & (df_grupos['perdida'] < lim_senior)]\n",
    "df_extra_senior = df_grupos[df_grupos['perdida'] >= lim_senior].head(1)\n",
    "df_senior = pd.concat([df_filtered_senior, df_extra_senior])"
   ]
  },
  {
   "cell_type": "markdown",
   "id": "6538837f",
   "metadata": {},
   "source": [
    "# <font color='navy'> Métricas"
   ]
  },
  {
   "cell_type": "code",
   "execution_count": 9,
   "id": "1970b1e0",
   "metadata": {},
   "outputs": [],
   "source": [
    "equity_loss_prob = 1 - df_equity['prob_acumulada'].iloc[0]\n",
    "mezanine_loss_prob = 1 - df_mezanine['prob_acumulada'].iloc[0]\n",
    "junior_loss_prob = 1 - df_junior['prob_acumulada'].iloc[0]\n",
    "\n",
    "if len(df_senior) > 0:\n",
    "    senior_loss_prob = 1 - df_senior['prob_acumulada'].iloc[0]\n",
    "else:\n",
    "    senior_loss_prob = 0"
   ]
  },
  {
   "cell_type": "code",
   "execution_count": 10,
   "id": "105bcc77",
   "metadata": {},
   "outputs": [],
   "source": [
    "equity_loss = np.sum((df_equity['perdida'] - df_ecl['perdida'].iloc[-1]) * df_equity['prob_marginal'])\n",
    "mezanine_loss = np.sum((df_mezanine['perdida'] - df_equity['perdida'].iloc[-1]) * df_mezanine['prob_marginal'])\n",
    "junior_loss = np.sum((df_junior['perdida'] - df_mezanine['perdida'].iloc[-1]) * df_junior['prob_marginal'])\n",
    "senior_loss = np.sum((df_senior['perdida'] - df_junior['perdida'].iloc[-1]) * df_senior['prob_marginal'])"
   ]
  },
  {
   "cell_type": "code",
   "execution_count": 11,
   "id": "f5af3520",
   "metadata": {},
   "outputs": [],
   "source": [
    "expected_loss = np.array([equity_loss, mezanine_loss, junior_loss, senior_loss])\n",
    "port_values = np.array([equity, mezanine, junior, senior])\n",
    "spread = expected_loss / port_values"
   ]
  },
  {
   "cell_type": "code",
   "execution_count": 12,
   "id": "825b6feb",
   "metadata": {},
   "outputs": [
    {
     "data": {
      "text/html": [
       "<div>\n",
       "<style scoped>\n",
       "    .dataframe tbody tr th:only-of-type {\n",
       "        vertical-align: middle;\n",
       "    }\n",
       "\n",
       "    .dataframe tbody tr th {\n",
       "        vertical-align: top;\n",
       "    }\n",
       "\n",
       "    .dataframe thead th {\n",
       "        text-align: right;\n",
       "    }\n",
       "</style>\n",
       "<table border=\"1\" class=\"dataframe\">\n",
       "  <thead>\n",
       "    <tr style=\"text-align: right;\">\n",
       "      <th></th>\n",
       "      <th>tramo</th>\n",
       "      <th>probabilidad</th>\n",
       "      <th>pérdida esperada</th>\n",
       "      <th>spread</th>\n",
       "    </tr>\n",
       "  </thead>\n",
       "  <tbody>\n",
       "    <tr>\n",
       "      <th>0</th>\n",
       "      <td>equity</td>\n",
       "      <td>34.97%</td>\n",
       "      <td>16,725.1059</td>\n",
       "      <td>4.82%</td>\n",
       "    </tr>\n",
       "    <tr>\n",
       "      <th>1</th>\n",
       "      <td>mezanine</td>\n",
       "      <td>25.76%</td>\n",
       "      <td>20,103.0604</td>\n",
       "      <td>4.97%</td>\n",
       "    </tr>\n",
       "    <tr>\n",
       "      <th>2</th>\n",
       "      <td>junior</td>\n",
       "      <td>17.01%</td>\n",
       "      <td>24,185.3204</td>\n",
       "      <td>4.18%</td>\n",
       "    </tr>\n",
       "    <tr>\n",
       "      <th>3</th>\n",
       "      <td>senior</td>\n",
       "      <td>8.96%</td>\n",
       "      <td>60,005.0151</td>\n",
       "      <td>0.93%</td>\n",
       "    </tr>\n",
       "  </tbody>\n",
       "</table>\n",
       "</div>"
      ],
      "text/plain": [
       "      tramo probabilidad  pérdida esperada spread\n",
       "0    equity       34.97%       16,725.1059  4.82%\n",
       "1  mezanine       25.76%       20,103.0604  4.97%\n",
       "2    junior       17.01%       24,185.3204  4.18%\n",
       "3    senior        8.96%       60,005.0151  0.93%"
      ]
     },
     "execution_count": 12,
     "metadata": {},
     "output_type": "execute_result"
    }
   ],
   "source": [
    "df_resultados = pd.DataFrame({\n",
    "    'tramo': ['equity', 'mezanine', 'junior', 'senior'],\n",
    "    'probabilidad': [equity_loss_prob, mezanine_loss_prob, junior_loss_prob, senior_loss_prob],\n",
    "    'pérdida esperada': expected_loss,\n",
    "    'spread': spread\n",
    "})\n",
    "df_resultados['probabilidad'] = df_resultados['probabilidad'].apply(lambda x: '{:,.2%}'.format(x))\n",
    "df_resultados['spread'] = df_resultados['spread'].apply(lambda x: '{:,.2%}'.format(x))\n",
    "df_resultados"
   ]
  }
 ],
 "metadata": {
  "kernelspec": {
   "display_name": "base",
   "language": "python",
   "name": "python3"
  },
  "language_info": {
   "codemirror_mode": {
    "name": "ipython",
    "version": 3
   },
   "file_extension": ".py",
   "mimetype": "text/x-python",
   "name": "python",
   "nbconvert_exporter": "python",
   "pygments_lexer": "ipython3",
   "version": "3.12.3"
  }
 },
 "nbformat": 4,
 "nbformat_minor": 5
}
