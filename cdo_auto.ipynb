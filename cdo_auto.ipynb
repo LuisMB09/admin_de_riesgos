{
 "cells": [
  {
   "cell_type": "code",
   "execution_count": 1,
   "id": "97e55d6b",
   "metadata": {},
   "outputs": [],
   "source": [
    "import numpy as np\n",
    "import pandas as pd\n",
    "\n",
    "pd.set_option('display.float_format', '{:,.4f}'.format)"
   ]
  },
  {
   "cell_type": "markdown",
   "id": "f02cdc65",
   "metadata": {},
   "source": [
    "# <font color='navy'> Datos"
   ]
  },
  {
   "cell_type": "code",
   "execution_count": 2,
   "id": "0fbb8256",
   "metadata": {},
   "outputs": [],
   "source": [
    "df = pd.read_csv('losses_repaso.csv')\n",
    "ecl =  801_540\n",
    "std =  455_640\n",
    "var =  2_173_1000 \n",
    "cvar =  2_403_500\n",
    "\n",
    "#ecl = 392_510\n",
    "#std = 204_580\n",
    "#var = 989_700\n",
    "#cvar = 1_101_200 \n",
    "\n",
    "ucl = var - ecl"
   ]
  },
  {
   "cell_type": "markdown",
   "id": "22f40c1e",
   "metadata": {},
   "source": [
    "# <font color='navy'> Tranches"
   ]
  },
  {
   "cell_type": "code",
   "execution_count": 3,
   "id": "dea8a09b",
   "metadata": {},
   "outputs": [],
   "source": [
    "port = 10_915_382\n",
    "equity = ecl * 0.5\n",
    "mezanine = ecl * 0.75\n",
    "junior = ecl * 1\n",
    "\n",
    "#port = 5_552_048\n",
    "#equity = ecl\n",
    "#mezanine = ecl * 1.2\n",
    "#junior = ecl * 1.3\n",
    "\n",
    "senior = port - ecl - equity - mezanine - junior"
   ]
  },
  {
   "cell_type": "code",
   "execution_count": 4,
   "id": "d59150df",
   "metadata": {},
   "outputs": [],
   "source": [
    "lim_ecl = ecl\n",
    "lim_equity = ecl + equity\n",
    "lim_mezanine = ecl + equity + mezanine\n",
    "lim_junior = ecl + equity + mezanine + junior\n",
    "lim_senior = ecl + equity + mezanine + junior + senior"
   ]
  },
  {
   "cell_type": "markdown",
   "id": "4f16cfb5",
   "metadata": {},
   "source": [
    "# <font color='navy'> Grupos"
   ]
  },
  {
   "cell_type": "code",
   "execution_count": 5,
   "id": "4f8ddf3d",
   "metadata": {},
   "outputs": [],
   "source": [
    "maximo = df.max().values[0]\n",
    "minimo = df.min().values[0]\n",
    "rango = maximo - minimo"
   ]
  },
  {
   "cell_type": "code",
   "execution_count": 6,
   "id": "d62ccabd",
   "metadata": {},
   "outputs": [],
   "source": [
    "df_grupos = pd.DataFrame({\n",
    "    'grupos': list(range(1, 101)),\n",
    "})\n",
    "df_grupos['perdida'] = minimo + rango/99 * df_grupos.index"
   ]
  },
  {
   "cell_type": "code",
   "execution_count": 7,
   "id": "cab6277b",
   "metadata": {},
   "outputs": [
    {
     "data": {
      "text/html": [
       "<div>\n",
       "<style scoped>\n",
       "    .dataframe tbody tr th:only-of-type {\n",
       "        vertical-align: middle;\n",
       "    }\n",
       "\n",
       "    .dataframe tbody tr th {\n",
       "        vertical-align: top;\n",
       "    }\n",
       "\n",
       "    .dataframe thead th {\n",
       "        text-align: right;\n",
       "    }\n",
       "</style>\n",
       "<table border=\"1\" class=\"dataframe\">\n",
       "  <thead>\n",
       "    <tr style=\"text-align: right;\">\n",
       "      <th></th>\n",
       "      <th>grupos</th>\n",
       "      <th>perdida</th>\n",
       "      <th>frecuencia</th>\n",
       "      <th>prob_marginal</th>\n",
       "      <th>prob_acumulada</th>\n",
       "    </tr>\n",
       "  </thead>\n",
       "  <tbody>\n",
       "    <tr>\n",
       "      <th>0</th>\n",
       "      <td>1</td>\n",
       "      <td>0.0000</td>\n",
       "      <td>20</td>\n",
       "      <td>0.0000</td>\n",
       "      <td>0.0000</td>\n",
       "    </tr>\n",
       "    <tr>\n",
       "      <th>1</th>\n",
       "      <td>2</td>\n",
       "      <td>37,885.7747</td>\n",
       "      <td>277</td>\n",
       "      <td>0.0003</td>\n",
       "      <td>0.0003</td>\n",
       "    </tr>\n",
       "    <tr>\n",
       "      <th>2</th>\n",
       "      <td>3</td>\n",
       "      <td>75,771.5494</td>\n",
       "      <td>1419</td>\n",
       "      <td>0.0014</td>\n",
       "      <td>0.0017</td>\n",
       "    </tr>\n",
       "    <tr>\n",
       "      <th>3</th>\n",
       "      <td>4</td>\n",
       "      <td>113,657.3240</td>\n",
       "      <td>3765</td>\n",
       "      <td>0.0038</td>\n",
       "      <td>0.0055</td>\n",
       "    </tr>\n",
       "    <tr>\n",
       "      <th>4</th>\n",
       "      <td>5</td>\n",
       "      <td>151,543.0987</td>\n",
       "      <td>7417</td>\n",
       "      <td>0.0074</td>\n",
       "      <td>0.0129</td>\n",
       "    </tr>\n",
       "    <tr>\n",
       "      <th>...</th>\n",
       "      <td>...</td>\n",
       "      <td>...</td>\n",
       "      <td>...</td>\n",
       "      <td>...</td>\n",
       "      <td>...</td>\n",
       "    </tr>\n",
       "    <tr>\n",
       "      <th>95</th>\n",
       "      <td>96</td>\n",
       "      <td>3,599,148.5943</td>\n",
       "      <td>0</td>\n",
       "      <td>0.0000</td>\n",
       "      <td>1.0000</td>\n",
       "    </tr>\n",
       "    <tr>\n",
       "      <th>96</th>\n",
       "      <td>97</td>\n",
       "      <td>3,637,034.3690</td>\n",
       "      <td>2</td>\n",
       "      <td>0.0000</td>\n",
       "      <td>1.0000</td>\n",
       "    </tr>\n",
       "    <tr>\n",
       "      <th>97</th>\n",
       "      <td>98</td>\n",
       "      <td>3,674,920.1436</td>\n",
       "      <td>0</td>\n",
       "      <td>0.0000</td>\n",
       "      <td>1.0000</td>\n",
       "    </tr>\n",
       "    <tr>\n",
       "      <th>98</th>\n",
       "      <td>99</td>\n",
       "      <td>3,712,805.9183</td>\n",
       "      <td>2</td>\n",
       "      <td>0.0000</td>\n",
       "      <td>1.0000</td>\n",
       "    </tr>\n",
       "    <tr>\n",
       "      <th>99</th>\n",
       "      <td>100</td>\n",
       "      <td>3,750,691.6930</td>\n",
       "      <td>1</td>\n",
       "      <td>0.0000</td>\n",
       "      <td>1.0000</td>\n",
       "    </tr>\n",
       "  </tbody>\n",
       "</table>\n",
       "<p>100 rows × 5 columns</p>\n",
       "</div>"
      ],
      "text/plain": [
       "    grupos        perdida  frecuencia  prob_marginal  prob_acumulada\n",
       "0        1         0.0000          20         0.0000          0.0000\n",
       "1        2    37,885.7747         277         0.0003          0.0003\n",
       "2        3    75,771.5494        1419         0.0014          0.0017\n",
       "3        4   113,657.3240        3765         0.0038          0.0055\n",
       "4        5   151,543.0987        7417         0.0074          0.0129\n",
       "..     ...            ...         ...            ...             ...\n",
       "95      96 3,599,148.5943           0         0.0000          1.0000\n",
       "96      97 3,637,034.3690           2         0.0000          1.0000\n",
       "97      98 3,674,920.1436           0         0.0000          1.0000\n",
       "98      99 3,712,805.9183           2         0.0000          1.0000\n",
       "99     100 3,750,691.6930           1         0.0000          1.0000\n",
       "\n",
       "[100 rows x 5 columns]"
      ]
     },
     "execution_count": 7,
     "metadata": {},
     "output_type": "execute_result"
    }
   ],
   "source": [
    "losses = df['losses'].to_numpy()\n",
    "bins = df_grupos['perdida'].to_numpy()\n",
    "\n",
    "frecuencias = []\n",
    "\n",
    "for i, limite in enumerate(bins):\n",
    "    if i == 0:\n",
    "        count = np.sum(losses <= limite)\n",
    "    else:\n",
    "        count = np.sum((losses > bins[i-1]) & (losses <= limite))\n",
    "    frecuencias.append(count)\n",
    "\n",
    "df_grupos['frecuencia'] = frecuencias\n",
    "df_grupos['prob_marginal'] = df_grupos['frecuencia'] / df_grupos['frecuencia'].sum()\n",
    "df_grupos['prob_acumulada'] = df_grupos['prob_marginal'].cumsum()\n",
    "df_grupos"
   ]
  },
  {
   "cell_type": "markdown",
   "id": "0744c68b",
   "metadata": {},
   "source": [
    "# <font color='navy'> Cortes"
   ]
  },
  {
   "cell_type": "code",
   "execution_count": 8,
   "id": "44142864",
   "metadata": {},
   "outputs": [],
   "source": [
    "df_filtered = df_grupos[df_grupos['perdida'] < lim_ecl]\n",
    "df_extra = df_grupos[df_grupos['perdida'] >= lim_ecl].head(1)\n",
    "df_ecl = pd.concat([df_filtered, df_extra])\n",
    "\n",
    "df_filtered_equity = df_grupos[(df_grupos['perdida'] > df_ecl['perdida'].iloc[-1]) & (df_grupos['perdida'] < lim_equity)]\n",
    "df_extra_equity = df_grupos[df_grupos['perdida'] >= lim_equity].head(1)\n",
    "df_equity = pd.concat([df_filtered_equity, df_extra_equity])\n",
    "\n",
    "df_filtered_mezanine = df_grupos[(df_grupos['perdida'] > df_equity['perdida'].iloc[-1]) & (df_grupos['perdida'] < lim_mezanine)]\n",
    "df_extra_mezanine = df_grupos[df_grupos['perdida'] >= lim_mezanine].head(1)\n",
    "df_mezanine = pd.concat([df_filtered_mezanine, df_extra_mezanine])\n",
    "\n",
    "df_filtered_junior = df_grupos[(df_grupos['perdida'] > df_mezanine['perdida'].iloc[-1]) & (df_grupos['perdida'] < lim_junior)]\n",
    "df_extra_junior = df_grupos[df_grupos['perdida'] >= lim_junior].head(1)\n",
    "df_junior = pd.concat([df_filtered_junior, df_extra_junior])\n",
    "\n",
    "df_filtered_senior = df_grupos[(df_grupos['perdida'] > df_junior['perdida'].iloc[-1]) & (df_grupos['perdida'] < lim_senior)]\n",
    "df_extra_senior = df_grupos[df_grupos['perdida'] >= lim_senior].head(1)\n",
    "df_senior = pd.concat([df_filtered_senior, df_extra_senior])"
   ]
  },
  {
   "cell_type": "markdown",
   "id": "6538837f",
   "metadata": {},
   "source": [
    "# <font color='navy'> Métricas"
   ]
  },
  {
   "cell_type": "code",
   "execution_count": 9,
   "id": "1970b1e0",
   "metadata": {},
   "outputs": [],
   "source": [
    "equity_loss_prob = 1 - df_equity['prob_acumulada'].iloc[0]\n",
    "mezanine_loss_prob = 1 - df_mezanine['prob_acumulada'].iloc[0]\n",
    "junior_loss_prob = 1 - df_junior['prob_acumulada'].iloc[0]\n",
    "\n",
    "if len(df_senior) > 0:\n",
    "    senior_loss_prob = 1 - df_senior['prob_acumulada'].iloc[0]\n",
    "else:\n",
    "    senior_loss_prob = 0"
   ]
  },
  {
   "cell_type": "code",
   "execution_count": 10,
   "id": "105bcc77",
   "metadata": {},
   "outputs": [],
   "source": [
    "equity_loss = np.sum((df_equity['perdida'] - df_ecl['perdida'].iloc[-1]) * df_equity['prob_marginal'])\n",
    "mezanine_loss = np.sum((df_mezanine['perdida'] - df_equity['perdida'].iloc[-1]) * df_mezanine['prob_marginal'])\n",
    "junior_loss = np.sum((df_junior['perdida'] - df_mezanine['perdida'].iloc[-1]) * df_junior['prob_marginal'])\n",
    "senior_loss = np.sum((df_senior['perdida'] - df_junior['perdida'].iloc[-1]) * df_senior['prob_marginal'])"
   ]
  },
  {
   "cell_type": "code",
   "execution_count": 11,
   "id": "f5af3520",
   "metadata": {},
   "outputs": [],
   "source": [
    "expected_loss = np.array([equity_loss, mezanine_loss, junior_loss, senior_loss])\n",
    "port_values = np.array([equity, mezanine, junior, senior])\n",
    "spread = expected_loss / port_values"
   ]
  },
  {
   "cell_type": "code",
   "execution_count": 12,
   "id": "825b6feb",
   "metadata": {},
   "outputs": [
    {
     "data": {
      "text/html": [
       "<div>\n",
       "<style scoped>\n",
       "    .dataframe tbody tr th:only-of-type {\n",
       "        vertical-align: middle;\n",
       "    }\n",
       "\n",
       "    .dataframe tbody tr th {\n",
       "        vertical-align: top;\n",
       "    }\n",
       "\n",
       "    .dataframe thead th {\n",
       "        text-align: right;\n",
       "    }\n",
       "</style>\n",
       "<table border=\"1\" class=\"dataframe\">\n",
       "  <thead>\n",
       "    <tr style=\"text-align: right;\">\n",
       "      <th></th>\n",
       "      <th>tramo</th>\n",
       "      <th>probabilidad</th>\n",
       "      <th>pérdida esperada</th>\n",
       "      <th>spread</th>\n",
       "    </tr>\n",
       "  </thead>\n",
       "  <tbody>\n",
       "    <tr>\n",
       "      <th>0</th>\n",
       "      <td>equity</td>\n",
       "      <td>35.85%</td>\n",
       "      <td>39,746.2314</td>\n",
       "      <td>9.92%</td>\n",
       "    </tr>\n",
       "    <tr>\n",
       "      <th>1</th>\n",
       "      <td>mezanine</td>\n",
       "      <td>16.06%</td>\n",
       "      <td>36,439.7883</td>\n",
       "      <td>6.06%</td>\n",
       "    </tr>\n",
       "    <tr>\n",
       "      <th>2</th>\n",
       "      <td>junior</td>\n",
       "      <td>3.11%</td>\n",
       "      <td>8,794.1597</td>\n",
       "      <td>1.10%</td>\n",
       "    </tr>\n",
       "    <tr>\n",
       "      <th>3</th>\n",
       "      <td>senior</td>\n",
       "      <td>0.12%</td>\n",
       "      <td>289.1442</td>\n",
       "      <td>0.00%</td>\n",
       "    </tr>\n",
       "  </tbody>\n",
       "</table>\n",
       "</div>"
      ],
      "text/plain": [
       "      tramo probabilidad  pérdida esperada spread\n",
       "0    equity       35.85%       39,746.2314  9.92%\n",
       "1  mezanine       16.06%       36,439.7883  6.06%\n",
       "2    junior        3.11%        8,794.1597  1.10%\n",
       "3    senior        0.12%          289.1442  0.00%"
      ]
     },
     "execution_count": 12,
     "metadata": {},
     "output_type": "execute_result"
    }
   ],
   "source": [
    "df_resultados = pd.DataFrame({\n",
    "    'tramo': ['equity', 'mezanine', 'junior', 'senior'],\n",
    "    'probabilidad': [equity_loss_prob, mezanine_loss_prob, junior_loss_prob, senior_loss_prob],\n",
    "    'pérdida esperada': expected_loss,\n",
    "    'spread': spread\n",
    "})\n",
    "df_resultados['probabilidad'] = df_resultados['probabilidad'].apply(lambda x: '{:,.2%}'.format(x))\n",
    "df_resultados['spread'] = df_resultados['spread'].apply(lambda x: '{:,.2%}'.format(x))\n",
    "df_resultados"
   ]
  }
 ],
 "metadata": {
  "kernelspec": {
   "display_name": "base",
   "language": "python",
   "name": "python3"
  },
  "language_info": {
   "codemirror_mode": {
    "name": "ipython",
    "version": 3
   },
   "file_extension": ".py",
   "mimetype": "text/x-python",
   "name": "python",
   "nbconvert_exporter": "python",
   "pygments_lexer": "ipython3",
   "version": "3.12.3"
  }
 },
 "nbformat": 4,
 "nbformat_minor": 5
}
